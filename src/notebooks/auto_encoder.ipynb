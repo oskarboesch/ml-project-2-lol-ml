{
 "cells": [
  {
   "cell_type": "code",
   "execution_count": 161,
   "metadata": {},
   "outputs": [],
   "source": [
    "import sys\n",
    "sys.path.append(\"../utils\")\n",
    "from utils import load_data\n",
    "import numpy as np\n",
    "import pandas as pd\n",
    "from sklearn.model_selection import train_test_split\n",
    "import matplotlib.pyplot as plt\n",
    "\n",
    "# Import Keras for implementing autoencoders\n",
    "import keras\n",
    "from keras.models import Sequential\n",
    "from keras.layers import Input, Dense\n",
    "from pathlib import Path\n",
    "from scipy.stats import spearmanr\n",
    "from sklearn.linear_model import LinearRegression\n",
    "from sklearn.metrics import mean_squared_error, r2_score"
   ]
  },
  {
   "cell_type": "code",
   "execution_count": 162,
   "metadata": {},
   "outputs": [],
   "source": [
    "train_data, test_data, train_target = load_data(raw = False, categorical=False)"
   ]
  },
  {
   "cell_type": "code",
   "execution_count": 163,
   "metadata": {},
   "outputs": [
    {
     "name": "stdout",
     "output_type": "stream",
     "text": [
      "Number of cell lines:  742\n"
     ]
    }
   ],
   "source": [
    "nb_cell_lines = train_data.shape[0]\n",
    "print(\"Number of cell lines: \", nb_cell_lines)"
   ]
  },
  {
   "cell_type": "code",
   "execution_count": 164,
   "metadata": {},
   "outputs": [],
   "source": [
    "# Split the data \n",
    "X_train, X_test, y_train, y_test = train_test_split(train_data, train_target, test_size=0.2, random_state=42)"
   ]
  },
  {
   "cell_type": "code",
   "execution_count": 26,
   "metadata": {},
   "outputs": [
    {
     "data": {
      "text/html": [
       "<pre style=\"white-space:pre;overflow-x:auto;line-height:normal;font-family:Menlo,'DejaVu Sans Mono',consolas,'Courier New',monospace\"><span style=\"font-weight: bold\">Model: \"functional_6\"</span>\n",
       "</pre>\n"
      ],
      "text/plain": [
       "\u001b[1mModel: \"functional_6\"\u001b[0m\n"
      ]
     },
     "metadata": {},
     "output_type": "display_data"
    },
    {
     "data": {
      "text/html": [
       "<pre style=\"white-space:pre;overflow-x:auto;line-height:normal;font-family:Menlo,'DejaVu Sans Mono',consolas,'Courier New',monospace\">┏━━━━━━━━━━━━━━━━━━━━━━━━━━━━━━━━━┳━━━━━━━━━━━━━━━━━━━━━━━━┳━━━━━━━━━━━━━━━┓\n",
       "┃<span style=\"font-weight: bold\"> Layer (type)                    </span>┃<span style=\"font-weight: bold\"> Output Shape           </span>┃<span style=\"font-weight: bold\">       Param # </span>┃\n",
       "┡━━━━━━━━━━━━━━━━━━━━━━━━━━━━━━━━━╇━━━━━━━━━━━━━━━━━━━━━━━━╇━━━━━━━━━━━━━━━┩\n",
       "│ input_layer_3 (<span style=\"color: #0087ff; text-decoration-color: #0087ff\">InputLayer</span>)      │ (<span style=\"color: #00d7ff; text-decoration-color: #00d7ff\">None</span>, <span style=\"color: #00af00; text-decoration-color: #00af00\">19907</span>)          │             <span style=\"color: #00af00; text-decoration-color: #00af00\">0</span> │\n",
       "├─────────────────────────────────┼────────────────────────┼───────────────┤\n",
       "│ dense_6 (<span style=\"color: #0087ff; text-decoration-color: #0087ff\">Dense</span>)                 │ (<span style=\"color: #00d7ff; text-decoration-color: #00d7ff\">None</span>, <span style=\"color: #00af00; text-decoration-color: #00af00\">50</span>)             │       <span style=\"color: #00af00; text-decoration-color: #00af00\">995,400</span> │\n",
       "├─────────────────────────────────┼────────────────────────┼───────────────┤\n",
       "│ dense_7 (<span style=\"color: #0087ff; text-decoration-color: #0087ff\">Dense</span>)                 │ (<span style=\"color: #00d7ff; text-decoration-color: #00d7ff\">None</span>, <span style=\"color: #00af00; text-decoration-color: #00af00\">19907</span>)          │     <span style=\"color: #00af00; text-decoration-color: #00af00\">1,015,257</span> │\n",
       "└─────────────────────────────────┴────────────────────────┴───────────────┘\n",
       "</pre>\n"
      ],
      "text/plain": [
       "┏━━━━━━━━━━━━━━━━━━━━━━━━━━━━━━━━━┳━━━━━━━━━━━━━━━━━━━━━━━━┳━━━━━━━━━━━━━━━┓\n",
       "┃\u001b[1m \u001b[0m\u001b[1mLayer (type)                   \u001b[0m\u001b[1m \u001b[0m┃\u001b[1m \u001b[0m\u001b[1mOutput Shape          \u001b[0m\u001b[1m \u001b[0m┃\u001b[1m \u001b[0m\u001b[1m      Param #\u001b[0m\u001b[1m \u001b[0m┃\n",
       "┡━━━━━━━━━━━━━━━━━━━━━━━━━━━━━━━━━╇━━━━━━━━━━━━━━━━━━━━━━━━╇━━━━━━━━━━━━━━━┩\n",
       "│ input_layer_3 (\u001b[38;5;33mInputLayer\u001b[0m)      │ (\u001b[38;5;45mNone\u001b[0m, \u001b[38;5;34m19907\u001b[0m)          │             \u001b[38;5;34m0\u001b[0m │\n",
       "├─────────────────────────────────┼────────────────────────┼───────────────┤\n",
       "│ dense_6 (\u001b[38;5;33mDense\u001b[0m)                 │ (\u001b[38;5;45mNone\u001b[0m, \u001b[38;5;34m50\u001b[0m)             │       \u001b[38;5;34m995,400\u001b[0m │\n",
       "├─────────────────────────────────┼────────────────────────┼───────────────┤\n",
       "│ dense_7 (\u001b[38;5;33mDense\u001b[0m)                 │ (\u001b[38;5;45mNone\u001b[0m, \u001b[38;5;34m19907\u001b[0m)          │     \u001b[38;5;34m1,015,257\u001b[0m │\n",
       "└─────────────────────────────────┴────────────────────────┴───────────────┘\n"
      ]
     },
     "metadata": {},
     "output_type": "display_data"
    },
    {
     "data": {
      "text/html": [
       "<pre style=\"white-space:pre;overflow-x:auto;line-height:normal;font-family:Menlo,'DejaVu Sans Mono',consolas,'Courier New',monospace\"><span style=\"font-weight: bold\"> Total params: </span><span style=\"color: #00af00; text-decoration-color: #00af00\">2,010,657</span> (7.67 MB)\n",
       "</pre>\n"
      ],
      "text/plain": [
       "\u001b[1m Total params: \u001b[0m\u001b[38;5;34m2,010,657\u001b[0m (7.67 MB)\n"
      ]
     },
     "metadata": {},
     "output_type": "display_data"
    },
    {
     "data": {
      "text/html": [
       "<pre style=\"white-space:pre;overflow-x:auto;line-height:normal;font-family:Menlo,'DejaVu Sans Mono',consolas,'Courier New',monospace\"><span style=\"font-weight: bold\"> Trainable params: </span><span style=\"color: #00af00; text-decoration-color: #00af00\">2,010,657</span> (7.67 MB)\n",
       "</pre>\n"
      ],
      "text/plain": [
       "\u001b[1m Trainable params: \u001b[0m\u001b[38;5;34m2,010,657\u001b[0m (7.67 MB)\n"
      ]
     },
     "metadata": {},
     "output_type": "display_data"
    },
    {
     "data": {
      "text/html": [
       "<pre style=\"white-space:pre;overflow-x:auto;line-height:normal;font-family:Menlo,'DejaVu Sans Mono',consolas,'Courier New',monospace\"><span style=\"font-weight: bold\"> Non-trainable params: </span><span style=\"color: #00af00; text-decoration-color: #00af00\">0</span> (0.00 B)\n",
       "</pre>\n"
      ],
      "text/plain": [
       "\u001b[1m Non-trainable params: \u001b[0m\u001b[38;5;34m0\u001b[0m (0.00 B)\n"
      ]
     },
     "metadata": {},
     "output_type": "display_data"
    }
   ],
   "source": [
    "# Define the autoencoder architecture\n",
    "input_dim = X_train.shape[1]\n",
    "encoding_dim = 50\n",
    "\n",
    "# Set the encoding dimension\n",
    "input_layer = keras.layers.Input(shape=(input_dim,))\n",
    "encoder = keras.layers.Dense(encoding_dim, activation=\"relu\")(input_layer)\n",
    "decoder = keras.layers.Dense(input_dim, activation=\"sigmoid\")(encoder)\n",
    "autoencoder = keras.Model(inputs=input_layer, outputs=decoder)\n",
    "\n",
    "# Compile the autoencoder\n",
    "autoencoder.compile(optimizer='adam', loss='mse')\n",
    "\n",
    "# Summary of the autoencoder architecture\n",
    "autoencoder.summary()"
   ]
  },
  {
   "cell_type": "code",
   "execution_count": 27,
   "metadata": {},
   "outputs": [
    {
     "name": "stdout",
     "output_type": "stream",
     "text": [
      "Epoch 1/100\n",
      "\u001b[1m19/19\u001b[0m \u001b[32m━━━━━━━━━━━━━━━━━━━━\u001b[0m\u001b[37m\u001b[0m \u001b[1m1s\u001b[0m 50ms/step - loss: 0.1134 - val_loss: 0.0183\n",
      "Epoch 2/100\n",
      "\u001b[1m19/19\u001b[0m \u001b[32m━━━━━━━━━━━━━━━━━━━━\u001b[0m\u001b[37m\u001b[0m \u001b[1m1s\u001b[0m 38ms/step - loss: 0.0176 - val_loss: 0.0152\n",
      "Epoch 3/100\n",
      "\u001b[1m19/19\u001b[0m \u001b[32m━━━━━━━━━━━━━━━━━━━━\u001b[0m\u001b[37m\u001b[0m \u001b[1m1s\u001b[0m 28ms/step - loss: 0.0153 - val_loss: 0.0137\n",
      "Epoch 4/100\n",
      "\u001b[1m19/19\u001b[0m \u001b[32m━━━━━━━━━━━━━━━━━━━━\u001b[0m\u001b[37m\u001b[0m \u001b[1m1s\u001b[0m 29ms/step - loss: 0.0134 - val_loss: 0.0128\n",
      "Epoch 5/100\n",
      "\u001b[1m19/19\u001b[0m \u001b[32m━━━━━━━━━━━━━━━━━━━━\u001b[0m\u001b[37m\u001b[0m \u001b[1m1s\u001b[0m 30ms/step - loss: 0.0127 - val_loss: 0.0121\n",
      "Epoch 6/100\n",
      "\u001b[1m19/19\u001b[0m \u001b[32m━━━━━━━━━━━━━━━━━━━━\u001b[0m\u001b[37m\u001b[0m \u001b[1m1s\u001b[0m 33ms/step - loss: 0.0120 - val_loss: 0.0116\n",
      "Epoch 7/100\n",
      "\u001b[1m19/19\u001b[0m \u001b[32m━━━━━━━━━━━━━━━━━━━━\u001b[0m\u001b[37m\u001b[0m \u001b[1m1s\u001b[0m 28ms/step - loss: 0.0116 - val_loss: 0.0110\n",
      "Epoch 8/100\n",
      "\u001b[1m19/19\u001b[0m \u001b[32m━━━━━━━━━━━━━━━━━━━━\u001b[0m\u001b[37m\u001b[0m \u001b[1m1s\u001b[0m 31ms/step - loss: 0.0108 - val_loss: 0.0105\n",
      "Epoch 9/100\n",
      "\u001b[1m19/19\u001b[0m \u001b[32m━━━━━━━━━━━━━━━━━━━━\u001b[0m\u001b[37m\u001b[0m \u001b[1m1s\u001b[0m 33ms/step - loss: 0.0104 - val_loss: 0.0101\n",
      "Epoch 10/100\n",
      "\u001b[1m19/19\u001b[0m \u001b[32m━━━━━━━━━━━━━━━━━━━━\u001b[0m\u001b[37m\u001b[0m \u001b[1m1s\u001b[0m 31ms/step - loss: 0.0100 - val_loss: 0.0097\n",
      "Epoch 11/100\n",
      "\u001b[1m19/19\u001b[0m \u001b[32m━━━━━━━━━━━━━━━━━━━━\u001b[0m\u001b[37m\u001b[0m \u001b[1m1s\u001b[0m 33ms/step - loss: 0.0096 - val_loss: 0.0094\n",
      "Epoch 12/100\n",
      "\u001b[1m19/19\u001b[0m \u001b[32m━━━━━━━━━━━━━━━━━━━━\u001b[0m\u001b[37m\u001b[0m \u001b[1m1s\u001b[0m 33ms/step - loss: 0.0092 - val_loss: 0.0090\n",
      "Epoch 13/100\n",
      "\u001b[1m19/19\u001b[0m \u001b[32m━━━━━━━━━━━━━━━━━━━━\u001b[0m\u001b[37m\u001b[0m \u001b[1m1s\u001b[0m 30ms/step - loss: 0.0088 - val_loss: 0.0089\n",
      "Epoch 14/100\n",
      "\u001b[1m19/19\u001b[0m \u001b[32m━━━━━━━━━━━━━━━━━━━━\u001b[0m\u001b[37m\u001b[0m \u001b[1m1s\u001b[0m 32ms/step - loss: 0.0085 - val_loss: 0.0088\n",
      "Epoch 15/100\n",
      "\u001b[1m19/19\u001b[0m \u001b[32m━━━━━━━━━━━━━━━━━━━━\u001b[0m\u001b[37m\u001b[0m \u001b[1m1s\u001b[0m 29ms/step - loss: 0.0087 - val_loss: 0.0087\n",
      "Epoch 16/100\n",
      "\u001b[1m19/19\u001b[0m \u001b[32m━━━━━━━━━━━━━━━━━━━━\u001b[0m\u001b[37m\u001b[0m \u001b[1m1s\u001b[0m 37ms/step - loss: 0.0082 - val_loss: 0.0086\n",
      "Epoch 17/100\n",
      "\u001b[1m19/19\u001b[0m \u001b[32m━━━━━━━━━━━━━━━━━━━━\u001b[0m\u001b[37m\u001b[0m \u001b[1m1s\u001b[0m 33ms/step - loss: 0.0082 - val_loss: 0.0085\n",
      "Epoch 18/100\n",
      "\u001b[1m19/19\u001b[0m \u001b[32m━━━━━━━━━━━━━━━━━━━━\u001b[0m\u001b[37m\u001b[0m \u001b[1m1s\u001b[0m 35ms/step - loss: 0.0081 - val_loss: 0.0084\n",
      "Epoch 19/100\n",
      "\u001b[1m19/19\u001b[0m \u001b[32m━━━━━━━━━━━━━━━━━━━━\u001b[0m\u001b[37m\u001b[0m \u001b[1m1s\u001b[0m 32ms/step - loss: 0.0078 - val_loss: 0.0083\n",
      "Epoch 20/100\n",
      "\u001b[1m19/19\u001b[0m \u001b[32m━━━━━━━━━━━━━━━━━━━━\u001b[0m\u001b[37m\u001b[0m \u001b[1m1s\u001b[0m 30ms/step - loss: 0.0079 - val_loss: 0.0082\n",
      "Epoch 21/100\n",
      "\u001b[1m19/19\u001b[0m \u001b[32m━━━━━━━━━━━━━━━━━━━━\u001b[0m\u001b[37m\u001b[0m \u001b[1m1s\u001b[0m 35ms/step - loss: 0.0079 - val_loss: 0.0082\n",
      "Epoch 22/100\n",
      "\u001b[1m19/19\u001b[0m \u001b[32m━━━━━━━━━━━━━━━━━━━━\u001b[0m\u001b[37m\u001b[0m \u001b[1m1s\u001b[0m 33ms/step - loss: 0.0078 - val_loss: 0.0081\n",
      "Epoch 23/100\n",
      "\u001b[1m19/19\u001b[0m \u001b[32m━━━━━━━━━━━━━━━━━━━━\u001b[0m\u001b[37m\u001b[0m \u001b[1m1s\u001b[0m 30ms/step - loss: 0.0077 - val_loss: 0.0080\n",
      "Epoch 24/100\n",
      "\u001b[1m19/19\u001b[0m \u001b[32m━━━━━━━━━━━━━━━━━━━━\u001b[0m\u001b[37m\u001b[0m \u001b[1m1s\u001b[0m 30ms/step - loss: 0.0076 - val_loss: 0.0080\n",
      "Epoch 25/100\n",
      "\u001b[1m19/19\u001b[0m \u001b[32m━━━━━━━━━━━━━━━━━━━━\u001b[0m\u001b[37m\u001b[0m \u001b[1m1s\u001b[0m 27ms/step - loss: 0.0077 - val_loss: 0.0079\n",
      "Epoch 26/100\n",
      "\u001b[1m19/19\u001b[0m \u001b[32m━━━━━━━━━━━━━━━━━━━━\u001b[0m\u001b[37m\u001b[0m \u001b[1m1s\u001b[0m 28ms/step - loss: 0.0074 - val_loss: 0.0079\n",
      "Epoch 27/100\n",
      "\u001b[1m19/19\u001b[0m \u001b[32m━━━━━━━━━━━━━━━━━━━━\u001b[0m\u001b[37m\u001b[0m \u001b[1m1s\u001b[0m 28ms/step - loss: 0.0075 - val_loss: 0.0078\n",
      "Epoch 28/100\n",
      "\u001b[1m19/19\u001b[0m \u001b[32m━━━━━━━━━━━━━━━━━━━━\u001b[0m\u001b[37m\u001b[0m \u001b[1m1s\u001b[0m 28ms/step - loss: 0.0073 - val_loss: 0.0078\n",
      "Epoch 29/100\n",
      "\u001b[1m19/19\u001b[0m \u001b[32m━━━━━━━━━━━━━━━━━━━━\u001b[0m\u001b[37m\u001b[0m \u001b[1m1s\u001b[0m 31ms/step - loss: 0.0072 - val_loss: 0.0077\n",
      "Epoch 30/100\n",
      "\u001b[1m19/19\u001b[0m \u001b[32m━━━━━━━━━━━━━━━━━━━━\u001b[0m\u001b[37m\u001b[0m \u001b[1m1s\u001b[0m 28ms/step - loss: 0.0073 - val_loss: 0.0077\n",
      "Epoch 31/100\n",
      "\u001b[1m19/19\u001b[0m \u001b[32m━━━━━━━━━━━━━━━━━━━━\u001b[0m\u001b[37m\u001b[0m \u001b[1m1s\u001b[0m 36ms/step - loss: 0.0070 - val_loss: 0.0076\n",
      "Epoch 32/100\n",
      "\u001b[1m19/19\u001b[0m \u001b[32m━━━━━━━━━━━━━━━━━━━━\u001b[0m\u001b[37m\u001b[0m \u001b[1m1s\u001b[0m 35ms/step - loss: 0.0071 - val_loss: 0.0076\n",
      "Epoch 33/100\n",
      "\u001b[1m19/19\u001b[0m \u001b[32m━━━━━━━━━━━━━━━━━━━━\u001b[0m\u001b[37m\u001b[0m \u001b[1m1s\u001b[0m 31ms/step - loss: 0.0069 - val_loss: 0.0076\n",
      "Epoch 34/100\n",
      "\u001b[1m19/19\u001b[0m \u001b[32m━━━━━━━━━━━━━━━━━━━━\u001b[0m\u001b[37m\u001b[0m \u001b[1m1s\u001b[0m 30ms/step - loss: 0.0071 - val_loss: 0.0075\n",
      "Epoch 35/100\n",
      "\u001b[1m19/19\u001b[0m \u001b[32m━━━━━━━━━━━━━━━━━━━━\u001b[0m\u001b[37m\u001b[0m \u001b[1m1s\u001b[0m 29ms/step - loss: 0.0068 - val_loss: 0.0075\n",
      "Epoch 36/100\n",
      "\u001b[1m19/19\u001b[0m \u001b[32m━━━━━━━━━━━━━━━━━━━━\u001b[0m\u001b[37m\u001b[0m \u001b[1m1s\u001b[0m 35ms/step - loss: 0.0067 - val_loss: 0.0075\n",
      "Epoch 37/100\n",
      "\u001b[1m19/19\u001b[0m \u001b[32m━━━━━━━━━━━━━━━━━━━━\u001b[0m\u001b[37m\u001b[0m \u001b[1m1s\u001b[0m 33ms/step - loss: 0.0069 - val_loss: 0.0074\n",
      "Epoch 38/100\n",
      "\u001b[1m19/19\u001b[0m \u001b[32m━━━━━━━━━━━━━━━━━━━━\u001b[0m\u001b[37m\u001b[0m \u001b[1m1s\u001b[0m 32ms/step - loss: 0.0067 - val_loss: 0.0074\n",
      "Epoch 39/100\n",
      "\u001b[1m19/19\u001b[0m \u001b[32m━━━━━━━━━━━━━━━━━━━━\u001b[0m\u001b[37m\u001b[0m \u001b[1m1s\u001b[0m 30ms/step - loss: 0.0066 - val_loss: 0.0074\n",
      "Epoch 40/100\n",
      "\u001b[1m19/19\u001b[0m \u001b[32m━━━━━━━━━━━━━━━━━━━━\u001b[0m\u001b[37m\u001b[0m \u001b[1m1s\u001b[0m 43ms/step - loss: 0.0068 - val_loss: 0.0074\n",
      "Epoch 41/100\n",
      "\u001b[1m19/19\u001b[0m \u001b[32m━━━━━━━━━━━━━━━━━━━━\u001b[0m\u001b[37m\u001b[0m \u001b[1m1s\u001b[0m 38ms/step - loss: 0.0065 - val_loss: 0.0073\n",
      "Epoch 42/100\n",
      "\u001b[1m19/19\u001b[0m \u001b[32m━━━━━━━━━━━━━━━━━━━━\u001b[0m\u001b[37m\u001b[0m \u001b[1m1s\u001b[0m 30ms/step - loss: 0.0067 - val_loss: 0.0073\n",
      "Epoch 43/100\n",
      "\u001b[1m19/19\u001b[0m \u001b[32m━━━━━━━━━━━━━━━━━━━━\u001b[0m\u001b[37m\u001b[0m \u001b[1m1s\u001b[0m 32ms/step - loss: 0.0066 - val_loss: 0.0073\n",
      "Epoch 44/100\n",
      "\u001b[1m19/19\u001b[0m \u001b[32m━━━━━━━━━━━━━━━━━━━━\u001b[0m\u001b[37m\u001b[0m \u001b[1m1s\u001b[0m 33ms/step - loss: 0.0064 - val_loss: 0.0073\n",
      "Epoch 45/100\n",
      "\u001b[1m19/19\u001b[0m \u001b[32m━━━━━━━━━━━━━━━━━━━━\u001b[0m\u001b[37m\u001b[0m \u001b[1m1s\u001b[0m 33ms/step - loss: 0.0065 - val_loss: 0.0072\n",
      "Epoch 46/100\n",
      "\u001b[1m19/19\u001b[0m \u001b[32m━━━━━━━━━━━━━━━━━━━━\u001b[0m\u001b[37m\u001b[0m \u001b[1m1s\u001b[0m 36ms/step - loss: 0.0065 - val_loss: 0.0072\n",
      "Epoch 47/100\n",
      "\u001b[1m19/19\u001b[0m \u001b[32m━━━━━━━━━━━━━━━━━━━━\u001b[0m\u001b[37m\u001b[0m \u001b[1m1s\u001b[0m 37ms/step - loss: 0.0063 - val_loss: 0.0072\n",
      "Epoch 48/100\n",
      "\u001b[1m19/19\u001b[0m \u001b[32m━━━━━━━━━━━━━━━━━━━━\u001b[0m\u001b[37m\u001b[0m \u001b[1m1s\u001b[0m 38ms/step - loss: 0.0063 - val_loss: 0.0072\n",
      "Epoch 49/100\n",
      "\u001b[1m19/19\u001b[0m \u001b[32m━━━━━━━━━━━━━━━━━━━━\u001b[0m\u001b[37m\u001b[0m \u001b[1m1s\u001b[0m 31ms/step - loss: 0.0063 - val_loss: 0.0071\n",
      "Epoch 50/100\n",
      "\u001b[1m19/19\u001b[0m \u001b[32m━━━━━━━━━━━━━━━━━━━━\u001b[0m\u001b[37m\u001b[0m \u001b[1m1s\u001b[0m 31ms/step - loss: 0.0061 - val_loss: 0.0071\n",
      "Epoch 51/100\n",
      "\u001b[1m19/19\u001b[0m \u001b[32m━━━━━━━━━━━━━━━━━━━━\u001b[0m\u001b[37m\u001b[0m \u001b[1m1s\u001b[0m 32ms/step - loss: 0.0062 - val_loss: 0.0071\n",
      "Epoch 52/100\n",
      "\u001b[1m19/19\u001b[0m \u001b[32m━━━━━━━━━━━━━━━━━━━━\u001b[0m\u001b[37m\u001b[0m \u001b[1m1s\u001b[0m 34ms/step - loss: 0.0062 - val_loss: 0.0071\n",
      "Epoch 53/100\n",
      "\u001b[1m19/19\u001b[0m \u001b[32m━━━━━━━━━━━━━━━━━━━━\u001b[0m\u001b[37m\u001b[0m \u001b[1m1s\u001b[0m 41ms/step - loss: 0.0062 - val_loss: 0.0070\n",
      "Epoch 54/100\n",
      "\u001b[1m19/19\u001b[0m \u001b[32m━━━━━━━━━━━━━━━━━━━━\u001b[0m\u001b[37m\u001b[0m \u001b[1m1s\u001b[0m 30ms/step - loss: 0.0061 - val_loss: 0.0070\n",
      "Epoch 55/100\n",
      "\u001b[1m19/19\u001b[0m \u001b[32m━━━━━━━━━━━━━━━━━━━━\u001b[0m\u001b[37m\u001b[0m \u001b[1m1s\u001b[0m 37ms/step - loss: 0.0061 - val_loss: 0.0069\n",
      "Epoch 56/100\n",
      "\u001b[1m19/19\u001b[0m \u001b[32m━━━━━━━━━━━━━━━━━━━━\u001b[0m\u001b[37m\u001b[0m \u001b[1m1s\u001b[0m 33ms/step - loss: 0.0059 - val_loss: 0.0069\n",
      "Epoch 57/100\n",
      "\u001b[1m19/19\u001b[0m \u001b[32m━━━━━━━━━━━━━━━━━━━━\u001b[0m\u001b[37m\u001b[0m \u001b[1m1s\u001b[0m 35ms/step - loss: 0.0058 - val_loss: 0.0069\n",
      "Epoch 58/100\n",
      "\u001b[1m19/19\u001b[0m \u001b[32m━━━━━━━━━━━━━━━━━━━━\u001b[0m\u001b[37m\u001b[0m \u001b[1m1s\u001b[0m 33ms/step - loss: 0.0058 - val_loss: 0.0069\n",
      "Epoch 59/100\n",
      "\u001b[1m19/19\u001b[0m \u001b[32m━━━━━━━━━━━━━━━━━━━━\u001b[0m\u001b[37m\u001b[0m \u001b[1m1s\u001b[0m 31ms/step - loss: 0.0059 - val_loss: 0.0069\n",
      "Epoch 60/100\n",
      "\u001b[1m19/19\u001b[0m \u001b[32m━━━━━━━━━━━━━━━━━━━━\u001b[0m\u001b[37m\u001b[0m \u001b[1m1s\u001b[0m 35ms/step - loss: 0.0059 - val_loss: 0.0068\n",
      "Epoch 61/100\n",
      "\u001b[1m19/19\u001b[0m \u001b[32m━━━━━━━━━━━━━━━━━━━━\u001b[0m\u001b[37m\u001b[0m \u001b[1m1s\u001b[0m 46ms/step - loss: 0.0058 - val_loss: 0.0068\n",
      "Epoch 62/100\n",
      "\u001b[1m19/19\u001b[0m \u001b[32m━━━━━━━━━━━━━━━━━━━━\u001b[0m\u001b[37m\u001b[0m \u001b[1m1s\u001b[0m 32ms/step - loss: 0.0057 - val_loss: 0.0068\n",
      "Epoch 63/100\n",
      "\u001b[1m19/19\u001b[0m \u001b[32m━━━━━━━━━━━━━━━━━━━━\u001b[0m\u001b[37m\u001b[0m \u001b[1m1s\u001b[0m 31ms/step - loss: 0.0058 - val_loss: 0.0068\n",
      "Epoch 64/100\n",
      "\u001b[1m19/19\u001b[0m \u001b[32m━━━━━━━━━━━━━━━━━━━━\u001b[0m\u001b[37m\u001b[0m \u001b[1m1s\u001b[0m 27ms/step - loss: 0.0056 - val_loss: 0.0068\n",
      "Epoch 65/100\n",
      "\u001b[1m19/19\u001b[0m \u001b[32m━━━━━━━━━━━━━━━━━━━━\u001b[0m\u001b[37m\u001b[0m \u001b[1m1s\u001b[0m 37ms/step - loss: 0.0056 - val_loss: 0.0068\n",
      "Epoch 66/100\n",
      "\u001b[1m19/19\u001b[0m \u001b[32m━━━━━━━━━━━━━━━━━━━━\u001b[0m\u001b[37m\u001b[0m \u001b[1m1s\u001b[0m 37ms/step - loss: 0.0056 - val_loss: 0.0067\n",
      "Epoch 67/100\n",
      "\u001b[1m19/19\u001b[0m \u001b[32m━━━━━━━━━━━━━━━━━━━━\u001b[0m\u001b[37m\u001b[0m \u001b[1m1s\u001b[0m 31ms/step - loss: 0.0055 - val_loss: 0.0067\n",
      "Epoch 68/100\n",
      "\u001b[1m19/19\u001b[0m \u001b[32m━━━━━━━━━━━━━━━━━━━━\u001b[0m\u001b[37m\u001b[0m \u001b[1m1s\u001b[0m 33ms/step - loss: 0.0055 - val_loss: 0.0067\n",
      "Epoch 69/100\n",
      "\u001b[1m19/19\u001b[0m \u001b[32m━━━━━━━━━━━━━━━━━━━━\u001b[0m\u001b[37m\u001b[0m \u001b[1m1s\u001b[0m 32ms/step - loss: 0.0055 - val_loss: 0.0067\n",
      "Epoch 70/100\n",
      "\u001b[1m19/19\u001b[0m \u001b[32m━━━━━━━━━━━━━━━━━━━━\u001b[0m\u001b[37m\u001b[0m \u001b[1m1s\u001b[0m 32ms/step - loss: 0.0054 - val_loss: 0.0067\n",
      "Epoch 71/100\n",
      "\u001b[1m19/19\u001b[0m \u001b[32m━━━━━━━━━━━━━━━━━━━━\u001b[0m\u001b[37m\u001b[0m \u001b[1m1s\u001b[0m 32ms/step - loss: 0.0055 - val_loss: 0.0067\n",
      "Epoch 72/100\n",
      "\u001b[1m19/19\u001b[0m \u001b[32m━━━━━━━━━━━━━━━━━━━━\u001b[0m\u001b[37m\u001b[0m \u001b[1m1s\u001b[0m 35ms/step - loss: 0.0054 - val_loss: 0.0067\n",
      "Epoch 73/100\n",
      "\u001b[1m19/19\u001b[0m \u001b[32m━━━━━━━━━━━━━━━━━━━━\u001b[0m\u001b[37m\u001b[0m \u001b[1m1s\u001b[0m 33ms/step - loss: 0.0054 - val_loss: 0.0066\n",
      "Epoch 74/100\n",
      "\u001b[1m19/19\u001b[0m \u001b[32m━━━━━━━━━━━━━━━━━━━━\u001b[0m\u001b[37m\u001b[0m \u001b[1m1s\u001b[0m 34ms/step - loss: 0.0053 - val_loss: 0.0067\n",
      "Epoch 75/100\n",
      "\u001b[1m19/19\u001b[0m \u001b[32m━━━━━━━━━━━━━━━━━━━━\u001b[0m\u001b[37m\u001b[0m \u001b[1m1s\u001b[0m 33ms/step - loss: 0.0053 - val_loss: 0.0066\n",
      "Epoch 76/100\n",
      "\u001b[1m19/19\u001b[0m \u001b[32m━━━━━━━━━━━━━━━━━━━━\u001b[0m\u001b[37m\u001b[0m \u001b[1m1s\u001b[0m 33ms/step - loss: 0.0052 - val_loss: 0.0066\n",
      "Epoch 77/100\n",
      "\u001b[1m19/19\u001b[0m \u001b[32m━━━━━━━━━━━━━━━━━━━━\u001b[0m\u001b[37m\u001b[0m \u001b[1m1s\u001b[0m 34ms/step - loss: 0.0053 - val_loss: 0.0066\n",
      "Epoch 78/100\n",
      "\u001b[1m19/19\u001b[0m \u001b[32m━━━━━━━━━━━━━━━━━━━━\u001b[0m\u001b[37m\u001b[0m \u001b[1m1s\u001b[0m 31ms/step - loss: 0.0052 - val_loss: 0.0066\n",
      "Epoch 79/100\n",
      "\u001b[1m19/19\u001b[0m \u001b[32m━━━━━━━━━━━━━━━━━━━━\u001b[0m\u001b[37m\u001b[0m \u001b[1m1s\u001b[0m 31ms/step - loss: 0.0052 - val_loss: 0.0066\n",
      "Epoch 80/100\n",
      "\u001b[1m19/19\u001b[0m \u001b[32m━━━━━━━━━━━━━━━━━━━━\u001b[0m\u001b[37m\u001b[0m \u001b[1m1s\u001b[0m 31ms/step - loss: 0.0052 - val_loss: 0.0066\n",
      "Epoch 81/100\n",
      "\u001b[1m19/19\u001b[0m \u001b[32m━━━━━━━━━━━━━━━━━━━━\u001b[0m\u001b[37m\u001b[0m \u001b[1m1s\u001b[0m 33ms/step - loss: 0.0051 - val_loss: 0.0066\n",
      "Epoch 82/100\n",
      "\u001b[1m19/19\u001b[0m \u001b[32m━━━━━━━━━━━━━━━━━━━━\u001b[0m\u001b[37m\u001b[0m \u001b[1m1s\u001b[0m 35ms/step - loss: 0.0051 - val_loss: 0.0066\n",
      "Epoch 83/100\n",
      "\u001b[1m19/19\u001b[0m \u001b[32m━━━━━━━━━━━━━━━━━━━━\u001b[0m\u001b[37m\u001b[0m \u001b[1m1s\u001b[0m 33ms/step - loss: 0.0051 - val_loss: 0.0066\n",
      "Epoch 84/100\n",
      "\u001b[1m19/19\u001b[0m \u001b[32m━━━━━━━━━━━━━━━━━━━━\u001b[0m\u001b[37m\u001b[0m \u001b[1m1s\u001b[0m 33ms/step - loss: 0.0051 - val_loss: 0.0065\n",
      "Epoch 85/100\n",
      "\u001b[1m19/19\u001b[0m \u001b[32m━━━━━━━━━━━━━━━━━━━━\u001b[0m\u001b[37m\u001b[0m \u001b[1m1s\u001b[0m 41ms/step - loss: 0.0052 - val_loss: 0.0065\n",
      "Epoch 86/100\n",
      "\u001b[1m19/19\u001b[0m \u001b[32m━━━━━━━━━━━━━━━━━━━━\u001b[0m\u001b[37m\u001b[0m \u001b[1m1s\u001b[0m 38ms/step - loss: 0.0050 - val_loss: 0.0065\n",
      "Epoch 87/100\n",
      "\u001b[1m19/19\u001b[0m \u001b[32m━━━━━━━━━━━━━━━━━━━━\u001b[0m\u001b[37m\u001b[0m \u001b[1m1s\u001b[0m 31ms/step - loss: 0.0049 - val_loss: 0.0065\n",
      "Epoch 88/100\n",
      "\u001b[1m19/19\u001b[0m \u001b[32m━━━━━━━━━━━━━━━━━━━━\u001b[0m\u001b[37m\u001b[0m \u001b[1m1s\u001b[0m 33ms/step - loss: 0.0050 - val_loss: 0.0065\n",
      "Epoch 89/100\n",
      "\u001b[1m19/19\u001b[0m \u001b[32m━━━━━━━━━━━━━━━━━━━━\u001b[0m\u001b[37m\u001b[0m \u001b[1m1s\u001b[0m 34ms/step - loss: 0.0050 - val_loss: 0.0065\n",
      "Epoch 90/100\n",
      "\u001b[1m19/19\u001b[0m \u001b[32m━━━━━━━━━━━━━━━━━━━━\u001b[0m\u001b[37m\u001b[0m \u001b[1m1s\u001b[0m 29ms/step - loss: 0.0049 - val_loss: 0.0065\n",
      "Epoch 91/100\n",
      "\u001b[1m19/19\u001b[0m \u001b[32m━━━━━━━━━━━━━━━━━━━━\u001b[0m\u001b[37m\u001b[0m \u001b[1m1s\u001b[0m 31ms/step - loss: 0.0049 - val_loss: 0.0065\n",
      "Epoch 92/100\n",
      "\u001b[1m19/19\u001b[0m \u001b[32m━━━━━━━━━━━━━━━━━━━━\u001b[0m\u001b[37m\u001b[0m \u001b[1m1s\u001b[0m 33ms/step - loss: 0.0049 - val_loss: 0.0065\n",
      "Epoch 93/100\n",
      "\u001b[1m19/19\u001b[0m \u001b[32m━━━━━━━━━━━━━━━━━━━━\u001b[0m\u001b[37m\u001b[0m \u001b[1m1s\u001b[0m 33ms/step - loss: 0.0050 - val_loss: 0.0065\n",
      "Epoch 94/100\n",
      "\u001b[1m19/19\u001b[0m \u001b[32m━━━━━━━━━━━━━━━━━━━━\u001b[0m\u001b[37m\u001b[0m \u001b[1m1s\u001b[0m 35ms/step - loss: 0.0048 - val_loss: 0.0065\n",
      "Epoch 95/100\n",
      "\u001b[1m19/19\u001b[0m \u001b[32m━━━━━━━━━━━━━━━━━━━━\u001b[0m\u001b[37m\u001b[0m \u001b[1m1s\u001b[0m 37ms/step - loss: 0.0049 - val_loss: 0.0065\n",
      "Epoch 96/100\n",
      "\u001b[1m19/19\u001b[0m \u001b[32m━━━━━━━━━━━━━━━━━━━━\u001b[0m\u001b[37m\u001b[0m \u001b[1m1s\u001b[0m 33ms/step - loss: 0.0049 - val_loss: 0.0065\n",
      "Epoch 97/100\n",
      "\u001b[1m19/19\u001b[0m \u001b[32m━━━━━━━━━━━━━━━━━━━━\u001b[0m\u001b[37m\u001b[0m \u001b[1m1s\u001b[0m 32ms/step - loss: 0.0049 - val_loss: 0.0065\n",
      "Epoch 98/100\n",
      "\u001b[1m19/19\u001b[0m \u001b[32m━━━━━━━━━━━━━━━━━━━━\u001b[0m\u001b[37m\u001b[0m \u001b[1m1s\u001b[0m 35ms/step - loss: 0.0048 - val_loss: 0.0065\n",
      "Epoch 99/100\n",
      "\u001b[1m19/19\u001b[0m \u001b[32m━━━━━━━━━━━━━━━━━━━━\u001b[0m\u001b[37m\u001b[0m \u001b[1m1s\u001b[0m 35ms/step - loss: 0.0048 - val_loss: 0.0065\n",
      "Epoch 100/100\n",
      "\u001b[1m19/19\u001b[0m \u001b[32m━━━━━━━━━━━━━━━━━━━━\u001b[0m\u001b[37m\u001b[0m \u001b[1m1s\u001b[0m 35ms/step - loss: 0.0048 - val_loss: 0.0065\n"
     ]
    },
    {
     "data": {
      "text/plain": [
       "<keras.src.callbacks.history.History at 0x7fde232a4f70>"
      ]
     },
     "execution_count": 27,
     "metadata": {},
     "output_type": "execute_result"
    }
   ],
   "source": [
    "autoencoder.fit(X_train, X_train, epochs=100, batch_size=32, shuffle=True, validation_data=(X_test, X_test))"
   ]
  },
  {
   "cell_type": "code",
   "execution_count": 28,
   "metadata": {},
   "outputs": [
    {
     "name": "stdout",
     "output_type": "stream",
     "text": [
      "\u001b[1m19/19\u001b[0m \u001b[32m━━━━━━━━━━━━━━━━━━━━\u001b[0m\u001b[37m\u001b[0m \u001b[1m0s\u001b[0m 3ms/step\n",
      "\u001b[1m5/5\u001b[0m \u001b[32m━━━━━━━━━━━━━━━━━━━━\u001b[0m\u001b[37m\u001b[0m \u001b[1m0s\u001b[0m 5ms/step \n",
      "Encoded Features Shape (Train): (593, 50)\n",
      "Encoded Features Shape (Test): (149, 50)\n"
     ]
    },
    {
     "data": {
      "image/png": "[encoded data removed]",
      "text/plain": [
       "<Figure size 432x288 with 2 Axes>"
      ]
     },
     "metadata": {
      "needs_background": "light"
     },
     "output_type": "display_data"
    }
   ],
   "source": [
    "# Use encoder part of the autoencoder for feature selection\n",
    "encoder = keras.Model(inputs=autoencoder.input, outputs=autoencoder.layers[1].output)\n",
    "encoded_features_train = encoder.predict(X_train)\n",
    "encoded_features_test = encoder.predict(X_test)\n",
    "\n",
    "# Display the shape of extracted features\n",
    "print(\"Encoded Features Shape (Train):\", encoded_features_train.shape)\n",
    "print(\"Encoded Features Shape (Test):\", encoded_features_test.shape)\n",
    "# plot all encoded features\n",
    "plt.scatter(encoded_features_train[:,0], encoded_features_train[:,1], c = y_train['AAC'], cmap='viridis')\n",
    "plt.colorbar()\n",
    "plt.show()"
   ]
  },
  {
   "cell_type": "code",
   "execution_count": 29,
   "metadata": {},
   "outputs": [
    {
     "name": "stdout",
     "output_type": "stream",
     "text": [
      "--- Encoded Features ---\n",
      "Mean Squared Error (MSE): 0.0058525498852071145\n",
      "R-squared (R²): 0.2182089858675691\n",
      "Spearman's Correlation (ρ): 0.42218068400224507\n",
      "P-value (Spearman): 8.192097063648034e-08\n",
      "--- Non Encoded Features ---\n",
      "Mean Squared Error (MSE): 0.0068259369138020136\n",
      "R-squared (R²): 0.08818271575374692\n",
      "Spearman's Correlation (ρ): 0.39419045364650135\n",
      "P-value (Spearman): 6.55531476241527e-07\n"
     ]
    }
   ],
   "source": [
    "# --- Encoded Features ---\n",
    "# Fit a linear regression model using the encoded features\n",
    "encoded_model = LinearRegression()\n",
    "encoded_model.fit(encoded_features_train, y_train)\n",
    "\n",
    "# Make predictions on the test set\n",
    "y_pred_encoded = encoded_model.predict(encoded_features_test)\n",
    "\n",
    "# Calculate regression metrics\n",
    "mse_encoded = mean_squared_error(y_test, y_pred_encoded)\n",
    "r2_encoded = r2_score(y_test, y_pred_encoded)\n",
    "\n",
    "# Calculate Spearman's rank correlation for encoded features\n",
    "spearman_encoded, p_value_encoded = spearmanr(y_test, y_pred_encoded)\n",
    "\n",
    "print(\"--- Encoded Features ---\")\n",
    "print(\"Mean Squared Error (MSE):\", mse_encoded)\n",
    "print(\"R-squared (R²):\", r2_encoded)\n",
    "print(\"Spearman's Correlation (ρ):\", spearman_encoded)\n",
    "print(\"P-value (Spearman):\", p_value_encoded)\n",
    "\n",
    "# --- Non Encoded Features ---\n",
    "# Fit a linear regression model using the non-encoded features\n",
    "model = LinearRegression()\n",
    "model.fit(X_train, y_train)\n",
    "\n",
    "# Make predictions on the test set\n",
    "y_pred = model.predict(X_test)\n",
    "\n",
    "# Calculate regression metrics\n",
    "mse = mean_squared_error(y_test, y_pred)\n",
    "r2 = r2_score(y_test, y_pred)\n",
    "\n",
    "# Calculate Spearman's rank correlation for non-encoded features\n",
    "spearman_non_encoded, p_value_non_encoded = spearmanr(y_test, y_pred)\n",
    "\n",
    "print(\"--- Non Encoded Features ---\")\n",
    "print(\"Mean Squared Error (MSE):\", mse)\n",
    "print(\"R-squared (R²):\", r2)\n",
    "print(\"Spearman's Correlation (ρ):\", spearman_non_encoded)\n",
    "print(\"P-value (Spearman):\", p_value_non_encoded)\n"
   ]
  },
  {
   "cell_type": "code",
   "execution_count": null,
   "metadata": {},
   "outputs": [
    {
     "name": "stdout",
     "output_type": "stream",
     "text": [
      "\u001b[1m33/33\u001b[0m \u001b[32m━━━━━━━━━━━━━━━━━━━━\u001b[0m\u001b[37m\u001b[0m \u001b[1m0s\u001b[0m 2ms/step\n",
      "(1046, 50)\n"
     ]
    }
   ],
   "source": [
    "# Encode the entire data set and save the encoded features\n",
    "# Add the project root directory to the Python path\n",
    "project_root = Path().resolve().parent.parent\n",
    "sys.path.append(str(project_root))\n",
    "# Load the data\n",
    "data_path = project_root / 'data' / 'encoded'\n",
    "total_data = pd.concat([train_data, test_data])\n",
    "encoded_features = encoder.predict(total_data)\n",
    "print(encoded_features.shape)\n",
    "encoded_features = pd.DataFrame(encoded_features, columns=[\"encoded_feature_\" + str(i) for i in range(encoded_features.shape[1])])\n",
    "encoded_features.to_csv(data_path / 'ae_data.csv', index=False)"
   ]
  },
  {
   "cell_type": "markdown",
   "metadata": {},
   "source": [
    "# VAE"
   ]
  },
  {
   "cell_type": "markdown",
   "metadata": {},
   "source": []
  },
  {
   "cell_type": "code",
   "execution_count": 202,
   "metadata": {},
   "outputs": [],
   "source": [
    "from src.utils.vae import VAE, train, plot_latent_space\n",
    "import torch\n",
    "import torch.optim as optim\n",
    "from torch.utils.data import DataLoader, TensorDataset"
   ]
  },
  {
   "cell_type": "code",
   "execution_count": 208,
   "metadata": {},
   "outputs": [
    {
     "name": "stdout",
     "output_type": "stream",
     "text": [
      "Training Trial 1/20\n",
      "Epoch 1/20, Train Loss: 2.2733, Val Loss: 0.3634\n",
      "Epoch 2/20, Train Loss: 0.1829, Val Loss: 0.0946\n",
      "Epoch 3/20, Train Loss: 0.0720, Val Loss: 0.0513\n",
      "Epoch 4/20, Train Loss: 0.0457, Val Loss: 0.0398\n",
      "Epoch 5/20, Train Loss: 0.0363, Val Loss: 0.0340\n",
      "Epoch 6/20, Train Loss: 0.0313, Val Loss: 0.0307\n",
      "Epoch 7/20, Train Loss: 0.0281, Val Loss: 0.0278\n",
      "Epoch 8/20, Train Loss: 0.0258, Val Loss: 0.0257\n",
      "Epoch 9/20, Train Loss: 0.0239, Val Loss: 0.0240\n",
      "Epoch 10/20, Train Loss: 0.0223, Val Loss: 0.0226\n",
      "Epoch 11/20, Train Loss: 0.0210, Val Loss: 0.0216\n",
      "Epoch 12/20, Train Loss: 0.0201, Val Loss: 0.0206\n",
      "Epoch 13/20, Train Loss: 0.0193, Val Loss: 0.0199\n",
      "Epoch 14/20, Train Loss: 0.0185, Val Loss: 0.0193\n",
      "Epoch 15/20, Train Loss: 0.0180, Val Loss: 0.0189\n",
      "Epoch 16/20, Train Loss: 0.0174, Val Loss: 0.0181\n",
      "Epoch 17/20, Train Loss: 0.0171, Val Loss: 0.0177\n",
      "Epoch 18/20, Train Loss: 0.0167, Val Loss: 0.0175\n",
      "Epoch 19/20, Train Loss: 0.0163, Val Loss: 0.0169\n",
      "Epoch 20/20, Train Loss: 0.0160, Val Loss: 0.0168\n",
      "(593, 50)\n",
      "--- VAE Encoded Features ---\n",
      "Mean Squared Error (MSE): 0.006942709933577804\n",
      "R-squared (R²): 0.07258402811426667\n",
      "Spearman's Correlation (ρ): 0.38856012022519176\n",
      "Training Trial 2/20\n",
      "Epoch 1/20, Train Loss: 2.0783, Val Loss: 0.3781\n",
      "Epoch 2/20, Train Loss: 0.1954, Val Loss: 0.0902\n",
      "Epoch 3/20, Train Loss: 0.0674, Val Loss: 0.0487\n",
      "Epoch 4/20, Train Loss: 0.0415, Val Loss: 0.0345\n",
      "Epoch 5/20, Train Loss: 0.0327, Val Loss: 0.0296\n",
      "Epoch 6/20, Train Loss: 0.0282, Val Loss: 0.0268\n",
      "Epoch 7/20, Train Loss: 0.0256, Val Loss: 0.0246\n",
      "Epoch 8/20, Train Loss: 0.0232, Val Loss: 0.0230\n",
      "Epoch 9/20, Train Loss: 0.0217, Val Loss: 0.0221\n",
      "Epoch 10/20, Train Loss: 0.0207, Val Loss: 0.0208\n",
      "Epoch 11/20, Train Loss: 0.0196, Val Loss: 0.0202\n",
      "Epoch 12/20, Train Loss: 0.0189, Val Loss: 0.0193\n",
      "Epoch 13/20, Train Loss: 0.0182, Val Loss: 0.0192\n",
      "Epoch 14/20, Train Loss: 0.0179, Val Loss: 0.0182\n",
      "Epoch 15/20, Train Loss: 0.0173, Val Loss: 0.0176\n",
      "Epoch 16/20, Train Loss: 0.0167, Val Loss: 0.0172\n",
      "Epoch 17/20, Train Loss: 0.0163, Val Loss: 0.0170\n",
      "Epoch 18/20, Train Loss: 0.0161, Val Loss: 0.0165\n",
      "Epoch 19/20, Train Loss: 0.0156, Val Loss: 0.0161\n",
      "Epoch 20/20, Train Loss: 0.0154, Val Loss: 0.0161\n",
      "(593, 50)\n",
      "--- VAE Encoded Features ---\n",
      "Mean Squared Error (MSE): 0.006485247012412368\n",
      "R-squared (R²): 0.13369250357893225\n",
      "Spearman's Correlation (ρ): 0.3899114728021491\n",
      "Training Trial 3/20\n",
      "Epoch 1/20, Train Loss: 2.1860, Val Loss: 0.3395\n",
      "Epoch 2/20, Train Loss: 0.1811, Val Loss: 0.0956\n",
      "Epoch 3/20, Train Loss: 0.0728, Val Loss: 0.0503\n",
      "Epoch 4/20, Train Loss: 0.0445, Val Loss: 0.0368\n",
      "Epoch 5/20, Train Loss: 0.0343, Val Loss: 0.0312\n",
      "Epoch 6/20, Train Loss: 0.0300, Val Loss: 0.0283\n",
      "Epoch 7/20, Train Loss: 0.0267, Val Loss: 0.0264\n",
      "Epoch 8/20, Train Loss: 0.0244, Val Loss: 0.0238\n",
      "Epoch 9/20, Train Loss: 0.0225, Val Loss: 0.0222\n",
      "Epoch 10/20, Train Loss: 0.0212, Val Loss: 0.0220\n",
      "Epoch 11/20, Train Loss: 0.0203, Val Loss: 0.0200\n",
      "Epoch 12/20, Train Loss: 0.0193, Val Loss: 0.0200\n",
      "Epoch 13/20, Train Loss: 0.0186, Val Loss: 0.0189\n",
      "Epoch 14/20, Train Loss: 0.0179, Val Loss: 0.0183\n",
      "Epoch 15/20, Train Loss: 0.0172, Val Loss: 0.0177\n",
      "Epoch 16/20, Train Loss: 0.0171, Val Loss: 0.0175\n",
      "Epoch 17/20, Train Loss: 0.0165, Val Loss: 0.0173\n",
      "Epoch 18/20, Train Loss: 0.0164, Val Loss: 0.0166\n",
      "Epoch 19/20, Train Loss: 0.0160, Val Loss: 0.0166\n",
      "Epoch 20/20, Train Loss: 0.0159, Val Loss: 0.0164\n",
      "(593, 50)\n",
      "--- VAE Encoded Features ---\n",
      "Mean Squared Error (MSE): 0.006369456921310535\n",
      "R-squared (R²): 0.14915989036324595\n",
      "Spearman's Correlation (ρ): 0.41473282671232975\n",
      "Training Trial 4/20\n",
      "Epoch 1/20, Train Loss: 2.0937, Val Loss: 0.3357\n",
      "Epoch 2/20, Train Loss: 0.1852, Val Loss: 0.1012\n",
      "Epoch 3/20, Train Loss: 0.0750, Val Loss: 0.0547\n",
      "Epoch 4/20, Train Loss: 0.0466, Val Loss: 0.0398\n",
      "Epoch 5/20, Train Loss: 0.0368, Val Loss: 0.0333\n",
      "Epoch 6/20, Train Loss: 0.0313, Val Loss: 0.0290\n",
      "Epoch 7/20, Train Loss: 0.0272, Val Loss: 0.0260\n",
      "Epoch 8/20, Train Loss: 0.0246, Val Loss: 0.0240\n",
      "Epoch 9/20, Train Loss: 0.0225, Val Loss: 0.0227\n",
      "Epoch 10/20, Train Loss: 0.0213, Val Loss: 0.0209\n",
      "Epoch 11/20, Train Loss: 0.0202, Val Loss: 0.0201\n",
      "Epoch 12/20, Train Loss: 0.0193, Val Loss: 0.0194\n",
      "Epoch 13/20, Train Loss: 0.0187, Val Loss: 0.0183\n",
      "Epoch 14/20, Train Loss: 0.0178, Val Loss: 0.0183\n",
      "Epoch 15/20, Train Loss: 0.0175, Val Loss: 0.0179\n",
      "Epoch 16/20, Train Loss: 0.0169, Val Loss: 0.0176\n",
      "Epoch 17/20, Train Loss: 0.0164, Val Loss: 0.0170\n",
      "Epoch 18/20, Train Loss: 0.0161, Val Loss: 0.0168\n",
      "Epoch 19/20, Train Loss: 0.0161, Val Loss: 0.0164\n",
      "Epoch 20/20, Train Loss: 0.0157, Val Loss: 0.0159\n",
      "(593, 50)\n",
      "--- VAE Encoded Features ---\n",
      "Mean Squared Error (MSE): 0.006317221856233909\n",
      "R-squared (R²): 0.15613751640668172\n",
      "Spearman's Correlation (ρ): 0.37828077115993347\n",
      "Training Trial 5/20\n",
      "Epoch 1/20, Train Loss: 2.1883, Val Loss: 0.3598\n",
      "Epoch 2/20, Train Loss: 0.1972, Val Loss: 0.1064\n",
      "Epoch 3/20, Train Loss: 0.0821, Val Loss: 0.0582\n",
      "Epoch 4/20, Train Loss: 0.0502, Val Loss: 0.0417\n",
      "Epoch 5/20, Train Loss: 0.0382, Val Loss: 0.0347\n",
      "Epoch 6/20, Train Loss: 0.0321, Val Loss: 0.0298\n",
      "Epoch 7/20, Train Loss: 0.0283, Val Loss: 0.0277\n",
      "Epoch 8/20, Train Loss: 0.0260, Val Loss: 0.0260\n",
      "Epoch 9/20, Train Loss: 0.0240, Val Loss: 0.0238\n",
      "Epoch 10/20, Train Loss: 0.0225, Val Loss: 0.0233\n",
      "Epoch 11/20, Train Loss: 0.0213, Val Loss: 0.0224\n",
      "Epoch 12/20, Train Loss: 0.0203, Val Loss: 0.0211\n",
      "Epoch 13/20, Train Loss: 0.0195, Val Loss: 0.0195\n",
      "Epoch 14/20, Train Loss: 0.0187, Val Loss: 0.0187\n",
      "Epoch 15/20, Train Loss: 0.0180, Val Loss: 0.0184\n",
      "Epoch 16/20, Train Loss: 0.0177, Val Loss: 0.0180\n",
      "Epoch 17/20, Train Loss: 0.0172, Val Loss: 0.0175\n",
      "Epoch 18/20, Train Loss: 0.0167, Val Loss: 0.0174\n",
      "Epoch 19/20, Train Loss: 0.0163, Val Loss: 0.0171\n",
      "Epoch 20/20, Train Loss: 0.0161, Val Loss: 0.0163\n",
      "(593, 50)\n",
      "--- VAE Encoded Features ---\n",
      "Mean Squared Error (MSE): 0.007084278473067163\n",
      "R-squared (R²): 0.05367312359786436\n",
      "Spearman's Correlation (ρ): 0.30937992869587244\n",
      "Training Trial 6/20\n",
      "Epoch 1/20, Train Loss: 2.0326, Val Loss: 0.3428\n",
      "Epoch 2/20, Train Loss: 0.1880, Val Loss: 0.0935\n",
      "Epoch 3/20, Train Loss: 0.0693, Val Loss: 0.0505\n",
      "Epoch 4/20, Train Loss: 0.0432, Val Loss: 0.0362\n",
      "Epoch 5/20, Train Loss: 0.0337, Val Loss: 0.0297\n",
      "Epoch 6/20, Train Loss: 0.0291, Val Loss: 0.0264\n",
      "Epoch 7/20, Train Loss: 0.0259, Val Loss: 0.0240\n",
      "Epoch 8/20, Train Loss: 0.0239, Val Loss: 0.0226\n",
      "Epoch 9/20, Train Loss: 0.0220, Val Loss: 0.0211\n",
      "Epoch 10/20, Train Loss: 0.0206, Val Loss: 0.0201\n",
      "Epoch 11/20, Train Loss: 0.0196, Val Loss: 0.0192\n",
      "Epoch 12/20, Train Loss: 0.0188, Val Loss: 0.0188\n",
      "Epoch 13/20, Train Loss: 0.0182, Val Loss: 0.0181\n",
      "Epoch 14/20, Train Loss: 0.0178, Val Loss: 0.0175\n",
      "Epoch 15/20, Train Loss: 0.0171, Val Loss: 0.0174\n",
      "Epoch 16/20, Train Loss: 0.0168, Val Loss: 0.0167\n",
      "Epoch 17/20, Train Loss: 0.0164, Val Loss: 0.0167\n",
      "Epoch 18/20, Train Loss: 0.0160, Val Loss: 0.0160\n",
      "Epoch 19/20, Train Loss: 0.0156, Val Loss: 0.0162\n",
      "Epoch 20/20, Train Loss: 0.0154, Val Loss: 0.0155\n",
      "(593, 50)\n",
      "--- VAE Encoded Features ---\n",
      "Mean Squared Error (MSE): 0.0068201217572214454\n",
      "R-squared (R²): 0.08895951172296235\n",
      "Spearman's Correlation (ρ): 0.3271488546608045\n",
      "Training Trial 7/20\n",
      "Epoch 1/20, Train Loss: 2.3545, Val Loss: 0.4009\n",
      "Epoch 2/20, Train Loss: 0.1995, Val Loss: 0.0946\n",
      "Epoch 3/20, Train Loss: 0.0748, Val Loss: 0.0538\n",
      "Epoch 4/20, Train Loss: 0.0462, Val Loss: 0.0386\n",
      "Epoch 5/20, Train Loss: 0.0363, Val Loss: 0.0333\n",
      "Epoch 6/20, Train Loss: 0.0316, Val Loss: 0.0295\n",
      "Epoch 7/20, Train Loss: 0.0281, Val Loss: 0.0270\n",
      "Epoch 8/20, Train Loss: 0.0256, Val Loss: 0.0251\n",
      "Epoch 9/20, Train Loss: 0.0239, Val Loss: 0.0241\n",
      "Epoch 10/20, Train Loss: 0.0226, Val Loss: 0.0223\n",
      "Epoch 11/20, Train Loss: 0.0213, Val Loss: 0.0214\n",
      "Epoch 12/20, Train Loss: 0.0202, Val Loss: 0.0205\n",
      "Epoch 13/20, Train Loss: 0.0195, Val Loss: 0.0196\n",
      "Epoch 14/20, Train Loss: 0.0188, Val Loss: 0.0196\n",
      "Epoch 15/20, Train Loss: 0.0184, Val Loss: 0.0191\n",
      "Epoch 16/20, Train Loss: 0.0177, Val Loss: 0.0185\n",
      "Epoch 17/20, Train Loss: 0.0169, Val Loss: 0.0181\n",
      "Epoch 18/20, Train Loss: 0.0166, Val Loss: 0.0174\n",
      "Epoch 19/20, Train Loss: 0.0165, Val Loss: 0.0175\n",
      "Epoch 20/20, Train Loss: 0.0163, Val Loss: 0.0172\n",
      "(593, 50)\n",
      "--- VAE Encoded Features ---\n",
      "Mean Squared Error (MSE): 0.006862065946155461\n",
      "R-squared (R²): 0.08335655392732355\n",
      "Spearman's Correlation (ρ): 0.3836281367933164\n",
      "Training Trial 8/20\n",
      "Epoch 1/20, Train Loss: 2.2264, Val Loss: 0.4154\n",
      "Epoch 2/20, Train Loss: 0.2074, Val Loss: 0.0976\n",
      "Epoch 3/20, Train Loss: 0.0764, Val Loss: 0.0544\n",
      "Epoch 4/20, Train Loss: 0.0476, Val Loss: 0.0408\n",
      "Epoch 5/20, Train Loss: 0.0376, Val Loss: 0.0346\n",
      "Epoch 6/20, Train Loss: 0.0324, Val Loss: 0.0300\n",
      "Epoch 7/20, Train Loss: 0.0286, Val Loss: 0.0274\n",
      "Epoch 8/20, Train Loss: 0.0260, Val Loss: 0.0260\n",
      "Epoch 9/20, Train Loss: 0.0243, Val Loss: 0.0243\n",
      "Epoch 10/20, Train Loss: 0.0225, Val Loss: 0.0227\n",
      "Epoch 11/20, Train Loss: 0.0214, Val Loss: 0.0221\n",
      "Epoch 12/20, Train Loss: 0.0204, Val Loss: 0.0212\n",
      "Epoch 13/20, Train Loss: 0.0197, Val Loss: 0.0201\n",
      "Epoch 14/20, Train Loss: 0.0190, Val Loss: 0.0204\n",
      "Epoch 15/20, Train Loss: 0.0190, Val Loss: 0.0205\n",
      "Epoch 16/20, Train Loss: 0.0188, Val Loss: 0.0192\n",
      "Epoch 17/20, Train Loss: 0.0179, Val Loss: 0.0182\n",
      "Epoch 18/20, Train Loss: 0.0169, Val Loss: 0.0184\n",
      "Epoch 19/20, Train Loss: 0.0167, Val Loss: 0.0178\n",
      "Epoch 20/20, Train Loss: 0.0162, Val Loss: 0.0173\n",
      "(593, 50)\n",
      "--- VAE Encoded Features ---\n",
      "Mean Squared Error (MSE): 0.0075831507302666435\n",
      "R-squared (R²): -0.012966863335748036\n",
      "Spearman's Correlation (ρ): 0.28857816849111134\n",
      "Training Trial 9/20\n",
      "Epoch 1/20, Train Loss: 2.6333, Val Loss: 0.4698\n",
      "Epoch 2/20, Train Loss: 0.2239, Val Loss: 0.1084\n",
      "Epoch 3/20, Train Loss: 0.0807, Val Loss: 0.0561\n",
      "Epoch 4/20, Train Loss: 0.0491, Val Loss: 0.0405\n",
      "Epoch 5/20, Train Loss: 0.0374, Val Loss: 0.0348\n",
      "Epoch 6/20, Train Loss: 0.0316, Val Loss: 0.0303\n",
      "Epoch 7/20, Train Loss: 0.0284, Val Loss: 0.0280\n",
      "Epoch 8/20, Train Loss: 0.0262, Val Loss: 0.0254\n",
      "Epoch 9/20, Train Loss: 0.0238, Val Loss: 0.0246\n",
      "Epoch 10/20, Train Loss: 0.0232, Val Loss: 0.0228\n",
      "Epoch 11/20, Train Loss: 0.0216, Val Loss: 0.0222\n",
      "Epoch 12/20, Train Loss: 0.0206, Val Loss: 0.0213\n",
      "Epoch 13/20, Train Loss: 0.0196, Val Loss: 0.0208\n",
      "Epoch 14/20, Train Loss: 0.0191, Val Loss: 0.0196\n",
      "Epoch 15/20, Train Loss: 0.0186, Val Loss: 0.0194\n",
      "Epoch 16/20, Train Loss: 0.0179, Val Loss: 0.0187\n",
      "Epoch 17/20, Train Loss: 0.0175, Val Loss: 0.0183\n",
      "Epoch 18/20, Train Loss: 0.0170, Val Loss: 0.0178\n",
      "Epoch 19/20, Train Loss: 0.0167, Val Loss: 0.0175\n",
      "Epoch 20/20, Train Loss: 0.0164, Val Loss: 0.0177\n",
      "(593, 50)\n",
      "--- VAE Encoded Features ---\n",
      "Mean Squared Error (MSE): 0.007141802001637432\n",
      "R-squared (R²): 0.0459890579137604\n",
      "Spearman's Correlation (ρ): 0.3805463273594231\n",
      "Training Trial 10/20\n",
      "Epoch 1/20, Train Loss: 2.6839, Val Loss: 0.4132\n",
      "Epoch 2/20, Train Loss: 0.2172, Val Loss: 0.1065\n",
      "Epoch 3/20, Train Loss: 0.0772, Val Loss: 0.0553\n",
      "Epoch 4/20, Train Loss: 0.0475, Val Loss: 0.0408\n",
      "Epoch 5/20, Train Loss: 0.0371, Val Loss: 0.0349\n",
      "Epoch 6/20, Train Loss: 0.0320, Val Loss: 0.0312\n",
      "Epoch 7/20, Train Loss: 0.0290, Val Loss: 0.0281\n",
      "Epoch 8/20, Train Loss: 0.0262, Val Loss: 0.0259\n",
      "Epoch 9/20, Train Loss: 0.0245, Val Loss: 0.0243\n",
      "Epoch 10/20, Train Loss: 0.0230, Val Loss: 0.0231\n",
      "Epoch 11/20, Train Loss: 0.0218, Val Loss: 0.0212\n",
      "Epoch 12/20, Train Loss: 0.0208, Val Loss: 0.0204\n",
      "Epoch 13/20, Train Loss: 0.0200, Val Loss: 0.0196\n",
      "Epoch 14/20, Train Loss: 0.0191, Val Loss: 0.0192\n",
      "Epoch 15/20, Train Loss: 0.0186, Val Loss: 0.0187\n",
      "Epoch 16/20, Train Loss: 0.0181, Val Loss: 0.0186\n",
      "Epoch 17/20, Train Loss: 0.0174, Val Loss: 0.0181\n",
      "Epoch 18/20, Train Loss: 0.0175, Val Loss: 0.0173\n",
      "Epoch 19/20, Train Loss: 0.0167, Val Loss: 0.0171\n",
      "Epoch 20/20, Train Loss: 0.0163, Val Loss: 0.0172\n",
      "(593, 50)\n",
      "--- VAE Encoded Features ---\n",
      "Mean Squared Error (MSE): 0.0066472387170521926\n",
      "R-squared (R²): 0.11205344683692764\n",
      "Spearman's Correlation (ρ): 0.4059539378812586\n",
      "Training Trial 11/20\n",
      "Epoch 1/20, Train Loss: 2.2381, Val Loss: 0.3920\n",
      "Epoch 2/20, Train Loss: 0.1958, Val Loss: 0.0936\n",
      "Epoch 3/20, Train Loss: 0.0683, Val Loss: 0.0519\n",
      "Epoch 4/20, Train Loss: 0.0435, Val Loss: 0.0374\n",
      "Epoch 5/20, Train Loss: 0.0345, Val Loss: 0.0325\n",
      "Epoch 6/20, Train Loss: 0.0304, Val Loss: 0.0288\n",
      "Epoch 7/20, Train Loss: 0.0268, Val Loss: 0.0261\n",
      "Epoch 8/20, Train Loss: 0.0245, Val Loss: 0.0242\n",
      "Epoch 9/20, Train Loss: 0.0229, Val Loss: 0.0226\n",
      "Epoch 10/20, Train Loss: 0.0215, Val Loss: 0.0222\n",
      "Epoch 11/20, Train Loss: 0.0205, Val Loss: 0.0211\n",
      "Epoch 12/20, Train Loss: 0.0199, Val Loss: 0.0203\n",
      "Epoch 13/20, Train Loss: 0.0189, Val Loss: 0.0196\n",
      "Epoch 14/20, Train Loss: 0.0185, Val Loss: 0.0190\n",
      "Epoch 15/20, Train Loss: 0.0178, Val Loss: 0.0184\n",
      "Epoch 16/20, Train Loss: 0.0175, Val Loss: 0.0183\n",
      "Epoch 17/20, Train Loss: 0.0173, Val Loss: 0.0174\n",
      "Epoch 18/20, Train Loss: 0.0166, Val Loss: 0.0173\n",
      "Epoch 19/20, Train Loss: 0.0163, Val Loss: 0.0170\n",
      "Epoch 20/20, Train Loss: 0.0163, Val Loss: 0.0165\n",
      "(593, 50)\n",
      "--- VAE Encoded Features ---\n",
      "Mean Squared Error (MSE): 0.006587580846128493\n",
      "R-squared (R²): 0.12002262067144842\n",
      "Spearman's Correlation (ρ): 0.3870745393385769\n",
      "Training Trial 12/20\n",
      "Epoch 1/20, Train Loss: 2.2758, Val Loss: 0.4124\n",
      "Epoch 2/20, Train Loss: 0.2173, Val Loss: 0.1009\n",
      "Epoch 3/20, Train Loss: 0.0729, Val Loss: 0.0506\n",
      "Epoch 4/20, Train Loss: 0.0431, Val Loss: 0.0366\n",
      "Epoch 5/20, Train Loss: 0.0338, Val Loss: 0.0304\n",
      "Epoch 6/20, Train Loss: 0.0289, Val Loss: 0.0276\n",
      "Epoch 7/20, Train Loss: 0.0258, Val Loss: 0.0248\n",
      "Epoch 8/20, Train Loss: 0.0235, Val Loss: 0.0230\n",
      "Epoch 9/20, Train Loss: 0.0220, Val Loss: 0.0221\n",
      "Epoch 10/20, Train Loss: 0.0207, Val Loss: 0.0207\n",
      "Epoch 11/20, Train Loss: 0.0198, Val Loss: 0.0203\n",
      "Epoch 12/20, Train Loss: 0.0191, Val Loss: 0.0193\n",
      "Epoch 13/20, Train Loss: 0.0183, Val Loss: 0.0192\n",
      "Epoch 14/20, Train Loss: 0.0179, Val Loss: 0.0193\n",
      "Epoch 15/20, Train Loss: 0.0174, Val Loss: 0.0175\n",
      "Epoch 16/20, Train Loss: 0.0167, Val Loss: 0.0172\n",
      "Epoch 17/20, Train Loss: 0.0162, Val Loss: 0.0167\n",
      "Epoch 18/20, Train Loss: 0.0158, Val Loss: 0.0163\n",
      "Epoch 19/20, Train Loss: 0.0157, Val Loss: 0.0162\n",
      "Epoch 20/20, Train Loss: 0.0154, Val Loss: 0.0161\n",
      "(593, 50)\n",
      "--- VAE Encoded Features ---\n",
      "Mean Squared Error (MSE): 0.007216167012755185\n",
      "R-squared (R²): 0.036055285695147266\n",
      "Spearman's Correlation (ρ): 0.3254292811803272\n",
      "Training Trial 13/20\n",
      "Epoch 1/20, Train Loss: 2.2653, Val Loss: 0.3856\n",
      "Epoch 2/20, Train Loss: 0.2172, Val Loss: 0.1026\n",
      "Epoch 3/20, Train Loss: 0.0757, Val Loss: 0.0528\n",
      "Epoch 4/20, Train Loss: 0.0453, Val Loss: 0.0380\n",
      "Epoch 5/20, Train Loss: 0.0351, Val Loss: 0.0329\n",
      "Epoch 6/20, Train Loss: 0.0305, Val Loss: 0.0298\n",
      "Epoch 7/20, Train Loss: 0.0273, Val Loss: 0.0274\n",
      "Epoch 8/20, Train Loss: 0.0250, Val Loss: 0.0256\n",
      "Epoch 9/20, Train Loss: 0.0233, Val Loss: 0.0239\n",
      "Epoch 10/20, Train Loss: 0.0219, Val Loss: 0.0228\n",
      "Epoch 11/20, Train Loss: 0.0211, Val Loss: 0.0215\n",
      "Epoch 12/20, Train Loss: 0.0199, Val Loss: 0.0211\n",
      "Epoch 13/20, Train Loss: 0.0194, Val Loss: 0.0205\n",
      "Epoch 14/20, Train Loss: 0.0187, Val Loss: 0.0199\n",
      "Epoch 15/20, Train Loss: 0.0182, Val Loss: 0.0194\n",
      "Epoch 16/20, Train Loss: 0.0177, Val Loss: 0.0187\n",
      "Epoch 17/20, Train Loss: 0.0172, Val Loss: 0.0182\n",
      "Epoch 18/20, Train Loss: 0.0170, Val Loss: 0.0175\n",
      "Epoch 19/20, Train Loss: 0.0164, Val Loss: 0.0175\n",
      "Epoch 20/20, Train Loss: 0.0162, Val Loss: 0.0174\n",
      "(593, 50)\n",
      "--- VAE Encoded Features ---\n",
      "Mean Squared Error (MSE): 0.006889649829659264\n",
      "R-squared (R²): 0.07967186388945535\n",
      "Spearman's Correlation (ρ): 0.2952369809877697\n",
      "Training Trial 14/20\n",
      "Epoch 1/20, Train Loss: 1.8290, Val Loss: 0.3010\n",
      "Epoch 2/20, Train Loss: 0.1708, Val Loss: 0.0888\n",
      "Epoch 3/20, Train Loss: 0.0689, Val Loss: 0.0515\n",
      "Epoch 4/20, Train Loss: 0.0448, Val Loss: 0.0395\n",
      "Epoch 5/20, Train Loss: 0.0354, Val Loss: 0.0332\n",
      "Epoch 6/20, Train Loss: 0.0307, Val Loss: 0.0292\n",
      "Epoch 7/20, Train Loss: 0.0273, Val Loss: 0.0266\n",
      "Epoch 8/20, Train Loss: 0.0249, Val Loss: 0.0244\n",
      "Epoch 9/20, Train Loss: 0.0233, Val Loss: 0.0232\n",
      "Epoch 10/20, Train Loss: 0.0220, Val Loss: 0.0220\n",
      "Epoch 11/20, Train Loss: 0.0207, Val Loss: 0.0205\n",
      "Epoch 12/20, Train Loss: 0.0196, Val Loss: 0.0198\n",
      "Epoch 13/20, Train Loss: 0.0189, Val Loss: 0.0195\n",
      "Epoch 14/20, Train Loss: 0.0184, Val Loss: 0.0187\n",
      "Epoch 15/20, Train Loss: 0.0179, Val Loss: 0.0182\n",
      "Epoch 16/20, Train Loss: 0.0172, Val Loss: 0.0181\n",
      "Epoch 17/20, Train Loss: 0.0166, Val Loss: 0.0175\n",
      "Epoch 18/20, Train Loss: 0.0163, Val Loss: 0.0171\n",
      "Epoch 19/20, Train Loss: 0.0160, Val Loss: 0.0170\n",
      "Epoch 20/20, Train Loss: 0.0159, Val Loss: 0.0167\n",
      "(593, 50)\n",
      "--- VAE Encoded Features ---\n",
      "Mean Squared Error (MSE): 0.0068160877927902815\n",
      "R-squared (R²): 0.08949837379256809\n",
      "Spearman's Correlation (ρ): 0.3482190714848806\n",
      "Training Trial 15/20\n",
      "Epoch 1/20, Train Loss: 2.2287, Val Loss: 0.4073\n",
      "Epoch 2/20, Train Loss: 0.1995, Val Loss: 0.1006\n",
      "Epoch 3/20, Train Loss: 0.0749, Val Loss: 0.0511\n",
      "Epoch 4/20, Train Loss: 0.0430, Val Loss: 0.0358\n",
      "Epoch 5/20, Train Loss: 0.0330, Val Loss: 0.0303\n",
      "Epoch 6/20, Train Loss: 0.0279, Val Loss: 0.0264\n",
      "Epoch 7/20, Train Loss: 0.0249, Val Loss: 0.0250\n",
      "Epoch 8/20, Train Loss: 0.0231, Val Loss: 0.0231\n",
      "Epoch 9/20, Train Loss: 0.0216, Val Loss: 0.0214\n",
      "Epoch 10/20, Train Loss: 0.0202, Val Loss: 0.0203\n",
      "Epoch 11/20, Train Loss: 0.0192, Val Loss: 0.0195\n",
      "Epoch 12/20, Train Loss: 0.0185, Val Loss: 0.0194\n",
      "Epoch 13/20, Train Loss: 0.0181, Val Loss: 0.0182\n",
      "Epoch 14/20, Train Loss: 0.0174, Val Loss: 0.0178\n",
      "Epoch 15/20, Train Loss: 0.0169, Val Loss: 0.0175\n",
      "Epoch 16/20, Train Loss: 0.0167, Val Loss: 0.0175\n",
      "Epoch 17/20, Train Loss: 0.0162, Val Loss: 0.0169\n",
      "Epoch 18/20, Train Loss: 0.0157, Val Loss: 0.0164\n",
      "Epoch 19/20, Train Loss: 0.0155, Val Loss: 0.0165\n",
      "Epoch 20/20, Train Loss: 0.0154, Val Loss: 0.0156\n",
      "(593, 50)\n",
      "--- VAE Encoded Features ---\n",
      "Mean Squared Error (MSE): 0.007529991232122221\n",
      "R-squared (R²): -0.005865750354183463\n",
      "Spearman's Correlation (ρ): 0.33915866058299876\n",
      "Training Trial 16/20\n",
      "Epoch 1/20, Train Loss: 2.4946, Val Loss: 0.4987\n",
      "Epoch 2/20, Train Loss: 0.2358, Val Loss: 0.1038\n",
      "Epoch 3/20, Train Loss: 0.0755, Val Loss: 0.0505\n",
      "Epoch 4/20, Train Loss: 0.0423, Val Loss: 0.0359\n",
      "Epoch 5/20, Train Loss: 0.0331, Val Loss: 0.0300\n",
      "Epoch 6/20, Train Loss: 0.0284, Val Loss: 0.0271\n",
      "Epoch 7/20, Train Loss: 0.0256, Val Loss: 0.0251\n",
      "Epoch 8/20, Train Loss: 0.0240, Val Loss: 0.0235\n",
      "Epoch 9/20, Train Loss: 0.0223, Val Loss: 0.0220\n",
      "Epoch 10/20, Train Loss: 0.0212, Val Loss: 0.0214\n",
      "Epoch 11/20, Train Loss: 0.0203, Val Loss: 0.0201\n",
      "Epoch 12/20, Train Loss: 0.0195, Val Loss: 0.0198\n",
      "Epoch 13/20, Train Loss: 0.0187, Val Loss: 0.0194\n",
      "Epoch 14/20, Train Loss: 0.0181, Val Loss: 0.0188\n",
      "Epoch 15/20, Train Loss: 0.0178, Val Loss: 0.0182\n",
      "Epoch 16/20, Train Loss: 0.0171, Val Loss: 0.0179\n",
      "Epoch 17/20, Train Loss: 0.0167, Val Loss: 0.0174\n",
      "Epoch 18/20, Train Loss: 0.0164, Val Loss: 0.0168\n",
      "Epoch 19/20, Train Loss: 0.0161, Val Loss: 0.0167\n",
      "Epoch 20/20, Train Loss: 0.0156, Val Loss: 0.0164\n",
      "(593, 50)\n",
      "--- VAE Encoded Features ---\n",
      "Mean Squared Error (MSE): 0.006604602517359327\n",
      "R-squared (R²): 0.1177488443047714\n",
      "Spearman's Correlation (ρ): 0.3817471265620349\n",
      "Training Trial 17/20\n",
      "Epoch 1/20, Train Loss: 2.2676, Val Loss: 0.3605\n",
      "Epoch 2/20, Train Loss: 0.1868, Val Loss: 0.0904\n",
      "Epoch 3/20, Train Loss: 0.0714, Val Loss: 0.0522\n",
      "Epoch 4/20, Train Loss: 0.0471, Val Loss: 0.0398\n",
      "Epoch 5/20, Train Loss: 0.0374, Val Loss: 0.0343\n",
      "Epoch 6/20, Train Loss: 0.0326, Val Loss: 0.0304\n",
      "Epoch 7/20, Train Loss: 0.0289, Val Loss: 0.0277\n",
      "Epoch 8/20, Train Loss: 0.0263, Val Loss: 0.0252\n",
      "Epoch 9/20, Train Loss: 0.0243, Val Loss: 0.0238\n",
      "Epoch 10/20, Train Loss: 0.0228, Val Loss: 0.0232\n",
      "Epoch 11/20, Train Loss: 0.0218, Val Loss: 0.0220\n",
      "Epoch 12/20, Train Loss: 0.0207, Val Loss: 0.0209\n",
      "Epoch 13/20, Train Loss: 0.0198, Val Loss: 0.0199\n",
      "Epoch 14/20, Train Loss: 0.0189, Val Loss: 0.0198\n",
      "Epoch 15/20, Train Loss: 0.0184, Val Loss: 0.0187\n",
      "Epoch 16/20, Train Loss: 0.0180, Val Loss: 0.0186\n",
      "Epoch 17/20, Train Loss: 0.0173, Val Loss: 0.0181\n",
      "Epoch 18/20, Train Loss: 0.0171, Val Loss: 0.0177\n",
      "Epoch 19/20, Train Loss: 0.0166, Val Loss: 0.0177\n",
      "Epoch 20/20, Train Loss: 0.0163, Val Loss: 0.0174\n",
      "(593, 50)\n",
      "--- VAE Encoded Features ---\n",
      "Mean Squared Error (MSE): 0.006241219634884019\n",
      "R-squared (R²): 0.16628998923833282\n",
      "Spearman's Correlation (ρ): 0.43722151026819206\n",
      "Training Trial 18/20\n",
      "Epoch 1/20, Train Loss: 2.5152, Val Loss: 0.4462\n",
      "Epoch 2/20, Train Loss: 0.2285, Val Loss: 0.1108\n",
      "Epoch 3/20, Train Loss: 0.0820, Val Loss: 0.0560\n",
      "Epoch 4/20, Train Loss: 0.0487, Val Loss: 0.0419\n",
      "Epoch 5/20, Train Loss: 0.0387, Val Loss: 0.0350\n",
      "Epoch 6/20, Train Loss: 0.0330, Val Loss: 0.0309\n",
      "Epoch 7/20, Train Loss: 0.0296, Val Loss: 0.0288\n",
      "Epoch 8/20, Train Loss: 0.0268, Val Loss: 0.0271\n",
      "Epoch 9/20, Train Loss: 0.0259, Val Loss: 0.0253\n",
      "Epoch 10/20, Train Loss: 0.0237, Val Loss: 0.0233\n",
      "Epoch 11/20, Train Loss: 0.0220, Val Loss: 0.0225\n",
      "Epoch 12/20, Train Loss: 0.0209, Val Loss: 0.0220\n",
      "Epoch 13/20, Train Loss: 0.0204, Val Loss: 0.0211\n",
      "Epoch 14/20, Train Loss: 0.0199, Val Loss: 0.0199\n",
      "Epoch 15/20, Train Loss: 0.0185, Val Loss: 0.0192\n",
      "Epoch 16/20, Train Loss: 0.0181, Val Loss: 0.0189\n",
      "Epoch 17/20, Train Loss: 0.0176, Val Loss: 0.0186\n",
      "Epoch 18/20, Train Loss: 0.0172, Val Loss: 0.0177\n",
      "Epoch 19/20, Train Loss: 0.0167, Val Loss: 0.0175\n",
      "Epoch 20/20, Train Loss: 0.0163, Val Loss: 0.0173\n",
      "(593, 50)\n",
      "--- VAE Encoded Features ---\n",
      "Mean Squared Error (MSE): 0.007207659987528523\n",
      "R-squared (R²): 0.0371916648819377\n",
      "Spearman's Correlation (ρ): 0.3324018976982119\n",
      "Training Trial 19/20\n",
      "Epoch 1/20, Train Loss: 2.4416, Val Loss: 0.3854\n",
      "Epoch 2/20, Train Loss: 0.2021, Val Loss: 0.1051\n",
      "Epoch 3/20, Train Loss: 0.0777, Val Loss: 0.0566\n",
      "Epoch 4/20, Train Loss: 0.0492, Val Loss: 0.0422\n",
      "Epoch 5/20, Train Loss: 0.0389, Val Loss: 0.0362\n",
      "Epoch 6/20, Train Loss: 0.0331, Val Loss: 0.0331\n",
      "Epoch 7/20, Train Loss: 0.0302, Val Loss: 0.0302\n",
      "Epoch 8/20, Train Loss: 0.0272, Val Loss: 0.0267\n",
      "Epoch 9/20, Train Loss: 0.0250, Val Loss: 0.0254\n",
      "Epoch 10/20, Train Loss: 0.0233, Val Loss: 0.0242\n",
      "Epoch 11/20, Train Loss: 0.0224, Val Loss: 0.0225\n",
      "Epoch 12/20, Train Loss: 0.0211, Val Loss: 0.0221\n",
      "Epoch 13/20, Train Loss: 0.0202, Val Loss: 0.0211\n",
      "Epoch 14/20, Train Loss: 0.0196, Val Loss: 0.0202\n",
      "Epoch 15/20, Train Loss: 0.0187, Val Loss: 0.0196\n",
      "Epoch 16/20, Train Loss: 0.0183, Val Loss: 0.0194\n",
      "Epoch 17/20, Train Loss: 0.0180, Val Loss: 0.0189\n",
      "Epoch 18/20, Train Loss: 0.0177, Val Loss: 0.0183\n",
      "Epoch 19/20, Train Loss: 0.0172, Val Loss: 0.0178\n",
      "Epoch 20/20, Train Loss: 0.0165, Val Loss: 0.0175\n",
      "(593, 50)\n",
      "--- VAE Encoded Features ---\n",
      "Mean Squared Error (MSE): 0.006772768735744913\n",
      "R-squared (R²): 0.09528498820902276\n",
      "Spearman's Correlation (ρ): 0.3484857142081192\n",
      "Training Trial 20/20\n",
      "Epoch 1/20, Train Loss: 2.5991, Val Loss: 0.4318\n",
      "Epoch 2/20, Train Loss: 0.2339, Val Loss: 0.1125\n",
      "Epoch 3/20, Train Loss: 0.0836, Val Loss: 0.0565\n",
      "Epoch 4/20, Train Loss: 0.0507, Val Loss: 0.0398\n",
      "Epoch 5/20, Train Loss: 0.0387, Val Loss: 0.0338\n",
      "Epoch 6/20, Train Loss: 0.0332, Val Loss: 0.0306\n",
      "Epoch 7/20, Train Loss: 0.0294, Val Loss: 0.0272\n",
      "Epoch 8/20, Train Loss: 0.0267, Val Loss: 0.0258\n",
      "Epoch 9/20, Train Loss: 0.0246, Val Loss: 0.0241\n",
      "Epoch 10/20, Train Loss: 0.0231, Val Loss: 0.0224\n",
      "Epoch 11/20, Train Loss: 0.0218, Val Loss: 0.0216\n",
      "Epoch 12/20, Train Loss: 0.0209, Val Loss: 0.0204\n",
      "Epoch 13/20, Train Loss: 0.0197, Val Loss: 0.0199\n",
      "Epoch 14/20, Train Loss: 0.0190, Val Loss: 0.0197\n",
      "Epoch 15/20, Train Loss: 0.0184, Val Loss: 0.0181\n",
      "Epoch 16/20, Train Loss: 0.0179, Val Loss: 0.0179\n",
      "Epoch 17/20, Train Loss: 0.0176, Val Loss: 0.0178\n",
      "Epoch 18/20, Train Loss: 0.0172, Val Loss: 0.0173\n",
      "Epoch 19/20, Train Loss: 0.0164, Val Loss: 0.0167\n",
      "Epoch 20/20, Train Loss: 0.0161, Val Loss: 0.0165\n",
      "(593, 50)\n",
      "--- VAE Encoded Features ---\n",
      "Mean Squared Error (MSE): 0.0072541880004266\n",
      "R-squared (R²): 0.03097639408499908\n",
      "Spearman's Correlation (ρ): 0.2971669664131155\n",
      "Best Spearman's Correlation (ρ) achieved: 0.4372\n",
      "Loading the best model...\n"
     ]
    },
    {
     "data": {
      "image/png": "[encoded data removed]",
      "text/plain": [
       "<Figure size 432x288 with 2 Axes>"
      ]
     },
     "metadata": {
      "needs_background": "light"
     },
     "output_type": "display_data"
    }
   ],
   "source": [
    "# Use VAE for feature selection\n",
    "device = torch.device(\"cuda\" if torch.cuda.is_available() else \"cpu\")\n",
    "\n",
    "# Convert to tensor\n",
    "X_train_tensor = torch.tensor(X_train.values, dtype=torch.float32)\n",
    "dataset = TensorDataset(X_train_tensor)\n",
    "train_loader = DataLoader(dataset, batch_size=32, shuffle=True)\n",
    "X_test_tensor = torch.tensor(X_test.values, dtype=torch.float32)\n",
    "test_dataset = TensorDataset(X_test_tensor)\n",
    "test_loader = DataLoader(test_dataset, batch_size=32, shuffle=False)\n",
    "\n",
    "input_dim = X_train.shape[1]\n",
    "latent_dim = 50\n",
    "num_trials = 20  # Number of times to train the model and select the best one\n",
    "best_spearman = -float('inf')\n",
    "best_model_state = None\n",
    "best_latent_train = None\n",
    "best_latent_test = None\n",
    "\n",
    "for trial in range(num_trials):\n",
    "    print(f\"Training Trial {trial + 1}/{num_trials}\")\n",
    "    model = VAE(input_dim=input_dim, latent_dim=latent_dim).to(device)\n",
    "    optimizer = optim.Adam(model.parameters(), lr=1e-3)\n",
    "    train(model, train_loader, test_loader, optimizer, epochs=20, device=device)\n",
    "    \n",
    "    # Extract latent features from X_train\n",
    "    latent_train, _ = model.encode(X_train_tensor)\n",
    "    latent_test, _ = model.encode(X_test_tensor)\n",
    "    latent_train = latent_train.detach().numpy()\n",
    "    latent_test = latent_test.detach().numpy()\n",
    "    print(latent_train.shape) \n",
    "    \n",
    "    # Train a linear regression model on the encoded features\n",
    "    vae_encoded_model = LinearRegression()\n",
    "    vae_encoded_model.fit(latent_train, y_train)\n",
    "    y_pred_vae = vae_encoded_model.predict(latent_test)\n",
    "    \n",
    "    # Calculate regression metrics\n",
    "    mse_vae = mean_squared_error(y_test, y_pred_vae)\n",
    "    r2_vae = r2_score(y_test, y_pred_vae)\n",
    "    spearman_vae, p_value_vae = spearmanr(y_test, y_pred_vae)\n",
    "\n",
    "    # Print the results\n",
    "    print(\"--- VAE Encoded Features ---\")\n",
    "    print(\"Mean Squared Error (MSE):\", mse_vae)\n",
    "    print(\"R-squared (R²):\", r2_vae)\n",
    "    print(\"Spearman's Correlation (ρ):\", spearman_vae)\n",
    "\n",
    "    # Track the best model based on Spearman's correlation\n",
    "    if spearman_vae > best_spearman:\n",
    "        best_spearman = spearman_vae\n",
    "        best_model_state = model.state_dict()  # Save the best model state\n",
    "        best_latent_train = latent_train  # Save the best latent train features\n",
    "        best_latent_test = latent_test    # Save the best latent test features\n",
    "\n",
    "# After all trials, load the best model state\n",
    "if best_model_state is not None:\n",
    "    print(f\"Best Spearman's Correlation (ρ) achieved: {best_spearman:.4f}\")\n",
    "    print(\"Loading the best model...\")\n",
    "    best_model = VAE(input_dim=input_dim, latent_dim=latent_dim).to(device)\n",
    "    best_model.load_state_dict(best_model_state)\n",
    "    \n",
    "    # Plot only the best latent features\n",
    "    plt.scatter(best_latent_train[:, 0], best_latent_train[:, 1], c=y_train['AAC'], cmap='viridis')\n",
    "    plt.colorbar()\n",
    "    plt.title(f\"Best Spearman's Correlation: {best_spearman:.4f}\")\n",
    "    plt.show()"
   ]
  },
  {
   "cell_type": "code",
   "execution_count": 171,
   "metadata": {},
   "outputs": [],
   "source": [
    "total_data = pd.concat([train_data, test_data])\n",
    "total_data_tensor = torch.tensor(total_data.values, dtype=torch.float32)\n",
    "encoded_features,_ = best_model.encode(total_data_tensor)\n",
    "project_root = Path().resolve().parent.parent\n",
    "sys.path.append(str(project_root))\n",
    "# Load the data\n",
    "data_path = project_root / 'data' / 'encoded'\n",
    "encoded_features = pd.DataFrame(encoded_features.detach().numpy(), columns=[\"encoded_feature_\" + str(i) for i in range(encoded_features.shape[1])])\n",
    "encoded_features.to_csv(data_path / 'vae_data.csv', index=False)"
   ]
  },
  {
   "cell_type": "code",
   "execution_count": 14,
   "metadata": {},
   "outputs": [
    {
     "data": {
      "image/png": "[encoded data removed]",
      "text/plain": [
       "<Figure size 432x288 with 1 Axes>"
      ]
     },
     "metadata": {
      "needs_background": "light"
     },
     "output_type": "display_data"
    }
   ],
   "source": [
    "# PLot the 5 values with the highest and lowest values of AAC\n",
    "# Sort the predictions\n",
    "sorted_indices = np.argsort(y_train['AAC'].values)\n",
    "# Get the 5 highest and lowest values\n",
    "highest_indices = sorted_indices[-5:]\n",
    "lowest_indices = sorted_indices[:5]\n",
    "# Plot the values in latent space\n",
    "plt.scatter(latent_train[highest_indices, 0], latent_train[highest_indices, 1], c='r', label='Highest')\n",
    "plt.scatter(latent_train[lowest_indices, 0], latent_train[lowest_indices, 1], c='b', label='Lowest')\n",
    "plt.legend()\n",
    "plt.show()\n"
   ]
  },
  {
   "cell_type": "code",
   "execution_count": 104,
   "metadata": {},
   "outputs": [
    {
     "name": "stdout",
     "output_type": "stream",
     "text": [
      "--- MLP Regressor ---\n",
      "Mean Squared Error (MSE): 0.00720598828151476\n",
      "R-squared (R²): 0.03741497348510481\n",
      "Spearman's Correlation (ρ): 0.2575641733759207\n"
     ]
    }
   ],
   "source": [
    "from sklearn.neural_network import MLPRegressor\n",
    "# Use a MLPRegressor\n",
    "mlp_model = MLPRegressor(\n",
    "    hidden_layer_sizes=(100, 50),  # Two hidden layers with 100 and 50 neurons\n",
    "    activation='relu',\n",
    "    solver='adam',\n",
    "    learning_rate='adaptive',\n",
    "    max_iter=1000,\n",
    "    random_state=42\n",
    ")\n",
    "mlp_model.fit(latent_train, y_train['AAC'])\n",
    "y_pred_mlp = mlp_model.predict(latent_test)\n",
    "# Calculate regression metrics\n",
    "mse_mlp = mean_squared_error(y_test['AAC'], y_pred_mlp)\n",
    "r2_mlp = r2_score(y_test['AAC'], y_pred_mlp)\n",
    "spearman_mlp, p_value_mlp = spearmanr(y_test['AAC'], y_pred_mlp)\n",
    "# Print\n",
    "print(\"--- MLP Regressor ---\")\n",
    "print(\"Mean Squared Error (MSE):\", mse_mlp)\n",
    "print(\"R-squared (R²):\", r2_mlp)\n",
    "print(\"Spearman's Correlation (ρ):\", spearman_mlp)\n"
   ]
  },
  {
   "cell_type": "markdown",
   "metadata": {},
   "source": [
    "# Data Augmentation"
   ]
  },
  {
   "cell_type": "code",
   "execution_count": 16,
   "metadata": {},
   "outputs": [],
   "source": [
    "# Add the project root directory to the Python path\n",
    "project_root = Path().resolve().parent.parent\n",
    "sys.path.append(str(project_root))\n",
    "# Load the data\n",
    "data_path = project_root / 'data' / 'preprocessed'\n",
    "train_augmented = pd.read_csv(data_path / 'train_augmented.csv')"
   ]
  },
  {
   "cell_type": "code",
   "execution_count": 17,
   "metadata": {},
   "outputs": [
    {
     "data": {
      "image/png": "[encoded data removed]",
      "text/plain": [
       "<Figure size 432x288 with 1 Axes>"
      ]
     },
     "metadata": {
      "needs_background": "light"
     },
     "output_type": "display_data"
    },
    {
     "name": "stdout",
     "output_type": "stream",
     "text": [
      "A3GALT2    0.690962\n",
      "AADACL3    0.690962\n",
      "AADACL4    0.690962\n",
      "AARD       0.690962\n",
      "AARS1      0.690962\n",
      "             ...   \n",
      "ZSCAN5B    0.690962\n",
      "ZSCAN5C    0.690962\n",
      "ZSWIM4     0.690962\n",
      "ZSWIM9     0.690962\n",
      "ZUP1       0.690962\n",
      "Length: 3879, dtype: float64\n"
     ]
    }
   ],
   "source": [
    "# Plot percentage of samples == 0  per columns\n",
    "percentage_zeros = (train_augmented == 0).mean()\n",
    "percentage_zeros.plot(kind='hist', bins=50)\n",
    "plt.xlabel('Percentage of zeros')\n",
    "plt.ylabel('Number of columns')\n",
    "plt.title('Percentage of zeros per column')\n",
    "plt.show()\n",
    "# Print all columns with more than 40% zeros\n",
    "print(percentage_zeros[percentage_zeros > 0.6])"
   ]
  },
  {
   "cell_type": "code",
   "execution_count": 18,
   "metadata": {},
   "outputs": [],
   "source": [
    "# Get all columns with more than 60% zeros\n",
    "columns_to_drop = percentage_zeros[percentage_zeros > 0.6].index\n",
    "# drop these columns\n",
    "train_augmented = train_augmented.drop(columns=columns_to_drop)\n",
    "# Split the data between extra data and fine tune data\n",
    "fine_tune_data = train_augmented[:nb_cell_lines]\n",
    "extra_data = train_augmented[nb_cell_lines:]"
   ]
  },
  {
   "cell_type": "code",
   "execution_count": 19,
   "metadata": {},
   "outputs": [],
   "source": [
    "# Split the data\n",
    "fine_tune_train, fine_tune_test, y_train, y_test = train_test_split(fine_tune_data, train_target, test_size=0.2, random_state=42)\n",
    "extra_train, extra_test = train_test_split(extra_data, test_size=0.2, random_state=42)"
   ]
  },
  {
   "cell_type": "code",
   "execution_count": 20,
   "metadata": {},
   "outputs": [
    {
     "data": {
      "text/html": [
       "<pre style=\"white-space:pre;overflow-x:auto;line-height:normal;font-family:Menlo,'DejaVu Sans Mono',consolas,'Courier New',monospace\"><span style=\"font-weight: bold\">Model: \"functional_2\"</span>\n",
       "</pre>\n"
      ],
      "text/plain": [
       "\u001b[1mModel: \"functional_2\"\u001b[0m\n"
      ]
     },
     "metadata": {},
     "output_type": "display_data"
    },
    {
     "data": {
      "text/html": [
       "<pre style=\"white-space:pre;overflow-x:auto;line-height:normal;font-family:Menlo,'DejaVu Sans Mono',consolas,'Courier New',monospace\">┏━━━━━━━━━━━━━━━━━━━━━━━━━━━━━━━━━┳━━━━━━━━━━━━━━━━━━━━━━━━┳━━━━━━━━━━━━━━━┓\n",
       "┃<span style=\"font-weight: bold\"> Layer (type)                    </span>┃<span style=\"font-weight: bold\"> Output Shape           </span>┃<span style=\"font-weight: bold\">       Param # </span>┃\n",
       "┡━━━━━━━━━━━━━━━━━━━━━━━━━━━━━━━━━╇━━━━━━━━━━━━━━━━━━━━━━━━╇━━━━━━━━━━━━━━━┩\n",
       "│ input_layer_1 (<span style=\"color: #0087ff; text-decoration-color: #0087ff\">InputLayer</span>)      │ (<span style=\"color: #00d7ff; text-decoration-color: #00d7ff\">None</span>, <span style=\"color: #00af00; text-decoration-color: #00af00\">16028</span>)          │             <span style=\"color: #00af00; text-decoration-color: #00af00\">0</span> │\n",
       "├─────────────────────────────────┼────────────────────────┼───────────────┤\n",
       "│ dense_2 (<span style=\"color: #0087ff; text-decoration-color: #0087ff\">Dense</span>)                 │ (<span style=\"color: #00d7ff; text-decoration-color: #00d7ff\">None</span>, <span style=\"color: #00af00; text-decoration-color: #00af00\">500</span>)            │     <span style=\"color: #00af00; text-decoration-color: #00af00\">8,014,500</span> │\n",
       "├─────────────────────────────────┼────────────────────────┼───────────────┤\n",
       "│ dense_3 (<span style=\"color: #0087ff; text-decoration-color: #0087ff\">Dense</span>)                 │ (<span style=\"color: #00d7ff; text-decoration-color: #00d7ff\">None</span>, <span style=\"color: #00af00; text-decoration-color: #00af00\">16028</span>)          │     <span style=\"color: #00af00; text-decoration-color: #00af00\">8,030,028</span> │\n",
       "└─────────────────────────────────┴────────────────────────┴───────────────┘\n",
       "</pre>\n"
      ],
      "text/plain": [
       "┏━━━━━━━━━━━━━━━━━━━━━━━━━━━━━━━━━┳━━━━━━━━━━━━━━━━━━━━━━━━┳━━━━━━━━━━━━━━━┓\n",
       "┃\u001b[1m \u001b[0m\u001b[1mLayer (type)                   \u001b[0m\u001b[1m \u001b[0m┃\u001b[1m \u001b[0m\u001b[1mOutput Shape          \u001b[0m\u001b[1m \u001b[0m┃\u001b[1m \u001b[0m\u001b[1m      Param #\u001b[0m\u001b[1m \u001b[0m┃\n",
       "┡━━━━━━━━━━━━━━━━━━━━━━━━━━━━━━━━━╇━━━━━━━━━━━━━━━━━━━━━━━━╇━━━━━━━━━━━━━━━┩\n",
       "│ input_layer_1 (\u001b[38;5;33mInputLayer\u001b[0m)      │ (\u001b[38;5;45mNone\u001b[0m, \u001b[38;5;34m16028\u001b[0m)          │             \u001b[38;5;34m0\u001b[0m │\n",
       "├─────────────────────────────────┼────────────────────────┼───────────────┤\n",
       "│ dense_2 (\u001b[38;5;33mDense\u001b[0m)                 │ (\u001b[38;5;45mNone\u001b[0m, \u001b[38;5;34m500\u001b[0m)            │     \u001b[38;5;34m8,014,500\u001b[0m │\n",
       "├─────────────────────────────────┼────────────────────────┼───────────────┤\n",
       "│ dense_3 (\u001b[38;5;33mDense\u001b[0m)                 │ (\u001b[38;5;45mNone\u001b[0m, \u001b[38;5;34m16028\u001b[0m)          │     \u001b[38;5;34m8,030,028\u001b[0m │\n",
       "└─────────────────────────────────┴────────────────────────┴───────────────┘\n"
      ]
     },
     "metadata": {},
     "output_type": "display_data"
    },
    {
     "data": {
      "text/html": [
       "<pre style=\"white-space:pre;overflow-x:auto;line-height:normal;font-family:Menlo,'DejaVu Sans Mono',consolas,'Courier New',monospace\"><span style=\"font-weight: bold\"> Total params: </span><span style=\"color: #00af00; text-decoration-color: #00af00\">16,044,528</span> (61.21 MB)\n",
       "</pre>\n"
      ],
      "text/plain": [
       "\u001b[1m Total params: \u001b[0m\u001b[38;5;34m16,044,528\u001b[0m (61.21 MB)\n"
      ]
     },
     "metadata": {},
     "output_type": "display_data"
    },
    {
     "data": {
      "text/html": [
       "<pre style=\"white-space:pre;overflow-x:auto;line-height:normal;font-family:Menlo,'DejaVu Sans Mono',consolas,'Courier New',monospace\"><span style=\"font-weight: bold\"> Trainable params: </span><span style=\"color: #00af00; text-decoration-color: #00af00\">16,044,528</span> (61.21 MB)\n",
       "</pre>\n"
      ],
      "text/plain": [
       "\u001b[1m Trainable params: \u001b[0m\u001b[38;5;34m16,044,528\u001b[0m (61.21 MB)\n"
      ]
     },
     "metadata": {},
     "output_type": "display_data"
    },
    {
     "data": {
      "text/html": [
       "<pre style=\"white-space:pre;overflow-x:auto;line-height:normal;font-family:Menlo,'DejaVu Sans Mono',consolas,'Courier New',monospace\"><span style=\"font-weight: bold\"> Non-trainable params: </span><span style=\"color: #00af00; text-decoration-color: #00af00\">0</span> (0.00 B)\n",
       "</pre>\n"
      ],
      "text/plain": [
       "\u001b[1m Non-trainable params: \u001b[0m\u001b[38;5;34m0\u001b[0m (0.00 B)\n"
      ]
     },
     "metadata": {},
     "output_type": "display_data"
    }
   ],
   "source": [
    "# Define the autoencoder architecture\n",
    "input_dim = extra_train.shape[1]\n",
    "encoding_dim = 500\n",
    "\n",
    "# Set the encoding dimension\n",
    "input_layer = keras.layers.Input(shape=(input_dim,))\n",
    "encoder = keras.layers.Dense(encoding_dim, activation=\"relu\")(input_layer)\n",
    "decoder = keras.layers.Dense(input_dim, activation=\"sigmoid\")(encoder)\n",
    "autoencoder = keras.Model(inputs=input_layer, outputs=decoder)\n",
    "\n",
    "# Compile the autoencoder\n",
    "autoencoder.compile(optimizer='adam', loss='mse')\n",
    "\n",
    "# Summary of the autoencoder architecture\n",
    "autoencoder.summary()"
   ]
  },
  {
   "cell_type": "code",
   "execution_count": 21,
   "metadata": {},
   "outputs": [
    {
     "name": "stdout",
     "output_type": "stream",
     "text": [
      "Epoch 1/10\n",
      "\u001b[1m42/42\u001b[0m \u001b[32m━━━━━━━━━━━━━━━━━━━━\u001b[0m\u001b[37m\u001b[0m \u001b[1m6s\u001b[0m 122ms/step - loss: 0.9108 - val_loss: 0.8095\n",
      "Epoch 2/10\n",
      "\u001b[1m42/42\u001b[0m \u001b[32m━━━━━━━━━━━━━━━━━━━━\u001b[0m\u001b[37m\u001b[0m \u001b[1m5s\u001b[0m 123ms/step - loss: 0.7894 - val_loss: 0.7784\n",
      "Epoch 3/10\n",
      "\u001b[1m42/42\u001b[0m \u001b[32m━━━━━━━━━━━━━━━━━━━━\u001b[0m\u001b[37m\u001b[0m \u001b[1m5s\u001b[0m 115ms/step - loss: 0.7586 - val_loss: 0.7513\n",
      "Epoch 4/10\n",
      "\u001b[1m42/42\u001b[0m \u001b[32m━━━━━━━━━━━━━━━━━━━━\u001b[0m\u001b[37m\u001b[0m \u001b[1m5s\u001b[0m 115ms/step - loss: 0.7264 - val_loss: 0.7310\n",
      "Epoch 5/10\n",
      "\u001b[1m42/42\u001b[0m \u001b[32m━━━━━━━━━━━━━━━━━━━━\u001b[0m\u001b[37m\u001b[0m \u001b[1m5s\u001b[0m 116ms/step - loss: 0.6980 - val_loss: 0.7181\n",
      "Epoch 6/10\n",
      "\u001b[1m42/42\u001b[0m \u001b[32m━━━━━━━━━━━━━━━━━━━━\u001b[0m\u001b[37m\u001b[0m \u001b[1m5s\u001b[0m 117ms/step - loss: 0.6801 - val_loss: 0.7100\n",
      "Epoch 7/10\n",
      "\u001b[1m42/42\u001b[0m \u001b[32m━━━━━━━━━━━━━━━━━━━━\u001b[0m\u001b[37m\u001b[0m \u001b[1m4s\u001b[0m 106ms/step - loss: 0.6605 - val_loss: 0.7030\n",
      "Epoch 8/10\n",
      "\u001b[1m42/42\u001b[0m \u001b[32m━━━━━━━━━━━━━━━━━━━━\u001b[0m\u001b[37m\u001b[0m \u001b[1m5s\u001b[0m 121ms/step - loss: 0.6504 - val_loss: 0.6982\n",
      "Epoch 9/10\n",
      "\u001b[1m42/42\u001b[0m \u001b[32m━━━━━━━━━━━━━━━━━━━━\u001b[0m\u001b[37m\u001b[0m \u001b[1m5s\u001b[0m 122ms/step - loss: 0.6383 - val_loss: 0.6951\n",
      "Epoch 10/10\n",
      "\u001b[1m42/42\u001b[0m \u001b[32m━━━━━━━━━━━━━━━━━━━━\u001b[0m\u001b[37m\u001b[0m \u001b[1m5s\u001b[0m 127ms/step - loss: 0.6314 - val_loss: 0.6930\n"
     ]
    },
    {
     "data": {
      "text/plain": [
       "<keras.src.callbacks.history.History at 0x7fb1c0f817c0>"
      ]
     },
     "execution_count": 21,
     "metadata": {},
     "output_type": "execute_result"
    }
   ],
   "source": [
    "autoencoder.fit(extra_train, extra_train, epochs=10, batch_size=32, shuffle=True, validation_data=(extra_test, extra_test))"
   ]
  },
  {
   "cell_type": "code",
   "execution_count": 22,
   "metadata": {},
   "outputs": [
    {
     "name": "stdout",
     "output_type": "stream",
     "text": [
      "Epoch 1/10\n",
      "\u001b[1m19/19\u001b[0m \u001b[32m━━━━━━━━━━━━━━━━━━━━\u001b[0m\u001b[37m\u001b[0m \u001b[1m3s\u001b[0m 131ms/step - loss: 0.8093 - val_loss: 0.7641\n",
      "Epoch 2/10\n",
      "\u001b[1m19/19\u001b[0m \u001b[32m━━━━━━━━━━━━━━━━━━━━\u001b[0m\u001b[37m\u001b[0m \u001b[1m2s\u001b[0m 118ms/step - loss: 0.7659 - val_loss: 0.7637\n",
      "Epoch 3/10\n",
      "\u001b[1m19/19\u001b[0m \u001b[32m━━━━━━━━━━━━━━━━━━━━\u001b[0m\u001b[37m\u001b[0m \u001b[1m2s\u001b[0m 120ms/step - loss: 0.7577 - val_loss: 0.7619\n",
      "Epoch 4/10\n",
      "\u001b[1m19/19\u001b[0m \u001b[32m━━━━━━━━━━━━━━━━━━━━\u001b[0m\u001b[37m\u001b[0m \u001b[1m2s\u001b[0m 119ms/step - loss: 0.7493 - val_loss: 0.7609\n",
      "Epoch 5/10\n",
      "\u001b[1m19/19\u001b[0m \u001b[32m━━━━━━━━━━━━━━━━━━━━\u001b[0m\u001b[37m\u001b[0m \u001b[1m2s\u001b[0m 119ms/step - loss: 0.7206 - val_loss: 0.7599\n",
      "Epoch 6/10\n",
      "\u001b[1m19/19\u001b[0m \u001b[32m━━━━━━━━━━━━━━━━━━━━\u001b[0m\u001b[37m\u001b[0m \u001b[1m2s\u001b[0m 119ms/step - loss: 0.7206 - val_loss: 0.7595\n",
      "Epoch 7/10\n",
      "\u001b[1m19/19\u001b[0m \u001b[32m━━━━━━━━━━━━━━━━━━━━\u001b[0m\u001b[37m\u001b[0m \u001b[1m2s\u001b[0m 117ms/step - loss: 0.7255 - val_loss: 0.7593\n",
      "Epoch 8/10\n",
      "\u001b[1m19/19\u001b[0m \u001b[32m━━━━━━━━━━━━━━━━━━━━\u001b[0m\u001b[37m\u001b[0m \u001b[1m2s\u001b[0m 121ms/step - loss: 0.7201 - val_loss: 0.7591\n",
      "Epoch 9/10\n",
      "\u001b[1m19/19\u001b[0m \u001b[32m━━━━━━━━━━━━━━━━━━━━\u001b[0m\u001b[37m\u001b[0m \u001b[1m2s\u001b[0m 119ms/step - loss: 0.7168 - val_loss: 0.7588\n",
      "Epoch 10/10\n",
      "\u001b[1m19/19\u001b[0m \u001b[32m━━━━━━━━━━━━━━━━━━━━\u001b[0m\u001b[37m\u001b[0m \u001b[1m2s\u001b[0m 120ms/step - loss: 0.7132 - val_loss: 0.7591\n"
     ]
    },
    {
     "data": {
      "text/plain": [
       "<keras.src.callbacks.history.History at 0x7fb0e167f7f0>"
      ]
     },
     "execution_count": 22,
     "metadata": {},
     "output_type": "execute_result"
    }
   ],
   "source": [
    "# Fine-tune the autoencoder\n",
    "autoencoder.fit(fine_tune_train, fine_tune_train, epochs=10, batch_size=32, shuffle=True, validation_data=(fine_tune_test, fine_tune_test))"
   ]
  },
  {
   "cell_type": "code",
   "execution_count": 23,
   "metadata": {},
   "outputs": [
    {
     "name": "stdout",
     "output_type": "stream",
     "text": [
      "\u001b[1m19/19\u001b[0m \u001b[32m━━━━━━━━━━━━━━━━━━━━\u001b[0m\u001b[37m\u001b[0m \u001b[1m0s\u001b[0m 5ms/step\n",
      "\u001b[1m5/5\u001b[0m \u001b[32m━━━━━━━━━━━━━━━━━━━━\u001b[0m\u001b[37m\u001b[0m \u001b[1m0s\u001b[0m 4ms/step \n",
      "Encoded Features Shape (Train): (593, 500)\n",
      "Encoded Features Shape (Test): (149, 500)\n"
     ]
    },
    {
     "data": {
      "image/png": "[encoded data removed]",
      "text/plain": [
       "<Figure size 432x288 with 2 Axes>"
      ]
     },
     "metadata": {
      "needs_background": "light"
     },
     "output_type": "display_data"
    }
   ],
   "source": [
    "# Use encoder part of the autoencoder for feature selection\n",
    "encoder = keras.Model(inputs=autoencoder.input, outputs=autoencoder.layers[1].output)\n",
    "encoded_features_train = encoder.predict(fine_tune_train)\n",
    "encoded_features_test = encoder.predict(fine_tune_test)\n",
    "\n",
    "# Display the shape of extracted features\n",
    "print(\"Encoded Features Shape (Train):\", encoded_features_train.shape)\n",
    "print(\"Encoded Features Shape (Test):\", encoded_features_test.shape)\n",
    "# plot all encoded features\n",
    "plt.scatter(encoded_features_train[:,0], encoded_features_train[:,1], c = y_train['AAC'], cmap='viridis')\n",
    "plt.colorbar()\n",
    "plt.show()"
   ]
  },
  {
   "cell_type": "code",
   "execution_count": 24,
   "metadata": {},
   "outputs": [
    {
     "name": "stdout",
     "output_type": "stream",
     "text": [
      "--- Encoded Features ---\n",
      "Mean Squared Error (MSE): 0.04208095010284664\n",
      "R-squared (R²): -4.621226525503842\n",
      "Spearman's Correlation (ρ): 0.18302392801016779\n",
      "P-value (Spearman): 0.025471003963444098\n"
     ]
    }
   ],
   "source": [
    "# --- Encoded Features ---\n",
    "# Fit a linear regression model using the encoded features\n",
    "encoded_model = LinearRegression()\n",
    "encoded_model.fit(encoded_features_train, y_train)\n",
    "\n",
    "# Make predictions on the test set\n",
    "y_pred_encoded = encoded_model.predict(encoded_features_test)\n",
    "\n",
    "# Calculate regression metrics\n",
    "mse_encoded = mean_squared_error(y_test, y_pred_encoded)\n",
    "r2_encoded = r2_score(y_test, y_pred_encoded)\n",
    "\n",
    "# Calculate Spearman's rank correlation for encoded features\n",
    "spearman_encoded, p_value_encoded = spearmanr(y_test, y_pred_encoded)\n",
    "\n",
    "print(\"--- Encoded Features ---\")\n",
    "print(\"Mean Squared Error (MSE):\", mse_encoded)\n",
    "print(\"R-squared (R²):\", r2_encoded)\n",
    "print(\"Spearman's Correlation (ρ):\", spearman_encoded)\n",
    "print(\"P-value (Spearman):\", p_value_encoded)"
   ]
  },
  {
   "cell_type": "code",
   "execution_count": 25,
   "metadata": {},
   "outputs": [
    {
     "name": "stdout",
     "output_type": "stream",
     "text": [
      "Epoch 1/10, Train Loss: 1.6073, Val Loss: 0.2975\n",
      "Epoch 2/10, Train Loss: 0.0940, Val Loss: 0.0343\n",
      "Epoch 3/10, Train Loss: 0.0281, Val Loss: 0.0223\n",
      "Epoch 4/10, Train Loss: 0.0206, Val Loss: 0.0181\n",
      "Epoch 5/10, Train Loss: 0.0167, Val Loss: 0.0168\n",
      "Epoch 6/10, Train Loss: 0.0143, Val Loss: 0.0116\n",
      "Epoch 7/10, Train Loss: 0.0113, Val Loss: 0.0111\n",
      "Epoch 8/10, Train Loss: 0.0105, Val Loss: 0.0098\n",
      "Epoch 9/10, Train Loss: 0.0088, Val Loss: 0.0085\n",
      "Epoch 10/10, Train Loss: 0.0076, Val Loss: 0.0074\n"
     ]
    }
   ],
   "source": [
    "# Normalize the data\n",
    "scaler = MinMaxScaler()\n",
    "new_X_train_scaled = scaler.fit_transform(extra_train)\n",
    "\n",
    "# Convert to tensor\n",
    "new_X_train_tensor = torch.tensor(new_X_train_scaled, dtype=torch.float32)\n",
    "new_dataset = TensorDataset(new_X_train_tensor)\n",
    "new_train_loader = DataLoader(new_dataset, batch_size=32, shuffle=True)\n",
    "new_X_test_tensor = torch.tensor(scaler.transform(extra_test), dtype=torch.float32)\n",
    "new_test_dataset = TensorDataset(new_X_test_tensor)\n",
    "new_test_loader = DataLoader(new_test_dataset, batch_size=32, shuffle=False)\n",
    "\n",
    "X_train_scaled = scaler.fit_transform(fine_tune_train)\n",
    "X_train_tensor = torch.tensor(X_train_scaled, dtype=torch.float32)\n",
    "dataset = TensorDataset(X_train_tensor)\n",
    "train_loader = DataLoader(dataset, batch_size=32, shuffle=True)\n",
    "\n",
    "X_test_tensor = torch.tensor(scaler.transform(fine_tune_test), dtype=torch.float32)\n",
    "test_dataset = TensorDataset(X_test_tensor)\n",
    "test_loader = DataLoader(test_dataset, batch_size=32, shuffle=False)\n",
    "input_dim = extra_train.shape[1]\n",
    "latent_dim = 50\n",
    "augmented_model = VAE(input_dim=input_dim, latent_dim=latent_dim).to(device)\n",
    "optimizer = optim.Adam(augmented_model.parameters(), lr=1e-3)\n",
    "train(augmented_model, new_train_loader,new_test_loader, optimizer, epochs=10, device=device)\n"
   ]
  },
  {
   "cell_type": "code",
   "execution_count": 26,
   "metadata": {},
   "outputs": [
    {
     "name": "stdout",
     "output_type": "stream",
     "text": [
      "Epoch 1/20, Train Loss: 0.1036, Val Loss: 0.0767\n",
      "Epoch 2/20, Train Loss: 0.0337, Val Loss: 0.0258\n",
      "Epoch 3/20, Train Loss: 0.0123, Val Loss: 0.0153\n",
      "Epoch 4/20, Train Loss: 0.0072, Val Loss: 0.0126\n",
      "Epoch 5/20, Train Loss: 0.0053, Val Loss: 0.0110\n",
      "Epoch 6/20, Train Loss: 0.0045, Val Loss: 0.0101\n",
      "Epoch 7/20, Train Loss: 0.0038, Val Loss: 0.0097\n",
      "Epoch 8/20, Train Loss: 0.0034, Val Loss: 0.0092\n",
      "Epoch 9/20, Train Loss: 0.0031, Val Loss: 0.0089\n",
      "Epoch 10/20, Train Loss: 0.0028, Val Loss: 0.0086\n",
      "Epoch 11/20, Train Loss: 0.0026, Val Loss: 0.0086\n",
      "Epoch 12/20, Train Loss: 0.0024, Val Loss: 0.0082\n",
      "Epoch 13/20, Train Loss: 0.0023, Val Loss: 0.0081\n",
      "Epoch 14/20, Train Loss: 0.0021, Val Loss: 0.0079\n",
      "Epoch 15/20, Train Loss: 0.0020, Val Loss: 0.0078\n",
      "Epoch 16/20, Train Loss: 0.0019, Val Loss: 0.0077\n",
      "Epoch 17/20, Train Loss: 0.0018, Val Loss: 0.0075\n",
      "Epoch 18/20, Train Loss: 0.0017, Val Loss: 0.0075\n",
      "Epoch 19/20, Train Loss: 0.0016, Val Loss: 0.0074\n",
      "Epoch 20/20, Train Loss: 0.0016, Val Loss: 0.0072\n"
     ]
    }
   ],
   "source": [
    "# Fine-Tune the VAE\n",
    "train(augmented_model, train_loader,test_loader, optimizer, epochs=20, device=device)"
   ]
  },
  {
   "cell_type": "code",
   "execution_count": 27,
   "metadata": {},
   "outputs": [
    {
     "name": "stdout",
     "output_type": "stream",
     "text": [
      "(593, 50)\n"
     ]
    }
   ],
   "source": [
    "# Extract latent features from X_train\n",
    "new_latent_train,_ = augmented_model.encode(X_train_tensor)\n",
    "new_latent_test,_ = augmented_model.encode(X_test_tensor)\n",
    "new_latent_train = new_latent_train.detach().numpy()\n",
    "new_latent_test = new_latent_test.detach().numpy()\n",
    "print(new_latent_train.shape) "
   ]
  },
  {
   "cell_type": "code",
   "execution_count": 28,
   "metadata": {},
   "outputs": [
    {
     "data": {
      "image/png": "[encoded data removed]",
      "text/plain": [
       "<Figure size 432x288 with 2 Axes>"
      ]
     },
     "metadata": {
      "needs_background": "light"
     },
     "output_type": "display_data"
    }
   ],
   "source": [
    "# plot all encoded features\n",
    "plt.scatter(new_latent_train[:,0], new_latent_train[:,1], c = y_train['AAC'], cmap='viridis')\n",
    "plt.colorbar()\n",
    "plt.show()"
   ]
  },
  {
   "cell_type": "code",
   "execution_count": 29,
   "metadata": {},
   "outputs": [
    {
     "name": "stdout",
     "output_type": "stream",
     "text": [
      "--- VAE Encoded Features ---\n",
      "Mean Squared Error (MSE): 0.015442601678546079\n",
      "R-squared (R²): -1.0628422591713584\n",
      "Spearman's Correlation (ρ): 0.33455499234096137\n"
     ]
    }
   ],
   "source": [
    "vae_augmented_model = LinearRegression()\n",
    "vae_augmented_model.fit(new_latent_train, y_train)\n",
    "new_y_pred_vae = vae_augmented_model.predict(new_latent_test)\n",
    "# Calculate regression metrics\n",
    "mse_vae_augmented = mean_squared_error(y_test, new_y_pred_vae)\n",
    "r2_vae_augmented = r2_score(y_test, new_y_pred_vae)\n",
    "spearman_vae_augmented, p_value_vae_augmented = spearmanr(y_test, new_y_pred_vae)\n",
    "\n",
    "# Print the results\n",
    "print(\"--- VAE Encoded Features ---\")\n",
    "print(\"Mean Squared Error (MSE):\", mse_vae_augmented)\n",
    "print(\"R-squared (R²):\", r2_vae_augmented)\n",
    "print(\"Spearman's Correlation (ρ):\", spearman_vae_augmented)"
   ]
  },
  {
   "cell_type": "code",
   "execution_count": null,
   "metadata": {},
   "outputs": [],
   "source": []
  },
  {
   "cell_type": "markdown",
   "metadata": {},
   "source": [
    "# VAE 2"
   ]
  },
  {
   "cell_type": "code",
   "execution_count": 205,
   "metadata": {},
   "outputs": [],
   "source": [
    "from pathlib import Path\n",
    "import sys\n",
    "import pandas as pd\n",
    "# Load data from the encoded folder\n",
    "# Add the project root directory to the Python path\n",
    "project_root = Path().resolve().parent.parent\n",
    "sys.path.append(str(project_root))\n",
    "# Load the data\n",
    "data_path = project_root / 'data' / 'encoded'\n",
    "encoded_data= pd.read_csv(data_path / 'ae_data.csv')"
   ]
  },
  {
   "cell_type": "code",
   "execution_count": 206,
   "metadata": {},
   "outputs": [],
   "source": [
    "# Divide between train and test\n",
    "nb_cell_lines = 742\n",
    "encoded_train = encoded_data[:nb_cell_lines]\n",
    "encoded_test = encoded_data[nb_cell_lines:]"
   ]
  },
  {
   "cell_type": "code",
   "execution_count": 209,
   "metadata": {},
   "outputs": [
    {
     "name": "stdout",
     "output_type": "stream",
     "text": [
      "(742, 50)\n"
     ]
    }
   ],
   "source": [
    "# Print the shape of the data\n",
    "print(encoded_train.shape)\n",
    "# remove first column\n",
    "#encoded_train = encoded_train.drop(columns=['Unnamed: 0'])"
   ]
  },
  {
   "cell_type": "code",
   "execution_count": 195,
   "metadata": {},
   "outputs": [],
   "source": [
    "import sys\n",
    "sys.path.append(\"../utils\")\n",
    "from utils import load_data\n",
    "from sklearn.model_selection import train_test_split\n",
    "\n",
    "train, test, train_target = load_data(raw = False, categorical=False)\n",
    "X_train, X_test, y_train, y_test = train_test_split(encoded_train, train_target, test_size=0.2, random_state=42)"
   ]
  },
  {
   "cell_type": "code",
   "execution_count": 196,
   "metadata": {},
   "outputs": [
    {
     "name": "stdout",
     "output_type": "stream",
     "text": [
      "--- VAE Encoded Features ---\n",
      "Mean Squared Error (MSE): 0.007486050680925709\n",
      "R-squared (R²): 3.884036851586892e-06\n",
      "Spearman's Correlation (ρ): 0.2953240479994394\n"
     ]
    }
   ],
   "source": [
    "# import lineargregresion\n",
    "from scipy.stats import spearmanr\n",
    "from sklearn.linear_model import LinearRegression\n",
    "from sklearn.metrics import mean_squared_error, r2_score\n",
    "vae_augmented_model = LinearRegression()\n",
    "vae_augmented_model.fit(X_train, y_train)\n",
    "new_y_pred_vae = vae_augmented_model.predict(X_test)\n",
    "# Calculate regression metrics\n",
    "mse_vae_augmented = mean_squared_error(y_test, new_y_pred_vae)\n",
    "r2_vae_augmented = r2_score(y_test, new_y_pred_vae)\n",
    "spearman_vae_augmented, p_value_vae_augmented = spearmanr(y_test, new_y_pred_vae)\n",
    "\n",
    "# Print the results\n",
    "print(\"--- VAE Encoded Features ---\")\n",
    "print(\"Mean Squared Error (MSE):\", mse_vae_augmented)\n",
    "print(\"R-squared (R²):\", r2_vae_augmented)\n",
    "print(\"Spearman's Correlation (ρ):\", spearman_vae_augmented)"
   ]
  },
  {
   "cell_type": "code",
   "execution_count": 197,
   "metadata": {},
   "outputs": [
    {
     "name": "stderr",
     "output_type": "stream",
     "text": [
      "/Users/Oskar/Desktop/Uni_Work/EPFL/Neuro-X/MA1/ML/projet_2/ml-project-2-lol-ml/src/notebooks/../utils/mlp.py:32: UserWarning: To copy construct from a tensor, it is recommended to use sourceTensor.clone().detach() or sourceTensor.clone().detach().requires_grad_(True), rather than torch.tensor(sourceTensor).\n",
      "  X_train = torch.tensor(X_train, dtype=torch.float32)\n",
      "/Users/Oskar/Desktop/Uni_Work/EPFL/Neuro-X/MA1/ML/projet_2/ml-project-2-lol-ml/src/notebooks/../utils/mlp.py:33: UserWarning: To copy construct from a tensor, it is recommended to use sourceTensor.clone().detach() or sourceTensor.clone().detach().requires_grad_(True), rather than torch.tensor(sourceTensor).\n",
      "  y_train = torch.tensor(y_train, dtype=torch.float32)\n",
      "/Users/Oskar/Desktop/Uni_Work/EPFL/Neuro-X/MA1/ML/projet_2/ml-project-2-lol-ml/src/notebooks/../utils/mlp.py:57: UserWarning: To copy construct from a tensor, it is recommended to use sourceTensor.clone().detach() or sourceTensor.clone().detach().requires_grad_(True), rather than torch.tensor(sourceTensor).\n",
      "  val_predictions = model(torch.tensor(X_val, dtype=torch.float32)).detach().squeeze()\n",
      "/Users/Oskar/Desktop/Uni_Work/EPFL/Neuro-X/MA1/ML/projet_2/ml-project-2-lol-ml/src/notebooks/../utils/mlp.py:64: UserWarning: To copy construct from a tensor, it is recommended to use sourceTensor.clone().detach() or sourceTensor.clone().detach().requires_grad_(True), rather than torch.tensor(sourceTensor).\n",
      "  predictions = model(torch.tensor(X_train, dtype=torch.float32)).squeeze()\n"
     ]
    },
    {
     "name": "stdout",
     "output_type": "stream",
     "text": [
      "Epoch [10/1000], Loss: 0.8218, Spearman: 0.4455 Validation Spearman: 0.3612773093392646\n",
      "Epoch [20/1000], Loss: 0.7906, Spearman: 0.4778 Validation Spearman: 0.38544021897369285\n",
      "Epoch [30/1000], Loss: 0.7590, Spearman: 0.5240 Validation Spearman: 0.4187379092491376\n",
      "Epoch [40/1000], Loss: 0.7264, Spearman: 0.5723 Validation Spearman: 0.4396612004910211\n",
      "Epoch [50/1000], Loss: 0.6940, Spearman: 0.6337 Validation Spearman: 0.43768405376768754\n",
      "Epoch [60/1000], Loss: 0.6657, Spearman: 0.6876 Validation Spearman: 0.40713078825591587\n",
      "Epoch [70/1000], Loss: 0.6329, Spearman: 0.7285 Validation Spearman: 0.42269764438403407\n",
      "Epoch [80/1000], Loss: 0.6051, Spearman: 0.7663 Validation Spearman: 0.4034086735070347\n",
      "Epoch [90/1000], Loss: 0.5945, Spearman: 0.7867 Validation Spearman: 0.40659387501728583\n",
      "Epoch [100/1000], Loss: 0.5767, Spearman: 0.8078 Validation Spearman: 0.43009834037596173\n",
      "Epoch [110/1000], Loss: 0.5666, Spearman: 0.8175 Validation Spearman: 0.4004901147200221\n",
      "Epoch [120/1000], Loss: 0.5598, Spearman: 0.8148 Validation Spearman: 0.4265646044120832\n",
      "Epoch [130/1000], Loss: 0.5602, Spearman: 0.8308 Validation Spearman: 0.432182506967806\n",
      "Epoch [140/1000], Loss: 0.5463, Spearman: 0.8435 Validation Spearman: 0.4100838110683811\n",
      "Epoch [150/1000], Loss: 0.5363, Spearman: 0.8474 Validation Spearman: 0.4120976094641927\n",
      "Epoch [160/1000], Loss: 0.5409, Spearman: 0.8505 Validation Spearman: 0.415298762288183\n",
      "Epoch [170/1000], Loss: 0.5336, Spearman: 0.8569 Validation Spearman: 0.4273594813712942\n",
      "Epoch [180/1000], Loss: 0.5330, Spearman: 0.8597 Validation Spearman: 0.390721990020379\n",
      "Epoch [190/1000], Loss: 0.5263, Spearman: 0.8618 Validation Spearman: 0.3982263563436852\n",
      "Epoch [200/1000], Loss: 0.5267, Spearman: 0.8666 Validation Spearman: 0.4133015895509585\n",
      "Epoch [210/1000], Loss: 0.5218, Spearman: 0.8712 Validation Spearman: 0.40399252672376135\n",
      "Early stopping triggered.\n"
     ]
    }
   ],
   "source": [
    "# Use MLP model\n",
    "from mlp import MLP, train_margin_ranking\n",
    "from torch import optim\n",
    "import torch\n",
    "\n",
    "# Model parameters\n",
    "input_size = X_train.shape[1]\n",
    "hidden_layers = [32, 16]  # Two hidden layers\n",
    "margin = 1.0\n",
    "\n",
    "# Convert DataFrames to tensors\n",
    "X_train_tensor = torch.tensor(X_train.values, dtype=torch.float32)\n",
    "y_train_tensor = torch.tensor(y_train.values, dtype=torch.float32)\n",
    "X_test_tensor = torch.tensor(X_test.values, dtype=torch.float32)\n",
    "y_test_tensor = torch.tensor(y_test.values, dtype=torch.float32)\n",
    "\n",
    "# Create model\n",
    "model = MLP(input_size, hidden_layers)\n",
    "\n",
    "# Optimizer\n",
    "optimizer = optim.Adam(model.parameters(), lr=0.01, weight_decay=1e-4)\n",
    "\n",
    "# Train the model\n",
    "train_margin_ranking(model, optimizer, margin, X_train_tensor,y_train_tensor, X_test_tensor,y_test_tensor, epochs=1000)"
   ]
  },
  {
   "cell_type": "code",
   "execution_count": 198,
   "metadata": {},
   "outputs": [
    {
     "name": "stdout",
     "output_type": "stream",
     "text": [
      "--- MLP Regressor ---\n",
      "Mean Squared Error (MSE): 0.7496089914585302\n",
      "R-squared (R²): -99.13371694898657\n",
      "Spearman's Correlation (ρ): 0.3932267647047432\n"
     ]
    }
   ],
   "source": [
    "# Evaluate the model metrics\n",
    "X_test_tensor = torch.tensor(X_test.values, dtype=torch.float32)\n",
    "y_test_tensor = torch.tensor(y_test.values, dtype=torch.float32)\n",
    "y_pred = model(X_test_tensor)\n",
    "# Calculate regression metrics\n",
    "mse = mean_squared_error(y_test, y_pred.detach().numpy())\n",
    "r2 = r2_score(y_test, y_pred.detach().numpy())\n",
    "spearman, p_value = spearmanr(y_test, y_pred.detach().numpy())\n",
    "# print the results\n",
    "print(\"--- MLP Regressor ---\")\n",
    "print(\"Mean Squared Error (MSE):\", mse)\n",
    "print(\"R-squared (R²):\", r2)\n",
    "print(\"Spearman's Correlation (ρ):\", spearman)\n"
   ]
  },
  {
   "cell_type": "code",
   "execution_count": null,
   "metadata": {},
   "outputs": [],
   "source": []
  }
 ],
 "metadata": {
  "kernelspec": {
   "display_name": "base",
   "language": "python",
   "name": "python3"
  },
  "language_info": {
   "codemirror_mode": {
    "name": "ipython",
    "version": 3
   },
   "file_extension": ".py",
   "mimetype": "text/x-python",
   "name": "python",
   "nbconvert_exporter": "python",
   "pygments_lexer": "ipython3",
   "version": "3.9.20"
  }
 },
 "nbformat": 4,
 "nbformat_minor": 2
}
