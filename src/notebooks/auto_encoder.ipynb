{
 "cells": [
  {
   "cell_type": "code",
   "execution_count": 1,
   "metadata": {},
   "outputs": [
    {
     "name": "stderr",
     "output_type": "stream",
     "text": [
      "2024-11-24 12:33:08.553231: I tensorflow/core/platform/cpu_feature_guard.cc:210] This TensorFlow binary is optimized to use available CPU instructions in performance-critical operations.\n",
      "To enable the following instructions: AVX2 FMA, in other operations, rebuild TensorFlow with the appropriate compiler flags.\n"
     ]
    }
   ],
   "source": [
    "import sys\n",
    "sys.path.append(\"../utils\")\n",
    "from utils import load_data, create_mlp_sae\n",
    "import numpy as np\n",
    "import pandas as pd\n",
    "from sklearn.model_selection import train_test_split\n",
    "import matplotlib.pyplot as plt\n",
    "\n",
    "# Import Keras for implementing autoencoders\n",
    "import keras\n",
    "from keras.models import Sequential\n",
    "from keras.layers import Input, Dense\n",
    "from pathlib import Path\n",
    "from scipy.stats import spearmanr\n",
    "from sklearn.linear_model import LinearRegression\n",
    "from sklearn.metrics import mean_squared_error, r2_score"
   ]
  },
  {
   "cell_type": "code",
   "execution_count": 2,
   "metadata": {},
   "outputs": [],
   "source": [
    "train, test, train_target = load_data(raw = False, categorical=False)"
   ]
  },
  {
   "cell_type": "code",
   "execution_count": 3,
   "metadata": {},
   "outputs": [],
   "source": [
    "# Add the project root directory to the Python path\n",
    "project_root = Path().resolve().parent.parent\n",
    "sys.path.append(str(project_root))\n",
    "# Load the data\n",
    "data_path = project_root / 'data' / 'preprocessed'\n",
    "train_augmented = pd.read_csv(data_path / 'train_augmented.csv')"
   ]
  },
  {
   "cell_type": "code",
   "execution_count": 4,
   "metadata": {},
   "outputs": [
    {
     "data": {
      "text/html": [
       "<div>\n",
       "<style scoped>\n",
       "    .dataframe tbody tr th:only-of-type {\n",
       "        vertical-align: middle;\n",
       "    }\n",
       "\n",
       "    .dataframe tbody tr th {\n",
       "        vertical-align: top;\n",
       "    }\n",
       "\n",
       "    .dataframe thead th {\n",
       "        text-align: right;\n",
       "    }\n",
       "</style>\n",
       "<table border=\"1\" class=\"dataframe\">\n",
       "  <thead>\n",
       "    <tr style=\"text-align: right;\">\n",
       "      <th></th>\n",
       "      <th>mean</th>\n",
       "      <th>std</th>\n",
       "    </tr>\n",
       "  </thead>\n",
       "  <tbody>\n",
       "    <tr>\n",
       "      <th>A1BG</th>\n",
       "      <td>6.798991e-16</td>\n",
       "      <td>0.966860</td>\n",
       "    </tr>\n",
       "    <tr>\n",
       "      <th>A1CF</th>\n",
       "      <td>3.423397e-16</td>\n",
       "      <td>0.693327</td>\n",
       "    </tr>\n",
       "    <tr>\n",
       "      <th>A2M</th>\n",
       "      <td>-4.606349e-16</td>\n",
       "      <td>0.999384</td>\n",
       "    </tr>\n",
       "    <tr>\n",
       "      <th>A2ML1</th>\n",
       "      <td>3.294604e-16</td>\n",
       "      <td>0.832207</td>\n",
       "    </tr>\n",
       "    <tr>\n",
       "      <th>A3GALT2</th>\n",
       "      <td>-3.096477e-15</td>\n",
       "      <td>0.784132</td>\n",
       "    </tr>\n",
       "    <tr>\n",
       "      <th>...</th>\n",
       "      <td>...</td>\n",
       "      <td>...</td>\n",
       "    </tr>\n",
       "    <tr>\n",
       "      <th>ZXDC</th>\n",
       "      <td>-2.804695e-15</td>\n",
       "      <td>0.999384</td>\n",
       "    </tr>\n",
       "    <tr>\n",
       "      <th>ZYG11A</th>\n",
       "      <td>-1.676581e-15</td>\n",
       "      <td>0.915827</td>\n",
       "    </tr>\n",
       "    <tr>\n",
       "      <th>ZYG11B</th>\n",
       "      <td>1.130028e-15</td>\n",
       "      <td>0.835653</td>\n",
       "    </tr>\n",
       "    <tr>\n",
       "      <th>ZYX</th>\n",
       "      <td>-2.479274e-15</td>\n",
       "      <td>0.999384</td>\n",
       "    </tr>\n",
       "    <tr>\n",
       "      <th>ZZEF1</th>\n",
       "      <td>1.865227e-15</td>\n",
       "      <td>0.999384</td>\n",
       "    </tr>\n",
       "  </tbody>\n",
       "</table>\n",
       "<p>19907 rows × 2 columns</p>\n",
       "</div>"
      ],
      "text/plain": [
       "                 mean       std\n",
       "A1BG     6.798991e-16  0.966860\n",
       "A1CF     3.423397e-16  0.693327\n",
       "A2M     -4.606349e-16  0.999384\n",
       "A2ML1    3.294604e-16  0.832207\n",
       "A3GALT2 -3.096477e-15  0.784132\n",
       "...               ...       ...\n",
       "ZXDC    -2.804695e-15  0.999384\n",
       "ZYG11A  -1.676581e-15  0.915827\n",
       "ZYG11B   1.130028e-15  0.835653\n",
       "ZYX     -2.479274e-15  0.999384\n",
       "ZZEF1    1.865227e-15  0.999384\n",
       "\n",
       "[19907 rows x 2 columns]"
      ]
     },
     "execution_count": 4,
     "metadata": {},
     "output_type": "execute_result"
    }
   ],
   "source": [
    "# Check mean and std of the data\n",
    "train_augmented.describe().T[['mean', 'std']]"
   ]
  },
  {
   "cell_type": "code",
   "execution_count": 5,
   "metadata": {},
   "outputs": [
    {
     "data": {
      "image/png": "[encoded data removed]",
      "text/plain": [
       "<Figure size 432x288 with 1 Axes>"
      ]
     },
     "metadata": {
      "needs_background": "light"
     },
     "output_type": "display_data"
    },
    {
     "name": "stdout",
     "output_type": "stream",
     "text": [
      "AADACL3         0.825413\n",
      "AARS1           0.923843\n",
      "ABHD14A-ACY1    0.923843\n",
      "ABHD18          0.923843\n",
      "ABITRAM         0.923843\n",
      "                  ...   \n",
      "ZNF875          0.923843\n",
      "ZNRD2           0.923843\n",
      "ZSCAN5C         0.915016\n",
      "ZSWIM9          0.923843\n",
      "ZUP1            0.923843\n",
      "Length: 2746, dtype: float64\n"
     ]
    }
   ],
   "source": [
    "# Plot percentage of samples == 0  per columns\n",
    "percentage_zeros = (train_augmented == 0).mean()\n",
    "percentage_zeros.plot(kind='hist', bins=50)\n",
    "plt.xlabel('Percentage of zeros')\n",
    "plt.ylabel('Number of columns')\n",
    "plt.title('Percentage of zeros per column')\n",
    "plt.show()\n",
    "# Print all columns with more than 90% zeros\n",
    "print(percentage_zeros[percentage_zeros > 0.8])"
   ]
  },
  {
   "cell_type": "code",
   "execution_count": 6,
   "metadata": {},
   "outputs": [
    {
     "data": {
      "text/plain": [
       "(9743, 17161)"
      ]
     },
     "execution_count": 6,
     "metadata": {},
     "output_type": "execute_result"
    }
   ],
   "source": [
    "# Get all columns with more than 80% zeros\n",
    "columns_to_drop = percentage_zeros[percentage_zeros > 0.8].index\n",
    "# drop these columns\n",
    "train_augmented = train_augmented.drop(columns=columns_to_drop)\n",
    "train = train.drop(columns=columns_to_drop)\n",
    "train_augmented.shape"
   ]
  },
  {
   "cell_type": "code",
   "execution_count": 7,
   "metadata": {},
   "outputs": [
    {
     "data": {
      "text/plain": [
       "(742, 17161)"
      ]
     },
     "execution_count": 7,
     "metadata": {},
     "output_type": "execute_result"
    }
   ],
   "source": [
    "train.shape"
   ]
  },
  {
   "cell_type": "code",
   "execution_count": 8,
   "metadata": {},
   "outputs": [],
   "source": [
    "# Split the data\n",
    "new_X_train, new_X_test = train_test_split(train_augmented, test_size=0.2, random_state=42)\n",
    "# Split the data \n",
    "X_train, X_test, y_train, y_test = train_test_split(train, train_target, test_size=0.2, random_state=42)"
   ]
  },
  {
   "cell_type": "code",
   "execution_count": null,
   "metadata": {},
   "outputs": [
    {
     "data": {
      "text/html": [
       "<pre style=\"white-space:pre;overflow-x:auto;line-height:normal;font-family:Menlo,'DejaVu Sans Mono',consolas,'Courier New',monospace\"><span style=\"font-weight: bold\">Model: \"functional\"</span>\n",
       "</pre>\n"
      ],
      "text/plain": [
       "\u001b[1mModel: \"functional\"\u001b[0m\n"
      ]
     },
     "metadata": {},
     "output_type": "display_data"
    },
    {
     "data": {
      "text/html": [
       "<pre style=\"white-space:pre;overflow-x:auto;line-height:normal;font-family:Menlo,'DejaVu Sans Mono',consolas,'Courier New',monospace\">┏━━━━━━━━━━━━━━━━━━━━━━━━━━━━━━━━━┳━━━━━━━━━━━━━━━━━━━━━━━━┳━━━━━━━━━━━━━━━┓\n",
       "┃<span style=\"font-weight: bold\"> Layer (type)                    </span>┃<span style=\"font-weight: bold\"> Output Shape           </span>┃<span style=\"font-weight: bold\">       Param # </span>┃\n",
       "┡━━━━━━━━━━━━━━━━━━━━━━━━━━━━━━━━━╇━━━━━━━━━━━━━━━━━━━━━━━━╇━━━━━━━━━━━━━━━┩\n",
       "│ input_layer (<span style=\"color: #0087ff; text-decoration-color: #0087ff\">InputLayer</span>)        │ (<span style=\"color: #00d7ff; text-decoration-color: #00d7ff\">None</span>, <span style=\"color: #00af00; text-decoration-color: #00af00\">17161</span>)          │             <span style=\"color: #00af00; text-decoration-color: #00af00\">0</span> │\n",
       "├─────────────────────────────────┼────────────────────────┼───────────────┤\n",
       "│ dense (<span style=\"color: #0087ff; text-decoration-color: #0087ff\">Dense</span>)                   │ (<span style=\"color: #00d7ff; text-decoration-color: #00d7ff\">None</span>, <span style=\"color: #00af00; text-decoration-color: #00af00\">5</span>)              │        <span style=\"color: #00af00; text-decoration-color: #00af00\">85,810</span> │\n",
       "├─────────────────────────────────┼────────────────────────┼───────────────┤\n",
       "│ dense_1 (<span style=\"color: #0087ff; text-decoration-color: #0087ff\">Dense</span>)                 │ (<span style=\"color: #00d7ff; text-decoration-color: #00d7ff\">None</span>, <span style=\"color: #00af00; text-decoration-color: #00af00\">17161</span>)          │       <span style=\"color: #00af00; text-decoration-color: #00af00\">102,966</span> │\n",
       "└─────────────────────────────────┴────────────────────────┴───────────────┘\n",
       "</pre>\n"
      ],
      "text/plain": [
       "┏━━━━━━━━━━━━━━━━━━━━━━━━━━━━━━━━━┳━━━━━━━━━━━━━━━━━━━━━━━━┳━━━━━━━━━━━━━━━┓\n",
       "┃\u001b[1m \u001b[0m\u001b[1mLayer (type)                   \u001b[0m\u001b[1m \u001b[0m┃\u001b[1m \u001b[0m\u001b[1mOutput Shape          \u001b[0m\u001b[1m \u001b[0m┃\u001b[1m \u001b[0m\u001b[1m      Param #\u001b[0m\u001b[1m \u001b[0m┃\n",
       "┡━━━━━━━━━━━━━━━━━━━━━━━━━━━━━━━━━╇━━━━━━━━━━━━━━━━━━━━━━━━╇━━━━━━━━━━━━━━━┩\n",
       "│ input_layer (\u001b[38;5;33mInputLayer\u001b[0m)        │ (\u001b[38;5;45mNone\u001b[0m, \u001b[38;5;34m17161\u001b[0m)          │             \u001b[38;5;34m0\u001b[0m │\n",
       "├─────────────────────────────────┼────────────────────────┼───────────────┤\n",
       "│ dense (\u001b[38;5;33mDense\u001b[0m)                   │ (\u001b[38;5;45mNone\u001b[0m, \u001b[38;5;34m5\u001b[0m)              │        \u001b[38;5;34m85,810\u001b[0m │\n",
       "├─────────────────────────────────┼────────────────────────┼───────────────┤\n",
       "│ dense_1 (\u001b[38;5;33mDense\u001b[0m)                 │ (\u001b[38;5;45mNone\u001b[0m, \u001b[38;5;34m17161\u001b[0m)          │       \u001b[38;5;34m102,966\u001b[0m │\n",
       "└─────────────────────────────────┴────────────────────────┴───────────────┘\n"
      ]
     },
     "metadata": {},
     "output_type": "display_data"
    },
    {
     "data": {
      "text/html": [
       "<pre style=\"white-space:pre;overflow-x:auto;line-height:normal;font-family:Menlo,'DejaVu Sans Mono',consolas,'Courier New',monospace\"><span style=\"font-weight: bold\"> Total params: </span><span style=\"color: #00af00; text-decoration-color: #00af00\">188,776</span> (737.41 KB)\n",
       "</pre>\n"
      ],
      "text/plain": [
       "\u001b[1m Total params: \u001b[0m\u001b[38;5;34m188,776\u001b[0m (737.41 KB)\n"
      ]
     },
     "metadata": {},
     "output_type": "display_data"
    },
    {
     "data": {
      "text/html": [
       "<pre style=\"white-space:pre;overflow-x:auto;line-height:normal;font-family:Menlo,'DejaVu Sans Mono',consolas,'Courier New',monospace\"><span style=\"font-weight: bold\"> Trainable params: </span><span style=\"color: #00af00; text-decoration-color: #00af00\">188,776</span> (737.41 KB)\n",
       "</pre>\n"
      ],
      "text/plain": [
       "\u001b[1m Trainable params: \u001b[0m\u001b[38;5;34m188,776\u001b[0m (737.41 KB)\n"
      ]
     },
     "metadata": {},
     "output_type": "display_data"
    },
    {
     "data": {
      "text/html": [
       "<pre style=\"white-space:pre;overflow-x:auto;line-height:normal;font-family:Menlo,'DejaVu Sans Mono',consolas,'Courier New',monospace\"><span style=\"font-weight: bold\"> Non-trainable params: </span><span style=\"color: #00af00; text-decoration-color: #00af00\">0</span> (0.00 B)\n",
       "</pre>\n"
      ],
      "text/plain": [
       "\u001b[1m Non-trainable params: \u001b[0m\u001b[38;5;34m0\u001b[0m (0.00 B)\n"
      ]
     },
     "metadata": {},
     "output_type": "display_data"
    }
   ],
   "source": [
    "# Define the autoencoder architecture\n",
    "input_dim = new_X_train.shape[1]\n",
    "encoding_dim = 5\n",
    "\n",
    "# Set the encoding dimension\n",
    "input_layer = keras.layers.Input(shape=(input_dim,))\n",
    "encoder = keras.layers.Dense(encoding_dim, activation=\"relu\")(input_layer)\n",
    "decoder = keras.layers.Dense(input_dim, activation=\"sigmoid\")(encoder)\n",
    "autoencoder = keras.Model(inputs=input_layer, outputs=decoder)\n",
    "\n",
    "# Compile the autoencoder\n",
    "autoencoder.compile(optimizer='adam', loss='mse')\n",
    "\n",
    "# Summary of the autoencoder architecture\n",
    "autoencoder.summary()"
   ]
  },
  {
   "cell_type": "code",
   "execution_count": 42,
   "metadata": {},
   "outputs": [
    {
     "name": "stdout",
     "output_type": "stream",
     "text": [
      "Epoch 1/10\n",
      "\u001b[1m244/244\u001b[0m \u001b[32m━━━━━━━━━━━━━━━━━━━━\u001b[0m\u001b[37m\u001b[0m \u001b[1m3s\u001b[0m 11ms/step - loss: 0.7699 - val_loss: 0.7799\n",
      "Epoch 2/10\n",
      "\u001b[1m244/244\u001b[0m \u001b[32m━━━━━━━━━━━━━━━━━━━━\u001b[0m\u001b[37m\u001b[0m \u001b[1m2s\u001b[0m 9ms/step - loss: 0.7719 - val_loss: 0.7793\n",
      "Epoch 3/10\n",
      "\u001b[1m244/244\u001b[0m \u001b[32m━━━━━━━━━━━━━━━━━━━━\u001b[0m\u001b[37m\u001b[0m \u001b[1m2s\u001b[0m 8ms/step - loss: 0.7686 - val_loss: 0.7786\n",
      "Epoch 4/10\n",
      "\u001b[1m244/244\u001b[0m \u001b[32m━━━━━━━━━━━━━━━━━━━━\u001b[0m\u001b[37m\u001b[0m \u001b[1m2s\u001b[0m 8ms/step - loss: 0.7666 - val_loss: 0.7787\n",
      "Epoch 5/10\n",
      "\u001b[1m244/244\u001b[0m \u001b[32m━━━━━━━━━━━━━━━━━━━━\u001b[0m\u001b[37m\u001b[0m \u001b[1m2s\u001b[0m 8ms/step - loss: 0.7735 - val_loss: 0.7788\n",
      "Epoch 6/10\n",
      "\u001b[1m244/244\u001b[0m \u001b[32m━━━━━━━━━━━━━━━━━━━━\u001b[0m\u001b[37m\u001b[0m \u001b[1m2s\u001b[0m 9ms/step - loss: 0.7751 - val_loss: 0.7787\n",
      "Epoch 7/10\n",
      "\u001b[1m244/244\u001b[0m \u001b[32m━━━━━━━━━━━━━━━━━━━━\u001b[0m\u001b[37m\u001b[0m \u001b[1m2s\u001b[0m 8ms/step - loss: 0.7751 - val_loss: 0.7784\n",
      "Epoch 8/10\n",
      "\u001b[1m244/244\u001b[0m \u001b[32m━━━━━━━━━━━━━━━━━━━━\u001b[0m\u001b[37m\u001b[0m \u001b[1m2s\u001b[0m 7ms/step - loss: 0.7712 - val_loss: 0.7782\n",
      "Epoch 9/10\n",
      "\u001b[1m244/244\u001b[0m \u001b[32m━━━━━━━━━━━━━━━━━━━━\u001b[0m\u001b[37m\u001b[0m \u001b[1m2s\u001b[0m 8ms/step - loss: 0.7745 - val_loss: 0.7778\n",
      "Epoch 10/10\n",
      "\u001b[1m244/244\u001b[0m \u001b[32m━━━━━━━━━━━━━━━━━━━━\u001b[0m\u001b[37m\u001b[0m \u001b[1m2s\u001b[0m 8ms/step - loss: 0.7653 - val_loss: 0.7774\n"
     ]
    },
    {
     "data": {
      "text/plain": [
       "<keras.src.callbacks.history.History at 0x7fbcea9bb220>"
      ]
     },
     "execution_count": 42,
     "metadata": {},
     "output_type": "execute_result"
    }
   ],
   "source": [
    "autoencoder.fit(new_X_train, new_X_train, epochs=10, batch_size=32, shuffle=True, validation_data=(new_X_test, new_X_test))"
   ]
  },
  {
   "cell_type": "code",
   "execution_count": 43,
   "metadata": {},
   "outputs": [
    {
     "name": "stdout",
     "output_type": "stream",
     "text": [
      "\u001b[1m19/19\u001b[0m \u001b[32m━━━━━━━━━━━━━━━━━━━━\u001b[0m\u001b[37m\u001b[0m \u001b[1m0s\u001b[0m 2ms/step \n",
      "\u001b[1m5/5\u001b[0m \u001b[32m━━━━━━━━━━━━━━━━━━━━\u001b[0m\u001b[37m\u001b[0m \u001b[1m0s\u001b[0m 2ms/step\n",
      "Encoded Features Shape (Train): (593, 5)\n",
      "Encoded Features Shape (Test): (149, 5)\n"
     ]
    },
    {
     "data": {
      "image/png": "[encoded data removed]",
      "text/plain": [
       "<Figure size 432x288 with 2 Axes>"
      ]
     },
     "metadata": {
      "needs_background": "light"
     },
     "output_type": "display_data"
    }
   ],
   "source": [
    "# Use encoder part of the autoencoder for feature selection\n",
    "encoder = keras.Model(inputs=autoencoder.input, outputs=autoencoder.layers[1].output)\n",
    "encoded_features_train = encoder.predict(X_train)\n",
    "encoded_features_test = encoder.predict(X_test)\n",
    "\n",
    "# Display the shape of extracted features\n",
    "print(\"Encoded Features Shape (Train):\", encoded_features_train.shape)\n",
    "print(\"Encoded Features Shape (Test):\", encoded_features_test.shape)\n",
    "# plot all encoded features\n",
    "plt.scatter(encoded_features_train[:,0], encoded_features_train[:,1], c = y_train['AAC'], cmap='viridis')\n",
    "plt.colorbar()\n",
    "plt.show()"
   ]
  },
  {
   "cell_type": "code",
   "execution_count": 44,
   "metadata": {},
   "outputs": [
    {
     "name": "stdout",
     "output_type": "stream",
     "text": [
      "--- Encoded Features ---\n",
      "Mean Squared Error (MSE): 0.006141569559594833\n",
      "R-squared (R²): 0.1796013723015717\n",
      "Spearman's Correlation (ρ): 0.39909522863722985\n",
      "P-value (Spearman): 4.6155924325362254e-07\n",
      "--- Non Encoded Features ---\n",
      "Mean Squared Error (MSE): 0.006584174183452588\n",
      "R-squared (R²): 0.12047768697937256\n",
      "Spearman's Correlation (ρ): 0.40608417021980264\n",
      "P-value (Spearman): 2.772350380170964e-07\n"
     ]
    }
   ],
   "source": [
    "# --- Encoded Features ---\n",
    "# Fit a linear regression model using the encoded features\n",
    "encoded_model = LinearRegression()\n",
    "encoded_model.fit(encoded_features_train, y_train)\n",
    "\n",
    "# Make predictions on the test set\n",
    "y_pred_encoded = encoded_model.predict(encoded_features_test)\n",
    "\n",
    "# Calculate regression metrics\n",
    "mse_encoded = mean_squared_error(y_test, y_pred_encoded)\n",
    "r2_encoded = r2_score(y_test, y_pred_encoded)\n",
    "\n",
    "# Calculate Spearman's rank correlation for encoded features\n",
    "spearman_encoded, p_value_encoded = spearmanr(y_test, y_pred_encoded)\n",
    "\n",
    "print(\"--- Encoded Features ---\")\n",
    "print(\"Mean Squared Error (MSE):\", mse_encoded)\n",
    "print(\"R-squared (R²):\", r2_encoded)\n",
    "print(\"Spearman's Correlation (ρ):\", spearman_encoded)\n",
    "print(\"P-value (Spearman):\", p_value_encoded)\n",
    "\n",
    "# --- Non Encoded Features ---\n",
    "# Fit a linear regression model using the non-encoded features\n",
    "model = LinearRegression()\n",
    "model.fit(X_train, y_train)\n",
    "\n",
    "# Make predictions on the test set\n",
    "y_pred = model.predict(X_test)\n",
    "\n",
    "# Calculate regression metrics\n",
    "mse = mean_squared_error(y_test, y_pred)\n",
    "r2 = r2_score(y_test, y_pred)\n",
    "\n",
    "# Calculate Spearman's rank correlation for non-encoded features\n",
    "spearman_non_encoded, p_value_non_encoded = spearmanr(y_test, y_pred)\n",
    "\n",
    "print(\"--- Non Encoded Features ---\")\n",
    "print(\"Mean Squared Error (MSE):\", mse)\n",
    "print(\"R-squared (R²):\", r2)\n",
    "print(\"Spearman's Correlation (ρ):\", spearman_non_encoded)\n",
    "print(\"P-value (Spearman):\", p_value_non_encoded)\n"
   ]
  },
  {
   "cell_type": "markdown",
   "metadata": {},
   "source": [
    "# VAE"
   ]
  },
  {
   "cell_type": "markdown",
   "metadata": {},
   "source": []
  },
  {
   "cell_type": "code",
   "execution_count": 45,
   "metadata": {},
   "outputs": [],
   "source": [
    "from src.utils.vae import VAE, train\n",
    "import torch\n",
    "import torch.optim as optim\n",
    "from torch.utils.data import DataLoader, TensorDataset\n",
    "from sklearn.preprocessing import MinMaxScaler"
   ]
  },
  {
   "cell_type": "code",
   "execution_count": 47,
   "metadata": {},
   "outputs": [
    {
     "name": "stdout",
     "output_type": "stream",
     "text": [
      "Epoch 1/10, Average Loss: 982496.8392\n",
      "Epoch 2/10, Average Loss: 12428.3154\n",
      "Epoch 3/10, Average Loss: 11149.2655\n",
      "Epoch 4/10, Average Loss: 10774.9636\n",
      "Epoch 5/10, Average Loss: 10613.9831\n",
      "Epoch 6/10, Average Loss: 10528.8288\n",
      "Epoch 7/10, Average Loss: 10478.4021\n",
      "Epoch 8/10, Average Loss: 10446.1445\n",
      "Epoch 9/10, Average Loss: 10424.2226\n",
      "Epoch 10/10, Average Loss: 10408.8444\n"
     ]
    },
    {
     "data": {
      "text/plain": [
       "81126533.546875"
      ]
     },
     "execution_count": 47,
     "metadata": {},
     "output_type": "execute_result"
    }
   ],
   "source": [
    "# Use VAE for feature selection\n",
    "device = torch.device(\"cuda\" if torch.cuda.is_available() else \"cpu\")\n",
    "\n",
    "# Normalize the data\n",
    "scaler = MinMaxScaler()\n",
    "new_X_train_scaled = scaler.fit_transform(new_X_train)\n",
    "\n",
    "# Convert to tensor\n",
    "new_X_train_tensor = torch.tensor(new_X_train_scaled, dtype=torch.float32)\n",
    "dataset = TensorDataset(new_X_train_tensor)\n",
    "train_loader = DataLoader(dataset, batch_size=32, shuffle=True)\n",
    "\n",
    "input_dim = new_X_train.shape[1]\n",
    "latent_dim = 2\n",
    "model = VAE(input_dim=input_dim, latent_dim=latent_dim).to(device)\n",
    "optimizer = optim.Adam(model.parameters(), lr=1e-3)\n",
    "train(model, train_loader, optimizer, epochs=10, device=device)"
   ]
  },
  {
   "cell_type": "code",
   "execution_count": 48,
   "metadata": {},
   "outputs": [
    {
     "name": "stdout",
     "output_type": "stream",
     "text": [
      "Encoded Features Shape (Train): torch.Size([593, 2])\n"
     ]
    },
    {
     "data": {
      "image/png": "[encoded data removed]",
      "text/plain": [
       "<Figure size 432x288 with 2 Axes>"
      ]
     },
     "metadata": {
      "needs_background": "light"
     },
     "output_type": "display_data"
    }
   ],
   "source": [
    "# Extract the latent features\n",
    "encoded_features_train, _ = model.encode(torch.tensor(X_train.values, dtype=torch.float32).to(device))\n",
    "print(\"Encoded Features Shape (Train):\", encoded_features_train.shape)\n",
    "# plot all encoded features\n",
    "plt.scatter(encoded_features_train[:,0].cpu().detach().numpy(), encoded_features_train[:,1].cpu().detach().numpy(), c = y_train['AAC'], cmap='viridis')\n",
    "plt.colorbar()\n",
    "plt.show()"
   ]
  },
  {
   "cell_type": "code",
   "execution_count": 49,
   "metadata": {},
   "outputs": [
    {
     "name": "stdout",
     "output_type": "stream",
     "text": [
      "--- Encoded Features ---\n",
      "Mean Squared Error (MSE): 0.00752379039312154\n",
      "R-squared (R²): -0.005037434439599364\n",
      "Spearman's Correlation (ρ): 0.09756946995239815\n",
      "P-value (Spearman): 0.2364987172531474\n"
     ]
    }
   ],
   "source": [
    "# Use the encoded features for regression\n",
    "encoded_features_test, _ = model.encode(torch.tensor(X_test.values, dtype=torch.float32).to(device))\n",
    "model = LinearRegression()\n",
    "model.fit(encoded_features_train.cpu().detach().numpy(), y_train)\n",
    "# Make predictions on the test set\n",
    "y_pred_encoded = model.predict(encoded_features_test.cpu().detach().numpy())\n",
    "# Calculate regression metrics\n",
    "mse_encoded = mean_squared_error(y_test, y_pred_encoded)\n",
    "r2_encoded = r2_score(y_test, y_pred_encoded)\n",
    "# Calculate Spearman's rank correlation for encoded features\n",
    "spearman_encoded, p_value_encoded = spearmanr(y_test, y_pred_encoded)\n",
    "print(\"--- Encoded Features ---\")\n",
    "print(\"Mean Squared Error (MSE):\", mse_encoded)\n",
    "print(\"R-squared (R²):\", r2_encoded)\n",
    "print(\"Spearman's Correlation (ρ):\", spearman_encoded)\n",
    "print(\"P-value (Spearman):\", p_value_encoded)"
   ]
  },
  {
   "cell_type": "code",
   "execution_count": null,
   "metadata": {},
   "outputs": [],
   "source": []
  }
 ],
 "metadata": {
  "kernelspec": {
   "display_name": "base",
   "language": "python",
   "name": "python3"
  },
  "language_info": {
   "codemirror_mode": {
    "name": "ipython",
    "version": 3
   },
   "file_extension": ".py",
   "mimetype": "text/x-python",
   "name": "python",
   "nbconvert_exporter": "python",
   "pygments_lexer": "ipython3",
   "version": "3.9.12"
  }
 },
 "nbformat": 4,
 "nbformat_minor": 2
}
