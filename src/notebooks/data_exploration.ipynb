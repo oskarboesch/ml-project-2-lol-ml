{
 "cells": [
  {
   "cell_type": "markdown",
   "metadata": {},
   "source": [
    "# Data Exploration\n",
    "Data exploration is a crucial step in the data analysis process. It involves examining the dataset to understand its structure, contents, and relationships. This step helps in identifying patterns, detecting anomalies, and forming hypotheses for further analysis. Key activities in data exploration include:\n",
    "\n",
    "- **Descriptive Statistics**: Summarizing the main features of the dataset using measures such as mean, median, mode, standard deviation, and variance.\n",
    "- **Data Visualization**: Creating visual representations of the data, such as histograms, scatter plots, and box plots, to identify trends and patterns.\n",
    "- **Missing Data Analysis**: Identifying and handling missing values in the dataset.\n",
    "- **Correlation Analysis**: Examining the relationships between different variables in the dataset.\n",
    "\n",
    "By thoroughly exploring the data, we can gain valuable insights and make informed decisions for subsequent data processing and modeling steps."
   ]
  },
  {
   "cell_type": "code",
   "execution_count": 1,
   "metadata": {},
   "outputs": [],
   "source": [
    "# Import all necessary libraries\n",
    "import pandas as pd"
   ]
  },
  {
   "cell_type": "code",
   "execution_count": 2,
   "metadata": {},
   "outputs": [],
   "source": [
    "# Load the data\n",
    "data_path = '../data/raw/'\n",
    "data_train = pd.read_csv(data_path + 'train.csv')\n",
    "data_test = pd.read_csv(data_path + 'test.csv')\n",
    "data_train_targets = pd.read_csv(data_path + 'train_targets.csv')"
   ]
  },
  {
   "cell_type": "code",
   "execution_count": 7,
   "metadata": {},
   "outputs": [
    {
     "name": "stdout",
     "output_type": "stream",
     "text": [
      "--- Training data shape:  (742, 19921)\n",
      "  Unnamed: 0      A1BG       A1CF       A2M     A2ML1   A3GALT2     A4GALT  \\\n",
      "0        CL1  1.672481  45.412546  9.377504  0.860362  0.156075   0.358733   \n",
      "1        CL2  0.545643  15.886006  0.126553  0.731387  0.000000   3.006263   \n",
      "2        CL3  1.652956   0.464895  0.353668  0.196430  0.000000  11.393572   \n",
      "3        CL4  0.795200   0.182806  0.534622  0.239157  0.027417  20.203002   \n",
      "4        CL5  9.983922   0.222700  0.451019  0.152793  0.233698   1.174855   \n",
      "\n",
      "      A4GNT       AAAS        AACS  ...       ZW10      ZWILCH       ZWINT  \\\n",
      "0  0.013006  90.484463  119.760414  ...  38.069286  118.897181  201.401740   \n",
      "1  0.015819  43.455131   37.971081  ...  40.892433   72.780020   95.990439   \n",
      "2  0.408079  86.349518   35.893872  ...  14.024315   33.830939   59.865191   \n",
      "3  0.342707  74.806003   56.297983  ...  18.122326   56.826586  120.221485   \n",
      "4  0.068735  53.228255   36.978543  ...  47.234577   63.179324   89.121585   \n",
      "\n",
      "        ZXDA       ZXDB       ZXDC    ZYG11A     ZYG11B         ZYX      ZZEF1  \n",
      "0   2.789229  13.546617  40.176298  0.832672  54.266923   27.312810  74.123751  \n",
      "1   4.139704  23.717772  40.655146  0.547275  45.944219   59.511226  66.289158  \n",
      "2  15.289432  18.649139  20.009474  1.570321  23.104745  124.843779  61.950056  \n",
      "3  16.671474  19.477221  25.798955  4.028667  22.369665  138.546988  69.946391  \n",
      "4   1.397236   4.197779  16.001469  0.097534  32.175188  176.770218  62.978656  \n",
      "\n",
      "[5 rows x 19921 columns]\n"
     ]
    }
   ],
   "source": [
    "# Explore the data\n",
    "print(\"--- Training data shape: \", data_train.shape)\n",
    "print(data_train.head())"
   ]
  },
  {
   "cell_type": "code",
   "execution_count": 8,
   "metadata": {},
   "outputs": [
    {
     "name": "stdout",
     "output_type": "stream",
     "text": [
      "--- Training targets shape:  (742, 3)\n",
      "  sample       AAC                 tissue\n",
      "0    CL1  0.050705               Prostate\n",
      "1    CL2  0.163113      Esophagus/Stomach\n",
      "2    CL3  0.236655  Bladder/Urinary Tract\n",
      "3    CL4  0.270218  Bladder/Urinary Tract\n",
      "4    CL5  0.071619              CNS/Brain\n"
     ]
    }
   ],
   "source": [
    "print(\"--- Training targets shape: \", data_train_targets.shape)\n",
    "print(data_train_targets.head())"
   ]
  },
  {
   "cell_type": "code",
   "execution_count": 9,
   "metadata": {},
   "outputs": [
    {
     "name": "stdout",
     "output_type": "stream",
     "text": [
      "--- Test data shape:  (304, 19921)\n",
      "  Unnamed: 0      A1BG       A1CF       A2M     A2ML1   A3GALT2     A4GALT  \\\n",
      "0        CL1  1.446057  75.700445  0.031116  0.471972  0.014860   3.129831   \n",
      "1        CL2  7.201269   0.354029  0.074407  0.453273  0.108228  11.557571   \n",
      "2        CL3  6.835308   0.121081  0.000000  0.211975  0.020079  12.372666   \n",
      "3        CL4  6.384288   0.132942  0.018201  0.207608  0.007283   4.364313   \n",
      "4        CL5  4.538481   1.354367  0.007254  0.237628  0.021695   3.881963   \n",
      "\n",
      "      A4GNT       AAAS        AACS  ...       ZW10     ZWILCH      ZWINT  \\\n",
      "0  0.000000  54.031837  130.140472  ...  27.105080  39.252909  27.238822   \n",
      "1  0.344976  43.575264   45.155525  ...  24.459509  20.147702   4.051783   \n",
      "2  0.066928  34.581955   37.123022  ...  14.771119  27.387161  21.477355   \n",
      "3  0.203914  49.908053   36.949086  ...  26.690940  18.067079  27.841600   \n",
      "4  0.267576  39.319195   55.127152  ...  33.244498  49.214787  61.607545   \n",
      "\n",
      "       ZXDA       ZXDB        ZXDC     ZYG11A     ZYG11B         ZYX  \\\n",
      "0  3.305222  20.211109  103.382698   0.263830  22.459802   37.039151   \n",
      "1  7.994292  30.507789   30.844956  18.978149  88.545037  110.433059   \n",
      "2  6.518653  25.091676   29.635939   7.931413  73.418524  282.685845   \n",
      "3  3.410666  12.014003   28.533453   0.883263  36.657930  198.743729   \n",
      "4  8.412126  28.404872   19.482419  16.771958  46.033522  196.559752   \n",
      "\n",
      "        ZZEF1  \n",
      "0  143.833393  \n",
      "1   32.066500  \n",
      "2   77.289198  \n",
      "3   69.446998  \n",
      "4   36.681241  \n",
      "\n",
      "[5 rows x 19921 columns]\n"
     ]
    }
   ],
   "source": [
    "print(\"--- Test data shape: \", data_test.shape)\n",
    "print(data_test.head())"
   ]
  },
  {
   "cell_type": "code",
   "execution_count": 10,
   "metadata": {},
   "outputs": [
    {
     "name": "stdout",
     "output_type": "stream",
     "text": [
      "--- Training data nan values:  0\n",
      "--- Training targets nan values:  0\n",
      "--- Test data nan values:  0\n"
     ]
    }
   ],
   "source": [
    "# Check for nan values\n",
    "print(\"--- Training data nan values: \", data_train.isna().sum().sum())\n",
    "print(\"--- Training targets nan values: \", data_train_targets.isna().sum().sum())\n",
    "print(\"--- Test data nan values: \", data_test.isna().sum().sum())"
   ]
  },
  {
   "cell_type": "markdown",
   "metadata": {},
   "source": [
    "## What is AAC (Area Above the Curve)?\n",
    "\n",
    "**AAC (Area Above the Curve)** is a metric used in pharmacology to measure the effectiveness of a drug on cancer cell lines or tumor models. It represents the area above the dose-response curve, indicating how a specific cell line responds to a given drug over a range of concentrations.\n",
    "\n",
    "In drug testing, various concentrations of a drug (like Erlotinib, in this case) are applied to cancer cell lines, and the response is measured. AAC captures the drug's ability to inhibit cell growth:\n",
    "\n",
    "- **Higher AAC values**: These suggest a stronger response, meaning the drug is more effective in inhibiting cell growth at lower concentrations.\n",
    "- **Lower AAC values**: These imply a weaker response, indicating that higher drug concentrations are needed to achieve cell inhibition.\n"
   ]
  },
  {
   "cell_type": "code",
   "execution_count": null,
   "metadata": {},
   "outputs": [],
   "source": []
  }
 ],
 "metadata": {
  "kernelspec": {
   "display_name": "base",
   "language": "python",
   "name": "python3"
  },
  "language_info": {
   "codemirror_mode": {
    "name": "ipython",
    "version": 3
   },
   "file_extension": ".py",
   "mimetype": "text/x-python",
   "name": "python",
   "nbconvert_exporter": "python",
   "pygments_lexer": "ipython3",
   "version": "3.9.12"
  }
 },
 "nbformat": 4,
 "nbformat_minor": 2
}
