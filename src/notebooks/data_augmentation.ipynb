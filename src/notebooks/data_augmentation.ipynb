{
 "cells": [
  {
   "cell_type": "code",
   "execution_count": null,
   "metadata": {},
   "outputs": [
    {
     "name": "stderr",
     "output_type": "stream",
     "text": [
      "2024-12-02 21:36:57.949451: I tensorflow/core/platform/cpu_feature_guard.cc:210] This TensorFlow binary is optimized to use available CPU instructions in performance-critical operations.\n",
      "To enable the following instructions: AVX2 FMA, in other operations, rebuild TensorFlow with the appropriate compiler flags.\n"
     ]
    }
   ],
   "source": [
    "import sys\n",
    "sys.path.append(\"../utils\")\n",
    "from utils import load_data\n",
    "from vae import VAE\n",
    "import numpy as np\n",
    "import pandas as pd\n",
    "from sklearn.model_selection import train_test_split\n",
    "import matplotlib.pyplot as plt\n",
    "\n",
    "# Import Keras for implementing autoencoders\n",
    "import keras\n",
    "from keras.models import Sequential\n",
    "from keras.layers import Input, Dense\n",
    "from pathlib import Path\n",
    "from scipy.stats import spearmanr\n",
    "from sklearn.linear_model import LinearRegression\n",
    "from sklearn.metrics import mean_squared_error, r2_score\n",
    "from sklearn.preprocessing import MinMaxScaler\n",
    "import torch\n"
   ]
  },
  {
   "cell_type": "code",
   "execution_count": null,
   "metadata": {},
   "outputs": [],
   "source": [
    "train, test, train_target = load_data()"
   ]
  },
  {
   "cell_type": "markdown",
   "metadata": {},
   "source": [
    "# Data Augmentation"
   ]
  },
  {
   "cell_type": "code",
   "execution_count": 16,
   "metadata": {},
   "outputs": [],
   "source": [
    "# Add the project root directory to the Python path\n",
    "project_root = Path().resolve().parent.parent\n",
    "sys.path.append(str(project_root))\n",
    "# Load the data\n",
    "data_path = project_root / 'data' / 'preprocessed'\n",
    "train_augmented = pd.read_csv(data_path / 'train_augmented.csv')"
   ]
  },
  {
   "cell_type": "code",
   "execution_count": 17,
   "metadata": {},
   "outputs": [
    {
     "data": {
      "image/png": "[encoded data removed]",
      "text/plain": [
       "<Figure size 432x288 with 1 Axes>"
      ]
     },
     "metadata": {
      "needs_background": "light"
     },
     "output_type": "display_data"
    },
    {
     "name": "stdout",
     "output_type": "stream",
     "text": [
      "A3GALT2    0.690962\n",
      "AADACL3    0.690962\n",
      "AADACL4    0.690962\n",
      "AARD       0.690962\n",
      "AARS1      0.690962\n",
      "             ...   \n",
      "ZSCAN5B    0.690962\n",
      "ZSCAN5C    0.690962\n",
      "ZSWIM4     0.690962\n",
      "ZSWIM9     0.690962\n",
      "ZUP1       0.690962\n",
      "Length: 3879, dtype: float64\n"
     ]
    }
   ],
   "source": [
    "# Plot percentage of samples == 0  per columns\n",
    "percentage_zeros = (train_augmented == 0).mean()\n",
    "percentage_zeros.plot(kind='hist', bins=50)\n",
    "plt.xlabel('Percentage of zeros')\n",
    "plt.ylabel('Number of columns')\n",
    "plt.title('Percentage of zeros per column')\n",
    "plt.show()\n",
    "# Print all columns with more than 40% zeros\n",
    "print(percentage_zeros[percentage_zeros > 0.6])"
   ]
  },
  {
   "cell_type": "code",
   "execution_count": null,
   "metadata": {},
   "outputs": [],
   "source": [
    "nb_cell_lines = 742\n",
    "# Get all columns with more than 60% zeros\n",
    "columns_to_drop = percentage_zeros[percentage_zeros > 0.6].index\n",
    "# drop these columns\n",
    "train_augmented = train_augmented.drop(columns=columns_to_drop)\n",
    "# Split the data between extra data and fine tune data\n",
    "fine_tune_data = train_augmented[:nb_cell_lines]\n",
    "extra_data = train_augmented[nb_cell_lines:]"
   ]
  },
  {
   "cell_type": "code",
   "execution_count": 19,
   "metadata": {},
   "outputs": [],
   "source": [
    "# Split the data\n",
    "fine_tune_train, fine_tune_test, y_train, y_test = train_test_split(fine_tune_data, train_target, test_size=0.2, random_state=42)\n",
    "extra_train, extra_test = train_test_split(extra_data, test_size=0.2, random_state=42)"
   ]
  },
  {
   "cell_type": "code",
   "execution_count": 20,
   "metadata": {},
   "outputs": [
    {
     "data": {
      "text/html": [
       "<pre style=\"white-space:pre;overflow-x:auto;line-height:normal;font-family:Menlo,'DejaVu Sans Mono',consolas,'Courier New',monospace\"><span style=\"font-weight: bold\">Model: \"functional_2\"</span>\n",
       "</pre>\n"
      ],
      "text/plain": [
       "\u001b[1mModel: \"functional_2\"\u001b[0m\n"
      ]
     },
     "metadata": {},
     "output_type": "display_data"
    },
    {
     "data": {
      "text/html": [
       "<pre style=\"white-space:pre;overflow-x:auto;line-height:normal;font-family:Menlo,'DejaVu Sans Mono',consolas,'Courier New',monospace\">┏━━━━━━━━━━━━━━━━━━━━━━━━━━━━━━━━━┳━━━━━━━━━━━━━━━━━━━━━━━━┳━━━━━━━━━━━━━━━┓\n",
       "┃<span style=\"font-weight: bold\"> Layer (type)                    </span>┃<span style=\"font-weight: bold\"> Output Shape           </span>┃<span style=\"font-weight: bold\">       Param # </span>┃\n",
       "┡━━━━━━━━━━━━━━━━━━━━━━━━━━━━━━━━━╇━━━━━━━━━━━━━━━━━━━━━━━━╇━━━━━━━━━━━━━━━┩\n",
       "│ input_layer_1 (<span style=\"color: #0087ff; text-decoration-color: #0087ff\">InputLayer</span>)      │ (<span style=\"color: #00d7ff; text-decoration-color: #00d7ff\">None</span>, <span style=\"color: #00af00; text-decoration-color: #00af00\">16028</span>)          │             <span style=\"color: #00af00; text-decoration-color: #00af00\">0</span> │\n",
       "├─────────────────────────────────┼────────────────────────┼───────────────┤\n",
       "│ dense_2 (<span style=\"color: #0087ff; text-decoration-color: #0087ff\">Dense</span>)                 │ (<span style=\"color: #00d7ff; text-decoration-color: #00d7ff\">None</span>, <span style=\"color: #00af00; text-decoration-color: #00af00\">500</span>)            │     <span style=\"color: #00af00; text-decoration-color: #00af00\">8,014,500</span> │\n",
       "├─────────────────────────────────┼────────────────────────┼───────────────┤\n",
       "│ dense_3 (<span style=\"color: #0087ff; text-decoration-color: #0087ff\">Dense</span>)                 │ (<span style=\"color: #00d7ff; text-decoration-color: #00d7ff\">None</span>, <span style=\"color: #00af00; text-decoration-color: #00af00\">16028</span>)          │     <span style=\"color: #00af00; text-decoration-color: #00af00\">8,030,028</span> │\n",
       "└─────────────────────────────────┴────────────────────────┴───────────────┘\n",
       "</pre>\n"
      ],
      "text/plain": [
       "┏━━━━━━━━━━━━━━━━━━━━━━━━━━━━━━━━━┳━━━━━━━━━━━━━━━━━━━━━━━━┳━━━━━━━━━━━━━━━┓\n",
       "┃\u001b[1m \u001b[0m\u001b[1mLayer (type)                   \u001b[0m\u001b[1m \u001b[0m┃\u001b[1m \u001b[0m\u001b[1mOutput Shape          \u001b[0m\u001b[1m \u001b[0m┃\u001b[1m \u001b[0m\u001b[1m      Param #\u001b[0m\u001b[1m \u001b[0m┃\n",
       "┡━━━━━━━━━━━━━━━━━━━━━━━━━━━━━━━━━╇━━━━━━━━━━━━━━━━━━━━━━━━╇━━━━━━━━━━━━━━━┩\n",
       "│ input_layer_1 (\u001b[38;5;33mInputLayer\u001b[0m)      │ (\u001b[38;5;45mNone\u001b[0m, \u001b[38;5;34m16028\u001b[0m)          │             \u001b[38;5;34m0\u001b[0m │\n",
       "├─────────────────────────────────┼────────────────────────┼───────────────┤\n",
       "│ dense_2 (\u001b[38;5;33mDense\u001b[0m)                 │ (\u001b[38;5;45mNone\u001b[0m, \u001b[38;5;34m500\u001b[0m)            │     \u001b[38;5;34m8,014,500\u001b[0m │\n",
       "├─────────────────────────────────┼────────────────────────┼───────────────┤\n",
       "│ dense_3 (\u001b[38;5;33mDense\u001b[0m)                 │ (\u001b[38;5;45mNone\u001b[0m, \u001b[38;5;34m16028\u001b[0m)          │     \u001b[38;5;34m8,030,028\u001b[0m │\n",
       "└─────────────────────────────────┴────────────────────────┴───────────────┘\n"
      ]
     },
     "metadata": {},
     "output_type": "display_data"
    },
    {
     "data": {
      "text/html": [
       "<pre style=\"white-space:pre;overflow-x:auto;line-height:normal;font-family:Menlo,'DejaVu Sans Mono',consolas,'Courier New',monospace\"><span style=\"font-weight: bold\"> Total params: </span><span style=\"color: #00af00; text-decoration-color: #00af00\">16,044,528</span> (61.21 MB)\n",
       "</pre>\n"
      ],
      "text/plain": [
       "\u001b[1m Total params: \u001b[0m\u001b[38;5;34m16,044,528\u001b[0m (61.21 MB)\n"
      ]
     },
     "metadata": {},
     "output_type": "display_data"
    },
    {
     "data": {
      "text/html": [
       "<pre style=\"white-space:pre;overflow-x:auto;line-height:normal;font-family:Menlo,'DejaVu Sans Mono',consolas,'Courier New',monospace\"><span style=\"font-weight: bold\"> Trainable params: </span><span style=\"color: #00af00; text-decoration-color: #00af00\">16,044,528</span> (61.21 MB)\n",
       "</pre>\n"
      ],
      "text/plain": [
       "\u001b[1m Trainable params: \u001b[0m\u001b[38;5;34m16,044,528\u001b[0m (61.21 MB)\n"
      ]
     },
     "metadata": {},
     "output_type": "display_data"
    },
    {
     "data": {
      "text/html": [
       "<pre style=\"white-space:pre;overflow-x:auto;line-height:normal;font-family:Menlo,'DejaVu Sans Mono',consolas,'Courier New',monospace\"><span style=\"font-weight: bold\"> Non-trainable params: </span><span style=\"color: #00af00; text-decoration-color: #00af00\">0</span> (0.00 B)\n",
       "</pre>\n"
      ],
      "text/plain": [
       "\u001b[1m Non-trainable params: \u001b[0m\u001b[38;5;34m0\u001b[0m (0.00 B)\n"
      ]
     },
     "metadata": {},
     "output_type": "display_data"
    }
   ],
   "source": [
    "# Define the autoencoder architecture\n",
    "input_dim = extra_train.shape[1]\n",
    "encoding_dim = 500\n",
    "\n",
    "# Set the encoding dimension\n",
    "input_layer = keras.layers.Input(shape=(input_dim,))\n",
    "encoder = keras.layers.Dense(encoding_dim, activation=\"relu\")(input_layer)\n",
    "decoder = keras.layers.Dense(input_dim, activation=\"sigmoid\")(encoder)\n",
    "autoencoder = keras.Model(inputs=input_layer, outputs=decoder)\n",
    "\n",
    "# Compile the autoencoder\n",
    "autoencoder.compile(optimizer='adam', loss='mse')\n",
    "\n",
    "# Summary of the autoencoder architecture\n",
    "autoencoder.summary()"
   ]
  },
  {
   "cell_type": "code",
   "execution_count": 21,
   "metadata": {},
   "outputs": [
    {
     "name": "stdout",
     "output_type": "stream",
     "text": [
      "Epoch 1/10\n",
      "\u001b[1m42/42\u001b[0m \u001b[32m━━━━━━━━━━━━━━━━━━━━\u001b[0m\u001b[37m\u001b[0m \u001b[1m6s\u001b[0m 122ms/step - loss: 0.9108 - val_loss: 0.8095\n",
      "Epoch 2/10\n",
      "\u001b[1m42/42\u001b[0m \u001b[32m━━━━━━━━━━━━━━━━━━━━\u001b[0m\u001b[37m\u001b[0m \u001b[1m5s\u001b[0m 123ms/step - loss: 0.7894 - val_loss: 0.7784\n",
      "Epoch 3/10\n",
      "\u001b[1m42/42\u001b[0m \u001b[32m━━━━━━━━━━━━━━━━━━━━\u001b[0m\u001b[37m\u001b[0m \u001b[1m5s\u001b[0m 115ms/step - loss: 0.7586 - val_loss: 0.7513\n",
      "Epoch 4/10\n",
      "\u001b[1m42/42\u001b[0m \u001b[32m━━━━━━━━━━━━━━━━━━━━\u001b[0m\u001b[37m\u001b[0m \u001b[1m5s\u001b[0m 115ms/step - loss: 0.7264 - val_loss: 0.7310\n",
      "Epoch 5/10\n",
      "\u001b[1m42/42\u001b[0m \u001b[32m━━━━━━━━━━━━━━━━━━━━\u001b[0m\u001b[37m\u001b[0m \u001b[1m5s\u001b[0m 116ms/step - loss: 0.6980 - val_loss: 0.7181\n",
      "Epoch 6/10\n",
      "\u001b[1m42/42\u001b[0m \u001b[32m━━━━━━━━━━━━━━━━━━━━\u001b[0m\u001b[37m\u001b[0m \u001b[1m5s\u001b[0m 117ms/step - loss: 0.6801 - val_loss: 0.7100\n",
      "Epoch 7/10\n",
      "\u001b[1m42/42\u001b[0m \u001b[32m━━━━━━━━━━━━━━━━━━━━\u001b[0m\u001b[37m\u001b[0m \u001b[1m4s\u001b[0m 106ms/step - loss: 0.6605 - val_loss: 0.7030\n",
      "Epoch 8/10\n",
      "\u001b[1m42/42\u001b[0m \u001b[32m━━━━━━━━━━━━━━━━━━━━\u001b[0m\u001b[37m\u001b[0m \u001b[1m5s\u001b[0m 121ms/step - loss: 0.6504 - val_loss: 0.6982\n",
      "Epoch 9/10\n",
      "\u001b[1m42/42\u001b[0m \u001b[32m━━━━━━━━━━━━━━━━━━━━\u001b[0m\u001b[37m\u001b[0m \u001b[1m5s\u001b[0m 122ms/step - loss: 0.6383 - val_loss: 0.6951\n",
      "Epoch 10/10\n",
      "\u001b[1m42/42\u001b[0m \u001b[32m━━━━━━━━━━━━━━━━━━━━\u001b[0m\u001b[37m\u001b[0m \u001b[1m5s\u001b[0m 127ms/step - loss: 0.6314 - val_loss: 0.6930\n"
     ]
    },
    {
     "data": {
      "text/plain": [
       "<keras.src.callbacks.history.History at 0x7fb1c0f817c0>"
      ]
     },
     "execution_count": 21,
     "metadata": {},
     "output_type": "execute_result"
    }
   ],
   "source": [
    "autoencoder.fit(extra_train, extra_train, epochs=10, batch_size=32, shuffle=True, validation_data=(extra_test, extra_test))"
   ]
  },
  {
   "cell_type": "code",
   "execution_count": 22,
   "metadata": {},
   "outputs": [
    {
     "name": "stdout",
     "output_type": "stream",
     "text": [
      "Epoch 1/10\n",
      "\u001b[1m19/19\u001b[0m \u001b[32m━━━━━━━━━━━━━━━━━━━━\u001b[0m\u001b[37m\u001b[0m \u001b[1m3s\u001b[0m 131ms/step - loss: 0.8093 - val_loss: 0.7641\n",
      "Epoch 2/10\n",
      "\u001b[1m19/19\u001b[0m \u001b[32m━━━━━━━━━━━━━━━━━━━━\u001b[0m\u001b[37m\u001b[0m \u001b[1m2s\u001b[0m 118ms/step - loss: 0.7659 - val_loss: 0.7637\n",
      "Epoch 3/10\n",
      "\u001b[1m19/19\u001b[0m \u001b[32m━━━━━━━━━━━━━━━━━━━━\u001b[0m\u001b[37m\u001b[0m \u001b[1m2s\u001b[0m 120ms/step - loss: 0.7577 - val_loss: 0.7619\n",
      "Epoch 4/10\n",
      "\u001b[1m19/19\u001b[0m \u001b[32m━━━━━━━━━━━━━━━━━━━━\u001b[0m\u001b[37m\u001b[0m \u001b[1m2s\u001b[0m 119ms/step - loss: 0.7493 - val_loss: 0.7609\n",
      "Epoch 5/10\n",
      "\u001b[1m19/19\u001b[0m \u001b[32m━━━━━━━━━━━━━━━━━━━━\u001b[0m\u001b[37m\u001b[0m \u001b[1m2s\u001b[0m 119ms/step - loss: 0.7206 - val_loss: 0.7599\n",
      "Epoch 6/10\n",
      "\u001b[1m19/19\u001b[0m \u001b[32m━━━━━━━━━━━━━━━━━━━━\u001b[0m\u001b[37m\u001b[0m \u001b[1m2s\u001b[0m 119ms/step - loss: 0.7206 - val_loss: 0.7595\n",
      "Epoch 7/10\n",
      "\u001b[1m19/19\u001b[0m \u001b[32m━━━━━━━━━━━━━━━━━━━━\u001b[0m\u001b[37m\u001b[0m \u001b[1m2s\u001b[0m 117ms/step - loss: 0.7255 - val_loss: 0.7593\n",
      "Epoch 8/10\n",
      "\u001b[1m19/19\u001b[0m \u001b[32m━━━━━━━━━━━━━━━━━━━━\u001b[0m\u001b[37m\u001b[0m \u001b[1m2s\u001b[0m 121ms/step - loss: 0.7201 - val_loss: 0.7591\n",
      "Epoch 9/10\n",
      "\u001b[1m19/19\u001b[0m \u001b[32m━━━━━━━━━━━━━━━━━━━━\u001b[0m\u001b[37m\u001b[0m \u001b[1m2s\u001b[0m 119ms/step - loss: 0.7168 - val_loss: 0.7588\n",
      "Epoch 10/10\n",
      "\u001b[1m19/19\u001b[0m \u001b[32m━━━━━━━━━━━━━━━━━━━━\u001b[0m\u001b[37m\u001b[0m \u001b[1m2s\u001b[0m 120ms/step - loss: 0.7132 - val_loss: 0.7591\n"
     ]
    },
    {
     "data": {
      "text/plain": [
       "<keras.src.callbacks.history.History at 0x7fb0e167f7f0>"
      ]
     },
     "execution_count": 22,
     "metadata": {},
     "output_type": "execute_result"
    }
   ],
   "source": [
    "# Fine-tune the autoencoder\n",
    "autoencoder.fit(fine_tune_train, fine_tune_train, epochs=10, batch_size=32, shuffle=True, validation_data=(fine_tune_test, fine_tune_test))"
   ]
  },
  {
   "cell_type": "code",
   "execution_count": 23,
   "metadata": {},
   "outputs": [
    {
     "name": "stdout",
     "output_type": "stream",
     "text": [
      "\u001b[1m19/19\u001b[0m \u001b[32m━━━━━━━━━━━━━━━━━━━━\u001b[0m\u001b[37m\u001b[0m \u001b[1m0s\u001b[0m 5ms/step\n",
      "\u001b[1m5/5\u001b[0m \u001b[32m━━━━━━━━━━━━━━━━━━━━\u001b[0m\u001b[37m\u001b[0m \u001b[1m0s\u001b[0m 4ms/step \n",
      "Encoded Features Shape (Train): (593, 500)\n",
      "Encoded Features Shape (Test): (149, 500)\n"
     ]
    },
    {
     "data": {
      "image/png": "[encoded data removed]",
      "text/plain": [
       "<Figure size 432x288 with 2 Axes>"
      ]
     },
     "metadata": {
      "needs_background": "light"
     },
     "output_type": "display_data"
    }
   ],
   "source": [
    "# Use encoder part of the autoencoder for feature selection\n",
    "encoder = keras.Model(inputs=autoencoder.input, outputs=autoencoder.layers[1].output)\n",
    "encoded_features_train = encoder.predict(fine_tune_train)\n",
    "encoded_features_test = encoder.predict(fine_tune_test)\n",
    "\n",
    "# Display the shape of extracted features\n",
    "print(\"Encoded Features Shape (Train):\", encoded_features_train.shape)\n",
    "print(\"Encoded Features Shape (Test):\", encoded_features_test.shape)\n",
    "# plot all encoded features\n",
    "plt.scatter(encoded_features_train[:,0], encoded_features_train[:,1], c = y_train['AAC'], cmap='viridis')\n",
    "plt.colorbar()\n",
    "plt.show()"
   ]
  },
  {
   "cell_type": "code",
   "execution_count": 24,
   "metadata": {},
   "outputs": [
    {
     "name": "stdout",
     "output_type": "stream",
     "text": [
      "--- Encoded Features ---\n",
      "Mean Squared Error (MSE): 0.04208095010284664\n",
      "R-squared (R²): -4.621226525503842\n",
      "Spearman's Correlation (ρ): 0.18302392801016779\n",
      "P-value (Spearman): 0.025471003963444098\n"
     ]
    }
   ],
   "source": [
    "# --- Encoded Features ---\n",
    "# Fit a linear regression model using the encoded features\n",
    "encoded_model = LinearRegression()\n",
    "encoded_model.fit(encoded_features_train, y_train)\n",
    "\n",
    "# Make predictions on the test set\n",
    "y_pred_encoded = encoded_model.predict(encoded_features_test)\n",
    "\n",
    "# Calculate regression metrics\n",
    "mse_encoded = mean_squared_error(y_test, y_pred_encoded)\n",
    "r2_encoded = r2_score(y_test, y_pred_encoded)\n",
    "\n",
    "# Calculate Spearman's rank correlation for encoded features\n",
    "spearman_encoded, p_value_encoded = spearmanr(y_test, y_pred_encoded)\n",
    "\n",
    "print(\"--- Encoded Features ---\")\n",
    "print(\"Mean Squared Error (MSE):\", mse_encoded)\n",
    "print(\"R-squared (R²):\", r2_encoded)\n",
    "print(\"Spearman's Correlation (ρ):\", spearman_encoded)\n",
    "print(\"P-value (Spearman):\", p_value_encoded)"
   ]
  },
  {
   "cell_type": "code",
   "execution_count": null,
   "metadata": {},
   "outputs": [
    {
     "name": "stdout",
     "output_type": "stream",
     "text": [
      "Epoch 1/10, Train Loss: 1.6073, Val Loss: 0.2975\n",
      "Epoch 2/10, Train Loss: 0.0940, Val Loss: 0.0343\n",
      "Epoch 3/10, Train Loss: 0.0281, Val Loss: 0.0223\n",
      "Epoch 4/10, Train Loss: 0.0206, Val Loss: 0.0181\n",
      "Epoch 5/10, Train Loss: 0.0167, Val Loss: 0.0168\n",
      "Epoch 6/10, Train Loss: 0.0143, Val Loss: 0.0116\n",
      "Epoch 7/10, Train Loss: 0.0113, Val Loss: 0.0111\n",
      "Epoch 8/10, Train Loss: 0.0105, Val Loss: 0.0098\n",
      "Epoch 9/10, Train Loss: 0.0088, Val Loss: 0.0085\n",
      "Epoch 10/10, Train Loss: 0.0076, Val Loss: 0.0074\n"
     ]
    }
   ],
   "source": [
    "device = torch.device(\"cuda\" if torch.cuda.is_available() else \"cpu\")\n",
    "\n",
    "# Normalize the data\n",
    "scaler = MinMaxScaler()\n",
    "new_X_train_scaled = scaler.fit_transform(extra_train)\n",
    "\n",
    "# Convert to tensor\n",
    "new_X_train_tensor = torch.tensor(new_X_train_scaled, dtype=torch.float32)\n",
    "new_dataset = torch.TensorDataset(new_X_train_tensor)\n",
    "new_train_loader = torch.DataLoader(new_dataset, batch_size=32, shuffle=True)\n",
    "new_X_test_tensor = torch.tensor(scaler.transform(extra_test), dtype=torch.float32)\n",
    "new_test_dataset = torch.TensorDataset(new_X_test_tensor)\n",
    "new_test_loader = torch.DataLoader(new_test_dataset, batch_size=32, shuffle=False)\n",
    "\n",
    "X_train_scaled = scaler.fit_transform(fine_tune_train)\n",
    "X_train_tensor = torch.tensor(X_train_scaled, dtype=torch.float32)\n",
    "dataset = torch.TensorDataset(X_train_tensor)\n",
    "train_loader = torch.DataLoader(dataset, batch_size=32, shuffle=True)\n",
    "\n",
    "X_test_tensor = torch.tensor(scaler.transform(fine_tune_test), dtype=torch.float32)\n",
    "test_dataset = torch.TensorDataset(X_test_tensor)\n",
    "test_loader = torch.DataLoader(test_dataset, batch_size=32, shuffle=False)\n",
    "input_dim = extra_train.shape[1]\n",
    "latent_dim = 2\n",
    "augmented_model = VAE(input_dim=input_dim, latent_dim=latent_dim).to(device)\n",
    "optimizer = torch.optim.Adam(augmented_model.parameters(), lr=1e-3)\n",
    "train(augmented_model, new_train_loader,new_test_loader, optimizer, epochs=10, device=device)\n"
   ]
  },
  {
   "cell_type": "code",
   "execution_count": 26,
   "metadata": {},
   "outputs": [
    {
     "name": "stdout",
     "output_type": "stream",
     "text": [
      "Epoch 1/20, Train Loss: 0.1036, Val Loss: 0.0767\n",
      "Epoch 2/20, Train Loss: 0.0337, Val Loss: 0.0258\n",
      "Epoch 3/20, Train Loss: 0.0123, Val Loss: 0.0153\n",
      "Epoch 4/20, Train Loss: 0.0072, Val Loss: 0.0126\n",
      "Epoch 5/20, Train Loss: 0.0053, Val Loss: 0.0110\n",
      "Epoch 6/20, Train Loss: 0.0045, Val Loss: 0.0101\n",
      "Epoch 7/20, Train Loss: 0.0038, Val Loss: 0.0097\n",
      "Epoch 8/20, Train Loss: 0.0034, Val Loss: 0.0092\n",
      "Epoch 9/20, Train Loss: 0.0031, Val Loss: 0.0089\n",
      "Epoch 10/20, Train Loss: 0.0028, Val Loss: 0.0086\n",
      "Epoch 11/20, Train Loss: 0.0026, Val Loss: 0.0086\n",
      "Epoch 12/20, Train Loss: 0.0024, Val Loss: 0.0082\n",
      "Epoch 13/20, Train Loss: 0.0023, Val Loss: 0.0081\n",
      "Epoch 14/20, Train Loss: 0.0021, Val Loss: 0.0079\n",
      "Epoch 15/20, Train Loss: 0.0020, Val Loss: 0.0078\n",
      "Epoch 16/20, Train Loss: 0.0019, Val Loss: 0.0077\n",
      "Epoch 17/20, Train Loss: 0.0018, Val Loss: 0.0075\n",
      "Epoch 18/20, Train Loss: 0.0017, Val Loss: 0.0075\n",
      "Epoch 19/20, Train Loss: 0.0016, Val Loss: 0.0074\n",
      "Epoch 20/20, Train Loss: 0.0016, Val Loss: 0.0072\n"
     ]
    }
   ],
   "source": [
    "# Fine-Tune the VAE\n",
    "train(augmented_model, train_loader,test_loader, optimizer, epochs=20, device=device)"
   ]
  },
  {
   "cell_type": "code",
   "execution_count": 27,
   "metadata": {},
   "outputs": [
    {
     "name": "stdout",
     "output_type": "stream",
     "text": [
      "(593, 50)\n"
     ]
    }
   ],
   "source": [
    "# Extract latent features from X_train\n",
    "new_latent_train,_ = augmented_model.encode(X_train_tensor)\n",
    "new_latent_test,_ = augmented_model.encode(X_test_tensor)\n",
    "new_latent_train = new_latent_train.detach().numpy()\n",
    "new_latent_test = new_latent_test.detach().numpy()\n",
    "print(new_latent_train.shape) "
   ]
  },
  {
   "cell_type": "code",
   "execution_count": 28,
   "metadata": {},
   "outputs": [
    {
     "data": {
      "image/png": "[encoded data removed]",
      "text/plain": [
       "<Figure size 432x288 with 2 Axes>"
      ]
     },
     "metadata": {
      "needs_background": "light"
     },
     "output_type": "display_data"
    }
   ],
   "source": [
    "# plot all encoded features\n",
    "plt.scatter(new_latent_train[:,0], new_latent_train[:,1], c = y_train['AAC'], cmap='viridis')\n",
    "plt.colorbar()\n",
    "plt.show()"
   ]
  },
  {
   "cell_type": "code",
   "execution_count": 29,
   "metadata": {},
   "outputs": [
    {
     "name": "stdout",
     "output_type": "stream",
     "text": [
      "--- VAE Encoded Features ---\n",
      "Mean Squared Error (MSE): 0.015442601678546079\n",
      "R-squared (R²): -1.0628422591713584\n",
      "Spearman's Correlation (ρ): 0.33455499234096137\n"
     ]
    }
   ],
   "source": [
    "vae_augmented_model = LinearRegression()\n",
    "vae_augmented_model.fit(new_latent_train, y_train)\n",
    "new_y_pred_vae = vae_augmented_model.predict(new_latent_test)\n",
    "# Calculate regression metrics\n",
    "mse_vae_augmented = mean_squared_error(y_test, new_y_pred_vae)\n",
    "r2_vae_augmented = r2_score(y_test, new_y_pred_vae)\n",
    "spearman_vae_augmented, p_value_vae_augmented = spearmanr(y_test, new_y_pred_vae)\n",
    "\n",
    "# Print the results\n",
    "print(\"--- VAE Encoded Features ---\")\n",
    "print(\"Mean Squared Error (MSE):\", mse_vae_augmented)\n",
    "print(\"R-squared (R²):\", r2_vae_augmented)\n",
    "print(\"Spearman's Correlation (ρ):\", spearman_vae_augmented)"
   ]
  }
 ],
 "metadata": {
  "kernelspec": {
   "display_name": "base",
   "language": "python",
   "name": "python3"
  },
  "language_info": {
   "codemirror_mode": {
    "name": "ipython",
    "version": 3
   },
   "file_extension": ".py",
   "mimetype": "text/x-python",
   "name": "python",
   "nbconvert_exporter": "python",
   "pygments_lexer": "ipython3",
   "version": "3.9.12"
  }
 },
 "nbformat": 4,
 "nbformat_minor": 2
}
