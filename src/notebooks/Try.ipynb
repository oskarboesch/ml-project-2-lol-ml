{
 "cells": [
  {
   "cell_type": "code",
   "execution_count": 3,
   "metadata": {},
   "outputs": [
    {
     "ename": "ModuleNotFoundError",
     "evalue": "No module named 'torch'",
     "output_type": "error",
     "traceback": [
      "\u001b[0;31m---------------------------------------------------------------------------\u001b[0m",
      "\u001b[0;31mModuleNotFoundError\u001b[0m                       Traceback (most recent call last)",
      "Cell \u001b[0;32mIn[3], line 8\u001b[0m\n\u001b[1;32m      5\u001b[0m \u001b[38;5;28;01mfrom\u001b[39;00m \u001b[38;5;21;01msklearn\u001b[39;00m\u001b[38;5;21;01m.\u001b[39;00m\u001b[38;5;21;01mmodel_selection\u001b[39;00m \u001b[38;5;28;01mimport\u001b[39;00m train_test_split\n\u001b[1;32m      7\u001b[0m sys\u001b[38;5;241m.\u001b[39mpath\u001b[38;5;241m.\u001b[39mappend(\u001b[38;5;124m\"\u001b[39m\u001b[38;5;124m../utils\u001b[39m\u001b[38;5;124m\"\u001b[39m)\n\u001b[0;32m----> 8\u001b[0m \u001b[38;5;28;01mfrom\u001b[39;00m \u001b[38;5;21;01mutils\u001b[39;00m \u001b[38;5;28;01mimport\u001b[39;00m load_data\n\u001b[1;32m     10\u001b[0m \u001b[38;5;28;01mfrom\u001b[39;00m \u001b[38;5;21;01msklearn\u001b[39;00m\u001b[38;5;21;01m.\u001b[39;00m\u001b[38;5;21;01mensemble\u001b[39;00m \u001b[38;5;28;01mimport\u001b[39;00m RandomForestRegressor\n\u001b[1;32m     11\u001b[0m \u001b[38;5;28;01mfrom\u001b[39;00m \u001b[38;5;21;01msklearn\u001b[39;00m\u001b[38;5;21;01m.\u001b[39;00m\u001b[38;5;21;01mlinear_model\u001b[39;00m \u001b[38;5;28;01mimport\u001b[39;00m LinearRegression\n",
      "File \u001b[0;32m~/Documents/GitHub/ml-project-2-lol-ml/src/notebooks/../utils/utils.py:6\u001b[0m\n\u001b[1;32m      4\u001b[0m \u001b[38;5;28;01mimport\u001b[39;00m \u001b[38;5;21;01mnumpy\u001b[39;00m \u001b[38;5;28;01mas\u001b[39;00m \u001b[38;5;21;01mnp\u001b[39;00m\n\u001b[1;32m      5\u001b[0m \u001b[38;5;28;01mimport\u001b[39;00m \u001b[38;5;21;01mos\u001b[39;00m\n\u001b[0;32m----> 6\u001b[0m \u001b[38;5;28;01mimport\u001b[39;00m \u001b[38;5;21;01mtorch\u001b[39;00m\n\u001b[1;32m      7\u001b[0m \u001b[38;5;28;01mimport\u001b[39;00m \u001b[38;5;21;01mtensorflow\u001b[39;00m \u001b[38;5;28;01mas\u001b[39;00m \u001b[38;5;21;01mtf\u001b[39;00m\n\u001b[1;32m      8\u001b[0m \u001b[38;5;28;01mimport\u001b[39;00m \u001b[38;5;21;01mrandom\u001b[39;00m\n",
      "\u001b[0;31mModuleNotFoundError\u001b[0m: No module named 'torch'"
     ]
    }
   ],
   "source": [
    "# Import all necessary libraries\n",
    "import pandas as pd\n",
    "import numpy as np\n",
    "import sys\n",
    "from sklearn.model_selection import train_test_split\n",
    "\n",
    "sys.path.append(\"../utils\")\n",
    "from utils import load_data\n",
    "\n",
    "from sklearn.ensemble import RandomForestRegressor\n",
    "from sklearn.linear_model import LinearRegression\n",
    "from sklearn.metrics import mean_squared_error, r2_score\n",
    "from scipy.stats import spearmanr\n",
    "from sklearn.neural_network import MLPRegressor\n",
    "import shap\n",
    "from pathlib import Path"
   ]
  },
  {
   "cell_type": "code",
   "execution_count": 87,
   "metadata": {},
   "outputs": [],
   "source": [
    "# Load the data \n",
    "data_train, data_test , targets= load_data(raw=False)\n",
    "_,_, targets_train = load_data(raw=True)"
   ]
  },
  {
   "cell_type": "code",
   "execution_count": 40,
   "metadata": {},
   "outputs": [],
   "source": [
    "\n",
    "project_root = Path().resolve().parent.parent\n",
    "sys.path.append(str(project_root))\n",
    "# Load the data\n",
    "data_path = project_root / 'data' \n",
    "cgc_file = pd.read_csv(data_path / 'CGC.csv')\n",
    "\n",
    "# Create the CGC array \n",
    "cgc_genes = cgc_file['Gene Symbol']\n",
    "\n",
    "# Extract CGC genes\n",
    "cgc_genes = np.array(cgc_genes)  # Convert to numpy array"
   ]
  },
  {
   "cell_type": "code",
   "execution_count": 92,
   "metadata": {},
   "outputs": [
    {
     "name": "stdout",
     "output_type": "stream",
     "text": [
      "(742, 735)\n"
     ]
    }
   ],
   "source": [
    "# Filtring our dataset, deleting all the genes not present in the cgc_genes dataset\n",
    "gene_train  = set(data_train.columns)\n",
    "filtered_data_train = data_train.loc[:, data_train.columns.intersection(cgc_genes)]\n",
    "print (filtered_data_train.shape)"
   ]
  },
  {
   "cell_type": "code",
   "execution_count": 107,
   "metadata": {},
   "outputs": [
    {
     "name": "stdout",
     "output_type": "stream",
     "text": [
      "['Prostate' 'Esophagus/Stomach' 'Bladder/Urinary Tract' 'CNS/Brain'\n",
      " 'Lymphoid' 'Kidney' 'Thyroid' 'Soft Tissue' 'Skin' 'Lung' 'Bone'\n",
      " 'Ovary/Fallopian Tube' 'Pleura' 'Myeloid' 'Uterus' 'Pancreas' 'Breast'\n",
      " 'Head and Neck' 'Bowel' 'Peripheral Nervous System' 'Cervix' 'Liver'\n",
      " 'Biliary Tract' 'Other' 'Ampulla of Vater']\n"
     ]
    }
   ],
   "source": [
    "tissue_types = targets_train['tissue'].str.strip().unique()\n",
    "print (tissue_types)"
   ]
  },
  {
   "cell_type": "code",
   "execution_count": 135,
   "metadata": {},
   "outputs": [
    {
     "name": "stdout",
     "output_type": "stream",
     "text": [
      "Skipping tissue 'Cervix' due to insufficient data (n=1).\n",
      "                  Tissue  Number of Samples       MSE  Spearman's Correlation\n",
      "0      Esophagus/Stomach                 54  0.005973                0.118182\n",
      "1              CNS/Brain                 45  0.000992                0.400000\n",
      "2               Lymphoid                 93  0.004180                0.514035\n",
      "3                   Skin                 48  0.002027                0.272727\n",
      "4                   Lung                128  0.011013                0.386391\n",
      "5   Ovary/Fallopian Tube                 37  0.006338               -0.380952\n",
      "6                Myeloid                 39  0.006406                0.738095\n",
      "7               Pancreas                 36  0.004582               -0.476190\n",
      "8                 Breast                 33  0.001850                0.678571\n",
      "9          Head and Neck                 30  0.004953                0.714286\n",
      "10                 Bowel                 39  0.007700                0.238095\n"
     ]
    }
   ],
   "source": [
    "# Placeholder for results\n",
    "results = []\n",
    "\n",
    "# Step 1: Extract unique tissue types from targets_train\n",
    "tissue_types = targets_train['tissue'].str.strip().unique()\n",
    "\n",
    "for tissue in tissue_types:\n",
    "\n",
    "    # Filter rows in targets_train for the current tissue type\n",
    "    filtred_target_tissue = targets_train[targets_train['tissue'].str.contains(tissue, case=False, na=False)]\n",
    "    \n",
    "    # Get the indices of these rows\n",
    "    tissue_indices = filtred_target_tissue.index\n",
    "    \n",
    "    # Filter rows in train_target based on these indices\n",
    "    filtered_train_tissue = filtered_data_train.iloc[tissue_indices]\n",
    "\n",
    "    # Prepare feature matrix X and target vector Y\n",
    "    X = filtered_train_tissue\n",
    "    Y = filtred_target_tissue['AAC']\n",
    "    \n",
    "    # Number of samples for the tissue\n",
    "    num_samples = len(X)\n",
    "    \n",
    "    # Check the size of the dataset\n",
    "    if num_samples < 2:\n",
    "        # Skip tissues with less than 2 samples\n",
    "        print(f\"Skipping tissue '{tissue}' due to insufficient data (n={num_samples}).\")\n",
    "        continue\n",
    "    \n",
    "    if num_samples >=30:\n",
    "        # Split the data\n",
    "        X_train, X_val, y_train, y_val = train_test_split(X, Y, test_size=0.2, random_state=42)\n",
    "        \n",
    "        # Train a Random Forest model\n",
    "        random_forest = RandomForestRegressor(n_estimators=100, random_state=42)\n",
    "        random_forest.fit(X_train, y_train)\n",
    "        \n",
    "        # Predict on validation data\n",
    "        y_val_pred = random_forest.predict(X_val)\n",
    "        \n",
    "        # Evaluate the model\n",
    "        mse = mean_squared_error(y_val, y_val_pred)\n",
    "        spearman_corr, p_value = spearmanr(y_val, y_val_pred)\n",
    "\n",
    "        if spearman_corr > 0.70: \n",
    "\n",
    "            # Create SHAP explainer\n",
    "        explainer = shap.TreeExplainer(random_forest)\n",
    "\n",
    "        # Calculate SHAP values for the validation set\n",
    "        shap_values = explainer.shap_values(X_val)\n",
    "\n",
    "        # Check the shape of shap_values\n",
    "        print(f\"shap_values shape: {np.array(shap_values).shape}\")\n",
    "\n",
    "        # If it's a binary classification\n",
    "        if isinstance(shap_values, list) and len(shap_values) == 2:  # Binary case with probabilities\n",
    "            shap_values_to_plot = shap_values[1]  # Focus on the positive class\n",
    "        else:\n",
    "            shap_values_to_plot = shap_values  # Single output case\n",
    "\n",
    "        # Visualize global feature importance\n",
    "        shap.summary_plot(shap_values_to_plot, X_val)\n",
    "        \n",
    "\n",
    "        # Store the results for this tissue type\n",
    "        results.append({\n",
    "            'Tissue': tissue,\n",
    "            'Number of Samples': num_samples,\n",
    "            'MSE': mse,\n",
    "            \"Spearman's Correlation\": spearman_corr\n",
    "        })\n",
    "    \n",
    "\n",
    "# Convert results to a DataFrame for better visualization\n",
    "results_df = pd.DataFrame(results)\n",
    "\n",
    "print(results_df) \n"
   ]
  },
  {
   "cell_type": "code",
   "execution_count": null,
   "metadata": {},
   "outputs": [],
   "source": []
  }
 ],
 "metadata": {
  "kernelspec": {
   "display_name": "new_env",
   "language": "python",
   "name": "python3"
  },
  "language_info": {
   "codemirror_mode": {
    "name": "ipython",
    "version": 3
   },
   "file_extension": ".py",
   "mimetype": "text/x-python",
   "name": "python",
   "nbconvert_exporter": "python",
   "pygments_lexer": "ipython3",
   "version": "3.9.20"
  }
 },
 "nbformat": 4,
 "nbformat_minor": 2
}
